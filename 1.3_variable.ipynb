{
 "cells": [
  {
   "cell_type": "markdown",
   "source": [
    "## 1.3 변수 소개"
   ],
   "metadata": {
    "id": "qFdPvlXBOdUN"
   }
  },
  {
   "cell_type": "markdown",
   "source": [
    "TensorFlow **변수**는 프로그램이 조작하는 공유 영구 상태를 나타내는 권장 방법입니다. 이 가이드는 TensorFlow에서 `tf.Variable` 인스턴스를 작성, 업데이트 및 관리하는 방법을 설명합니다.\n",
    "\n",
    "변수는 `tf.Variable` 클래스를 통해 생성 및 추적됩니다. `tf.Variable`은 ops를 실행하여 값을 변경할 수 있는 텐서를 나타냅니다. 특정 ops를 사용하면 이 텐서의 값을 읽고 수정할 수 있습니다. `tf.keras`와 같은 상위 수준의 라이브러리는 `tf.Variable`을 사용하여 모델 매개변수를 저장합니다. "
   ],
   "metadata": {
    "id": "AKhB9CMxndDs"
   }
  },
  {
   "cell_type": "markdown",
   "source": [
    "### 설정"
   ],
   "metadata": {
    "id": "xZoJJ4vdvTrD"
   }
  },
  {
   "cell_type": "code",
   "execution_count": 1,
   "source": [
    "import tensorflow as tf"
   ],
   "outputs": [],
   "metadata": {
    "execution": {
     "iopub.execute_input": "2020-11-12T01:39:34.186258Z",
     "iopub.status.busy": "2020-11-12T01:39:34.185580Z",
     "iopub.status.idle": "2020-11-12T01:39:39.950475Z",
     "shell.execute_reply": "2020-11-12T01:39:39.950875Z"
    },
    "id": "7tUZJk7lDiGo"
   }
  },
  {
   "cell_type": "code",
   "execution_count": 2,
   "source": [
    "import logging    # 경고 출력 금지\n",
    "logging.getLogger('tensorflow').disabled = True"
   ],
   "outputs": [],
   "metadata": {}
  },
  {
   "cell_type": "markdown",
   "source": [
    "### 변수 만들기\n",
    "\n",
    "변수를 작성하려면 초기값을 제공합니다. `tf.Variable`은 초기화 값과 같은 `dtype`을 갖습니다."
   ],
   "metadata": {
    "id": "vORGXDarogWm"
   }
  },
  {
   "cell_type": "code",
   "execution_count": 3,
   "source": [
    "my_tensor = tf.constant([[1.0, 2.0], [3.0, 4.0]])\n",
    "my_variable = tf.Variable(my_tensor)\n",
    "\n",
    "bool_variable = tf.Variable([False, False, False, True])\n",
    "complex_variable = tf.Variable([5 + 4j, 6 + 1j])"
   ],
   "outputs": [],
   "metadata": {
    "execution": {
     "iopub.execute_input": "2020-11-12T01:39:41.293802Z",
     "iopub.status.busy": "2020-11-12T01:39:41.293039Z",
     "iopub.status.idle": "2020-11-12T01:39:41.582537Z",
     "shell.execute_reply": "2020-11-12T01:39:41.583018Z"
    },
    "id": "dsYXSqleojj7"
   }
  },
  {
   "cell_type": "markdown",
   "source": [
    "변수는 텐서처럼 보이고 작동하며, 실제로 `tf.Tensor`에서 지원되는 데이터 구조입니다. 텐서와 마찬가지로, `dtype`과 형상을 가지며 NumPy로 내보낼 수 있습니다."
   ],
   "metadata": {
    "id": "VQHwJ_Itoujf"
   }
  },
  {
   "cell_type": "code",
   "execution_count": 4,
   "source": [
    "print(\"Shape: \",my_variable.shape)\n",
    "print(\"DType: \",my_variable.dtype)\n",
    "print(\"As NumPy: \", my_variable.numpy)\n",
    "print(\"NumPy: \", my_variable.numpy())"
   ],
   "outputs": [
    {
     "output_type": "stream",
     "name": "stdout",
     "text": [
      "Shape:  (2, 2)\n",
      "DType:  <dtype: 'float32'>\n",
      "As NumPy:  <bound method BaseResourceVariable.numpy of <tf.Variable 'Variable:0' shape=(2, 2) dtype=float32, numpy=\n",
      "array([[1., 2.],\n",
      "       [3., 4.]], dtype=float32)>>\n"
     ]
    }
   ],
   "metadata": {
    "execution": {
     "iopub.execute_input": "2020-11-12T01:39:41.588072Z",
     "iopub.status.busy": "2020-11-12T01:39:41.587409Z",
     "iopub.status.idle": "2020-11-12T01:39:41.592370Z",
     "shell.execute_reply": "2020-11-12T01:39:41.592778Z"
    },
    "id": "GhNfPwCYpvlq"
   }
  },
  {
   "cell_type": "markdown",
   "source": [
    "변수를 재구성할 수는 없지만, 대부분의 텐서 연산은 예상대로 변수에 대해 작동합니다."
   ],
   "metadata": {
    "id": "eZmSBYViqDoU"
   }
  },
  {
   "cell_type": "code",
   "execution_count": 51,
   "source": [
    "print(\"A variable:\",my_variable)\n",
    "print(\"\\nViewed as a tensor:\", tf.convert_to_tensor(my_variable))\n",
    "print(\"\\nIndex of highest value:\", tf.argmax(my_variable))\n",
    "\n",
    "print(\"\\nCopying and reshaping: \", tf.reshape(my_variable, ([1,4])))"
   ],
   "outputs": [
    {
     "output_type": "stream",
     "name": "stdout",
     "text": [
      "A variable: <tf.Variable 'Variable:0' shape=(2, 2) dtype=float32, numpy=\n",
      "array([[1., 2.],\n",
      "       [3., 4.]], dtype=float32)>\n",
      "\n",
      "Viewed as a tensor: tf.Tensor(\n",
      "[[1. 2.]\n",
      " [3. 4.]], shape=(2, 2), dtype=float32)\n",
      "\n",
      "Index of highest value: tf.Tensor([1 1], shape=(2,), dtype=int64)\n",
      "\n",
      "Copying and reshaping:  tf.Tensor([[1. 2. 3. 4.]], shape=(1, 4), dtype=float32)\n"
     ]
    }
   ],
   "metadata": {
    "execution": {
     "iopub.execute_input": "2020-11-12T01:39:41.596972Z",
     "iopub.status.busy": "2020-11-12T01:39:41.596330Z",
     "iopub.status.idle": "2020-11-12T01:39:41.603150Z",
     "shell.execute_reply": "2020-11-12T01:39:41.602691Z"
    },
    "id": "TrIaExVNp_LK"
   }
  },
  {
   "cell_type": "markdown",
   "source": [
    "위에서 언급했듯이, 변수는 텐서에 의해 지원됩니다. `tf.Variable.assign`을 사용하여 텐서를 재할당할 수 있습니다. `assign`을 호출해도 (일반적으로) 새로운 텐서를 할당하지 않고, 대신 기존 텐서의 메모리가 재사용됩니다."
   ],
   "metadata": {
    "id": "qbLCcG6Pc29Y"
   }
  },
  {
   "cell_type": "code",
   "execution_count": 52,
   "source": [
    "a = tf.Variable([2.0, 3.0])\n",
    "a.assign([1, 2]) \n",
    "\n",
    "try:\n",
    "  a.assign([1.0, 2.0, 3.0])\n",
    "except Exception as e:\n",
    "  print(f\"{type(e).__name__}: {e}\")"
   ],
   "outputs": [
    {
     "output_type": "stream",
     "name": "stdout",
     "text": [
      "ValueError: Cannot assign to variable Variable:0 due to variable shape (2,) and value shape (3,) are incompatible\n"
     ]
    }
   ],
   "metadata": {
    "execution": {
     "iopub.execute_input": "2020-11-12T01:39:41.608564Z",
     "iopub.status.busy": "2020-11-12T01:39:41.607888Z",
     "iopub.status.idle": "2020-11-12T01:39:41.611328Z",
     "shell.execute_reply": "2020-11-12T01:39:41.611705Z"
    },
    "id": "yeEpO309QbB2"
   }
  },
  {
   "cell_type": "markdown",
   "source": [
    "연산에서 텐서와 같은 변수를 사용하는 경우, 일반적으로 지원 텐서에서 작동합니다.\n",
    "\n",
    "기존 변수에서 새 변수를 만들면 지원 텐서가 복제됩니다. 두 변수는 같은메모리를 공유하지 않습니다."
   ],
   "metadata": {
    "id": "okeywjLdQ1tY"
   }
  },
  {
   "cell_type": "code",
   "execution_count": 53,
   "source": [
    "a = tf.Variable([2.0, 3.0])\n",
    "b = tf.Variable(a)\n",
    "a.assign([5, 6])\n",
    "\n",
    "print(a.numpy())\n",
    "print(b.numpy())\n",
    "\n",
    "print(a.assign_add([2,3]).numpy())  \n",
    "print(a.assign_sub([7,9]).numpy())  "
   ],
   "outputs": [
    {
     "output_type": "stream",
     "name": "stdout",
     "text": [
      "[5. 6.]\n",
      "[2. 3.]\n",
      "[7. 9.]\n",
      "[0. 0.]\n"
     ]
    }
   ],
   "metadata": {
    "execution": {
     "iopub.execute_input": "2020-11-12T01:39:41.616850Z",
     "iopub.status.busy": "2020-11-12T01:39:41.616175Z",
     "iopub.status.idle": "2020-11-12T01:39:41.622686Z",
     "shell.execute_reply": "2020-11-12T01:39:41.623063Z"
    },
    "id": "2CnfGc6ucbXc"
   }
  },
  {
   "cell_type": "markdown",
   "source": [
    "### 수명 주기, 이름 지정 및 감시\n",
    "\n",
    "파이썬 기반 TensorFlow에서 `tf.Variable` 인스턴스는 다른 Python 객체와 같은 수명 주기를 갖습니다. 변수에 대한 참조가 없으면 자동으로 할당이 해제됩니다.\n",
    "\n",
    "변수를 추적하고 디버그하는 데 도움이 되는 변수의 이름을 지정할 수도 있습니다. 두 변수에 같은 이름을 지정할 수 있습니다."
   ],
   "metadata": {
    "id": "ZtzepotYUe7B"
   }
  },
  {
   "cell_type": "code",
   "execution_count": 54,
   "source": [
    "a = tf.Variable(my_tensor, name=\"Mark\")\n",
    "b = tf.Variable(my_tensor + 1, name=\"Mark\")\n",
    "\n",
    "print(a == b)"
   ],
   "outputs": [
    {
     "output_type": "stream",
     "name": "stdout",
     "text": [
      "tf.Tensor(\n",
      "[[False False]\n",
      " [False False]], shape=(2, 2), dtype=bool)\n"
     ]
    }
   ],
   "metadata": {
    "execution": {
     "iopub.execute_input": "2020-11-12T01:39:41.627102Z",
     "iopub.status.busy": "2020-11-12T01:39:41.626476Z",
     "iopub.status.idle": "2020-11-12T01:39:41.630786Z",
     "shell.execute_reply": "2020-11-12T01:39:41.631131Z"
    },
    "id": "VBFbzKj8RaPf"
   }
  },
  {
   "cell_type": "markdown",
   "source": [
    "모델을 저장하고 로드할 때 변수 이름이 유지됩니다. 기본적으로 모델의 변수는 고유한 변수 이름이 자동으로 지정되므로 원치 않는 한 직접 할당할 필요가 없습니다.\n",
    "\n",
    "변수는 구별을 위해 중요하지만, 일부 변수는 구별할 필요가 없습니다. 생성 시 `trainable`을 false로 설정하여 변수의 그래디언트를 끌 수 있습니다. 그래디언트가 필요하지 않은 변수의 예는 훈련 단계 카운터입니다."
   ],
   "metadata": {
    "id": "789QikItVA_E"
   }
  },
  {
   "cell_type": "code",
   "execution_count": 55,
   "source": [
    "step_counter = tf.Variable(1, trainable=False)"
   ],
   "outputs": [],
   "metadata": {
    "execution": {
     "iopub.execute_input": "2020-11-12T01:39:41.634970Z",
     "iopub.status.busy": "2020-11-12T01:39:41.634330Z",
     "iopub.status.idle": "2020-11-12T01:39:41.637410Z",
     "shell.execute_reply": "2020-11-12T01:39:41.636922Z"
    },
    "id": "B5Sj1DqhbZvx"
   }
  },
  {
   "cell_type": "markdown",
   "source": [
    "### 변수 및 텐서 배치하기\n",
    "\n",
    "더 나은 성능을 위해 TensorFlow는 `dtype`과 호환되는 가장 빠른 기기에 텐서 및 변수를 배치하려고 시도합니다. 이는 대부분의 변수가 GPU(사용 가능한 경우)에 배치됨을 의미합니다.\n",
    "\n",
    "그러나 재정의할 수 있습니다. 다음 코드 조각에서는 GPU가 사용 가능한 경우에도 부동 텐서와 변수를 CPU에 배치할 수 있습니다. \n",
    "\n",
    "참고: 수동 배치도 가능하지만, [분배 전략](distributed_training)을 사용하면 계산을 최적화하는 더 편리하고 확장 가능한 방법이 될 수 있습니다."
   ],
   "metadata": {
    "id": "DD_xfDLDTDNU"
   }
  },
  {
   "cell_type": "code",
   "execution_count": 56,
   "source": [
    "with tf.device('CPU:0'):\n",
    "    a = tf.Variable([[1.0, 2.0, 3.0], [4.0, 5.0, 6.0]])\n",
    "    b = tf.constant([[1.0, 2.0], [3.0, 4.0], [5.0, 6.0]])\n",
    "    c = tf.matmul(a, b)\n",
    "\n",
    "print(c)"
   ],
   "outputs": [
    {
     "output_type": "stream",
     "name": "stdout",
     "text": [
      "tf.Tensor(\n",
      "[[22. 28.]\n",
      " [49. 64.]], shape=(2, 2), dtype=float32)\n"
     ]
    }
   ],
   "metadata": {
    "execution": {
     "iopub.execute_input": "2020-11-12T01:39:41.642019Z",
     "iopub.status.busy": "2020-11-12T01:39:41.641456Z",
     "iopub.status.idle": "2020-11-12T01:39:41.688756Z",
     "shell.execute_reply": "2020-11-12T01:39:41.688144Z"
    },
    "id": "2SjpD7wVUSBJ"
   }
  },
  {
   "cell_type": "markdown",
   "source": [
    "한 기기에서 변수 또는 텐서의 위치를 설정하고 다른 기기에서 계산을 수행할 수 있습니다. 이 경우, 기기 간에 데이터를 복사해야 하므로 지연이 발생합니다.\n",
    "\n",
    "GPU 작업자가 여러 개이지만 변수의 사본이 하나만 필요한 경우에 수행할 수 있습니다."
   ],
   "metadata": {
    "id": "PXbh-p2BXKcr"
   }
  },
  {
   "cell_type": "code",
   "execution_count": 57,
   "source": [
    "with tf.device('CPU:0'):\n",
    "  a = tf.Variable([[1.0, 2.0, 3.0], [4.0, 5.0, 6.0]])\n",
    "  b = tf.Variable([[1.0, 2.0, 3.0]])\n",
    "\n",
    "with tf.device('GPU:0'):\n",
    "  k = a * b\n",
    "\n",
    "print(k)"
   ],
   "outputs": [
    {
     "output_type": "stream",
     "name": "stdout",
     "text": [
      "tf.Tensor(\n",
      "[[ 1.  4.  9.]\n",
      " [ 4. 10. 18.]], shape=(2, 3), dtype=float32)\n"
     ]
    }
   ],
   "metadata": {
    "execution": {
     "iopub.execute_input": "2020-11-12T01:39:41.694586Z",
     "iopub.status.busy": "2020-11-12T01:39:41.693840Z",
     "iopub.status.idle": "2020-11-12T01:39:41.699511Z",
     "shell.execute_reply": "2020-11-12T01:39:41.698951Z"
    },
    "id": "dgWHN3QSfNiQ",
    "scrolled": true
   }
  }
 ],
 "metadata": {
  "colab": {
   "collapsed_sections": [],
   "name": "variable.ipynb",
   "toc_visible": true
  },
  "kernelspec": {
   "name": "python3",
   "display_name": "Python 3.8.8 64-bit ('base': conda)"
  },
  "language_info": {
   "name": "python",
   "version": "3.8.10",
   "mimetype": "text/x-python",
   "codemirror_mode": {
    "name": "ipython",
    "version": 3
   },
   "pygments_lexer": "ipython3",
   "nbconvert_exporter": "python",
   "file_extension": ".py"
  },
  "interpreter": {
   "hash": "14c878ca9e09cb855c5aba830c5d56400199f035e888de3a1c3895cb2a489872"
  }
 },
 "nbformat": 4,
 "nbformat_minor": 1
}