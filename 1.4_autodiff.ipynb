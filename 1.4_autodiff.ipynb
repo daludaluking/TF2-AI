{
 "cells": [
  {
   "cell_type": "markdown",
   "source": [
    "## 1.4 자동 미분과 그래디언트 테이프"
   ],
   "metadata": {
    "id": "xh8WkEwWpnm7"
   }
  },
  {
   "cell_type": "markdown",
   "source": [
    "이전 튜토리얼에서는 텐서(tensor)와 텐서의 연산에 대해서 알아보았습니다. 이번 튜토리얼에서는 머신러닝 모델을 최적화할 수 있는 주요 기술 중 하나인 [자동 미분(automatic differentiation)](https://en.wikipedia.org/wiki/Automatic_differentiation)에 대해 알아보겠습니다."
   ],
   "metadata": {
    "id": "vDJ4XzMqodTy"
   }
  },
  {
   "cell_type": "markdown",
   "source": [
    "### 설정\n"
   ],
   "metadata": {
    "id": "GQJysDM__Qb0"
   }
  },
  {
   "cell_type": "code",
   "execution_count": 1,
   "source": [
    "import tensorflow as tf"
   ],
   "outputs": [],
   "metadata": {
    "execution": {
     "iopub.execute_input": "2020-09-23T03:55:15.273104Z",
     "iopub.status.busy": "2020-09-23T03:55:15.272431Z",
     "iopub.status.idle": "2020-09-23T03:55:21.741570Z",
     "shell.execute_reply": "2020-09-23T03:55:21.740895Z"
    },
    "id": "cxzaxo6ff2y3"
   }
  },
  {
   "cell_type": "code",
   "execution_count": 2,
   "source": [
    "import logging    # 경고 출력 금지\n",
    "logging.getLogger('tensorflow').disabled = True"
   ],
   "outputs": [],
   "metadata": {}
  },
  {
   "cell_type": "markdown",
   "source": [
    "### 그래디언트 테이프\n",
    "\n",
    "텐서플로는 자동 미분(주어진 입력 변수에 대한 연산의 그래디언트(gradient)를 계산하는 것)을 위한 [tf.GradientTape](https://www.tensorflow.org/api_docs/python/tf/GradientTape) API를 제공합니다. `tf.GradientTape`는 컨텍스트(context) 안에서 실행된 모든 연산을 테이프(tape)에 \"기록\"합니다. 그 다음 텐서플로는 [후진 방식 자동 미분(reverse mode differentiation)](https://en.wikipedia.org/wiki/Automatic_differentiation)을 사용해 테이프에 \"기록된\" 연산의 그래디언트를 계산합니다.\n",
    "\n",
    "예를 들면:"
   ],
   "metadata": {
    "id": "1CLWJl0QliB0"
   }
  },
  {
   "cell_type": "code",
   "execution_count": 3,
   "source": [
    "x = tf.ones((2, 2))\n",
    "print(x)\n",
    "with tf.GradientTape(persistent=True) as t:\n",
    "  t.watch(x)\n",
    "  y = tf.reduce_sum(x)\n",
    "  z = tf.multiply(y, y)\n",
    "# 위 코드는 2x2 이차원 행렬의 모든 요수를 합하고 제곱하는 함수이다.\n",
    "\n",
    "print(z)\n",
    "\n",
    "# 입력 텐서 x에 대한 z의 도함수\n",
    "# sum의 미분은 repeat이다.\n",
    "dz_dx = t.gradient(z, y)\n",
    "print(dz_dx)\n",
    "dz_dx = t.gradient(y, x)\n",
    "print(dz_dx)\n",
    "dz_dx = t.gradient(z, x)\n",
    "print(dz_dx)\n",
    "for i in [0, 1]:\n",
    "  for j in [0, 1]:\n",
    "    print(dz_dx[i][j].numpy())\n",
    "    #assert dz_dx[i][j].numpy() == 8"
   ],
   "outputs": [
    {
     "output_type": "stream",
     "name": "stdout",
     "text": [
      "tf.Tensor(\n",
      "[[1. 1.]\n",
      " [1. 1.]], shape=(2, 2), dtype=float32)\n",
      "tf.Tensor(16.0, shape=(), dtype=float32)\n",
      "tf.Tensor(8.0, shape=(), dtype=float32)\n",
      "tf.Tensor(\n",
      "[[1. 1.]\n",
      " [1. 1.]], shape=(2, 2), dtype=float32)\n",
      "tf.Tensor(\n",
      "[[8. 8.]\n",
      " [8. 8.]], shape=(2, 2), dtype=float32)\n",
      "8.0\n",
      "8.0\n",
      "8.0\n",
      "8.0\n"
     ]
    }
   ],
   "metadata": {
    "execution": {
     "iopub.execute_input": "2020-09-23T03:55:30.133399Z",
     "iopub.status.busy": "2020-09-23T03:55:30.132595Z",
     "iopub.status.idle": "2020-09-23T03:55:30.459915Z",
     "shell.execute_reply": "2020-09-23T03:55:30.459150Z"
    },
    "id": "bAFeIE8EuVIq"
   }
  },
  {
   "cell_type": "markdown",
   "source": [
    "<tr>\n",
    "  <td><img src=\"./autodiff-1.png\"></td>\n",
    "</tr>"
   ],
   "metadata": {}
  },
  {
   "cell_type": "markdown",
   "source": [
    "또한 `tf.GradientTape` 컨텍스트 안에서 계산된 중간값에 대한 그래디언트도 구할 수 있습니다."
   ],
   "metadata": {
    "id": "N4VlqKFzzGaC"
   }
  },
  {
   "cell_type": "code",
   "execution_count": 4,
   "source": [
    "x = tf.ones((2, 2))\n",
    "\n",
    "with tf.GradientTape() as t:\n",
    "  t.watch(x)\n",
    "  y = tf.reduce_sum(x)\n",
    "  z = tf.multiply(y, y)\n",
    "\n",
    "# 테이프 사용하여 중간값 y에 대한 도함수를 계산합니다. \n",
    "dz_dy = t.gradient(z, y)\n",
    "assert dz_dy.numpy() == 8.0"
   ],
   "outputs": [],
   "metadata": {
    "execution": {
     "iopub.execute_input": "2020-09-23T03:55:30.466020Z",
     "iopub.status.busy": "2020-09-23T03:55:30.465345Z",
     "iopub.status.idle": "2020-09-23T03:55:30.468905Z",
     "shell.execute_reply": "2020-09-23T03:55:30.468372Z"
    },
    "id": "7XaPRAwUyYms"
   }
  },
  {
   "cell_type": "markdown",
   "source": [
    "기본적으로 GradientTape.gradient() 메서드가 호출되면 GradientTape에 포함된 리소스가 해제됩니다. 동일한 연산에 대해 여러 그래디언트를 계산하려면, `지속성있는`(persistent) 그래디언트 테이프를 생성하면 됩니다. 이 그래디언트 테이프는 `gradient()` 메서드의 다중 호출을 허용합니다. 테이프 객체가 쓰레기 수집(garbage collection)될때 리소스는 해제됩니다.\n",
    "예를 들면 다음과 같습니다:"
   ],
   "metadata": {
    "id": "ISkXuY7YzIcS"
   }
  },
  {
   "cell_type": "code",
   "execution_count": 5,
   "source": [
    "# y = x ^ 2 -> y를 x에 대해서 미분한 값은 2*x^1\n",
    "# z = y ^ 2 -> z를 y에 대해서 미분한 값은 2*y^1\n",
    "# z = x ^ 4 -> z를 x에 대해 미분한 값은 4*x^3\n",
    "x = tf.constant(3.0)\n",
    "with tf.GradientTape(persistent=True) as t:\n",
    "  t.watch(x)\n",
    "  y = x * x\n",
    "  z = y * y\n",
    "dz_dx = t.gradient(z, x)  # 108.0 (4*x^3 at x = 3)\n",
    "print(dz_dx)\n",
    "dy_dx = t.gradient(y, x)  # 6.0\n",
    "print(dz_dx)\n",
    "del t  # 테이프에 대한 참조를 삭제합니다."
   ],
   "outputs": [
    {
     "output_type": "stream",
     "name": "stdout",
     "text": [
      "tf.Tensor(108.0, shape=(), dtype=float32)\n",
      "tf.Tensor(108.0, shape=(), dtype=float32)\n"
     ]
    }
   ],
   "metadata": {
    "execution": {
     "iopub.execute_input": "2020-09-23T03:55:30.474038Z",
     "iopub.status.busy": "2020-09-23T03:55:30.473345Z",
     "iopub.status.idle": "2020-09-23T03:55:30.476646Z",
     "shell.execute_reply": "2020-09-23T03:55:30.476143Z"
    },
    "id": "zZaCm3-9zVCi"
   }
  },
  {
   "cell_type": "markdown",
   "source": [
    "### 제어 흐름 기록\n",
    "\n",
    "연산이 실행되는 순서대로 테이프에 기록되기 때문에, 파이썬 제어 흐름(예를 들어 `if` `while`, `for`문 같은)이 자연스럽게 처리됩니다. "
   ],
   "metadata": {
    "id": "6kADybtQzYj4"
   }
  },
  {
   "cell_type": "code",
   "execution_count": 8,
   "source": [
    "def f(x, y):\n",
    "  output = 1.0\n",
    "  for i in range(y):\n",
    "    if i > 1 and i < 5:\n",
    "      output = tf.multiply(output, x)\n",
    "  return output\n",
    "\n",
    "def grad(x, y):\n",
    "  with tf.GradientTape() as t:\n",
    "    t.watch(x)\n",
    "    out = f(x, y)\n",
    "  return t.gradient(out, x)\n",
    "\n",
    "x = tf.convert_to_tensor(2.0)\n",
    "\n",
    "assert grad(x, 6).numpy() == 12.0\n",
    "assert grad(x, 5).numpy() == 12.0\n",
    "assert grad(x, 4).numpy() == 4.0\n"
   ],
   "outputs": [],
   "metadata": {
    "execution": {
     "iopub.execute_input": "2020-09-23T03:55:30.483182Z",
     "iopub.status.busy": "2020-09-23T03:55:30.482522Z",
     "iopub.status.idle": "2020-09-23T03:55:30.486893Z",
     "shell.execute_reply": "2020-09-23T03:55:30.486403Z"
    },
    "id": "9FViq92UX7P8"
   }
  },
  {
   "cell_type": "markdown",
   "source": [
    "### 고계도 그래디언트\n",
    "\n",
    "`GradientTape` 컨텍스트 매니저안에 있는 연산들은 자동미분을 위해 기록됩니다. 만약 이 컨텍스트 안에서 그래디언트를 계산하면 해당 그래디언트 연산 또한 기록되어집니다. 그 결과 똑같은 API가 고계도(Higher-order) 그래디언트에서도 잘 작동합니다. 예를 들면:"
   ],
   "metadata": {
    "id": "DK05KXrAAld3"
   }
  },
  {
   "cell_type": "code",
   "execution_count": 7,
   "source": [
    "x = tf.Variable(1.0)  # 1.0으로 초기화된 텐서플로 변수를 생성합니다.\n",
    "\n",
    "with tf.GradientTape() as t:\n",
    "  with tf.GradientTape() as t2:\n",
    "    y = x * x * x #y=x^3\n",
    "  # 't' 컨텍스트 매니저 안의 그래디언트를 계산합니다.\n",
    "  # 이것은 또한 그래디언트 연산 자체도 미분가능하다는 것을 의미합니다. \n",
    "  dy_dx = t2.gradient(y, x)\n",
    "d2y_dx2 = t.gradient(dy_dx, x)\n",
    "\n",
    "assert dy_dx.numpy() == 3.0\n",
    "assert d2y_dx2.numpy() == 6.0"
   ],
   "outputs": [],
   "metadata": {
    "execution": {
     "iopub.execute_input": "2020-09-23T03:55:30.492035Z",
     "iopub.status.busy": "2020-09-23T03:55:30.491368Z",
     "iopub.status.idle": "2020-09-23T03:55:30.498368Z",
     "shell.execute_reply": "2020-09-23T03:55:30.498786Z"
    },
    "id": "cPQgthZ7ugRJ"
   }
  }
 ],
 "metadata": {
  "colab": {
   "collapsed_sections": [],
   "name": "autodiff.ipynb",
   "toc_visible": true
  },
  "kernelspec": {
   "name": "python3",
   "display_name": "Python 3.8.8 64-bit ('base': conda)"
  },
  "language_info": {
   "name": "python",
   "version": "3.8.10",
   "mimetype": "text/x-python",
   "codemirror_mode": {
    "name": "ipython",
    "version": 3
   },
   "pygments_lexer": "ipython3",
   "nbconvert_exporter": "python",
   "file_extension": ".py"
  },
  "interpreter": {
   "hash": "14c878ca9e09cb855c5aba830c5d56400199f035e888de3a1c3895cb2a489872"
  }
 },
 "nbformat": 4,
 "nbformat_minor": 1
}