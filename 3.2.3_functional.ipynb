{
 "cells": [
  {
   "cell_type": "markdown",
   "source": [
    "### 함수형 API"
   ],
   "metadata": {
    "id": "da6087fbd570"
   }
  },
  {
   "cell_type": "code",
   "execution_count": 1,
   "source": [
    "import numpy as np\n",
    "import tensorflow as tf\n",
    "from tensorflow import keras\n",
    "from tensorflow.keras import layers"
   ],
   "outputs": [],
   "metadata": {
    "execution": {
     "iopub.execute_input": "2021-02-17T23:56:52.759825Z",
     "iopub.status.busy": "2021-02-17T23:56:52.759161Z",
     "iopub.status.idle": "2021-02-17T23:56:58.902510Z",
     "shell.execute_reply": "2021-02-17T23:56:58.901817Z"
    },
    "id": "ec52be14e686"
   }
  },
  {
   "cell_type": "markdown",
   "source": [
    "### 소개\n",
    "\n",
    "Keras 기능 API 는 tf.keras.Sequential API보다 더 유연한 모델을 만드는 방법입니다. 기능적 API는 비선형 토폴로지, 공유 레이어, 심지어 여러 입력 또는 출력으로 모델을 처리 할 수 ​​있습니다.\n",
    "\n",
    "주요 아이디어는 딥 러닝 모델이 일반적으로 계층의 방향성 비순환 그래프 (DAG)라는 것입니다. 따라서 기능적 API는 레이어 그래프를 작성 하는 방법입니다.\n",
    "\n",
    "다음 모델을 고려하십시오.\n",
    "\n",
    "```\n",
    "(input: 784-dimensional vectors)\n",
    "       ↧\n",
    "[Dense (64 units, relu activation)]\n",
    "       ↧\n",
    "[Dense (64 units, relu activation)]\n",
    "       ↧\n",
    "[Dense (10 units, softmax activation)]\n",
    "       ↧\n",
    "(output: logits of a probability distribution over 10 classes)\n",
    "```\n",
    "\n",
    "이것은 3 개의 레이어가있는 기본 그래프입니다. 기능적 API를 사용하여이 모델을 빌드하려면 먼저 입력 노드를 생성합니다."
   ],
   "metadata": {
    "id": "871fbb54ea07"
   }
  },
  {
   "cell_type": "code",
   "execution_count": 2,
   "source": [
    "inputs = keras.Input(shape=(784,))"
   ],
   "outputs": [],
   "metadata": {
    "execution": {
     "iopub.execute_input": "2021-02-17T23:56:58.907038Z",
     "iopub.status.busy": "2021-02-17T23:56:58.906380Z",
     "iopub.status.idle": "2021-02-17T23:56:58.919750Z",
     "shell.execute_reply": "2021-02-17T23:56:58.919231Z"
    },
    "id": "8d477c91955a"
   }
  },
  {
   "cell_type": "markdown",
   "source": [
    "데이터의 모양은 784 차원 벡터로 설정됩니다. 각 샘플의 모양 만 지정되므로 배치 크기는 항상 생략됩니다.\n",
    "\n",
    "예를 들어  `(32, 32, 3)`,\n",
    "모양의 이미지 입력이있는 경우 다음을 사용합니다."
   ],
   "metadata": {
    "id": "13c14d993620"
   }
  },
  {
   "cell_type": "code",
   "execution_count": 3,
   "source": [
    "img_inputs = keras.Input(shape=(32, 32, 3))"
   ],
   "outputs": [],
   "metadata": {
    "execution": {
     "iopub.execute_input": "2021-02-17T23:56:58.924314Z",
     "iopub.status.busy": "2021-02-17T23:56:58.923669Z",
     "iopub.status.idle": "2021-02-17T23:56:58.925634Z",
     "shell.execute_reply": "2021-02-17T23:56:58.926033Z"
    },
    "id": "e4732e8e279b"
   }
  },
  {
   "cell_type": "markdown",
   "source": [
    "반환되는 inputs 에는 dtype 에 제공하는 입력 데이터의 모양 및 dtype 에 대한 정보가 포함됩니다. 모양은 다음과 같습니다."
   ],
   "metadata": {
    "id": "971bf8b5588f"
   }
  },
  {
   "cell_type": "code",
   "execution_count": 4,
   "source": [
    "inputs.shape"
   ],
   "outputs": [
    {
     "output_type": "execute_result",
     "data": {
      "text/plain": [
       "TensorShape([None, 784])"
      ]
     },
     "metadata": {},
     "execution_count": 4
    }
   ],
   "metadata": {
    "execution": {
     "iopub.execute_input": "2021-02-17T23:56:58.934599Z",
     "iopub.status.busy": "2021-02-17T23:56:58.933887Z",
     "iopub.status.idle": "2021-02-17T23:56:58.938872Z",
     "shell.execute_reply": "2021-02-17T23:56:58.939295Z"
    },
    "id": "ee96c179846a"
   }
  },
  {
   "cell_type": "markdown",
   "source": [
    "다음은 dtype입니다."
   ],
   "metadata": {
    "id": "866eee86d63e"
   }
  },
  {
   "cell_type": "code",
   "execution_count": 5,
   "source": [
    "inputs.dtype"
   ],
   "outputs": [
    {
     "output_type": "execute_result",
     "data": {
      "text/plain": [
       "tf.float32"
      ]
     },
     "metadata": {},
     "execution_count": 5
    }
   ],
   "metadata": {
    "execution": {
     "iopub.execute_input": "2021-02-17T23:56:58.943200Z",
     "iopub.status.busy": "2021-02-17T23:56:58.942528Z",
     "iopub.status.idle": "2021-02-17T23:56:58.945249Z",
     "shell.execute_reply": "2021-02-17T23:56:58.945640Z"
    },
    "id": "480be92067f3"
   }
  },
  {
   "cell_type": "markdown",
   "source": [
    "이 inputs 객체에서 레이어를 호출하여 레이어 그래프에 새 노드를 만듭니다."
   ],
   "metadata": {
    "id": "6c93172cdfba"
   }
  },
  {
   "cell_type": "code",
   "execution_count": 6,
   "source": [
    "dense = layers.Dense(64, activation=\"relu\")\n",
    "x = dense(inputs)"
   ],
   "outputs": [],
   "metadata": {
    "execution": {
     "iopub.execute_input": "2021-02-17T23:56:58.956423Z",
     "iopub.status.busy": "2021-02-17T23:56:58.955594Z",
     "iopub.status.idle": "2021-02-17T23:57:00.627474Z",
     "shell.execute_reply": "2021-02-17T23:57:00.626817Z"
    },
    "id": "b50da8b1c28d"
   }
  },
  {
   "cell_type": "markdown",
   "source": [
    "\"레이어 호출\"작업은 \"입력\"에서 생성 한이 레이어로 화살표를 그리는 것과 같습니다. 입력을 dense 레이어로 \"전달\"하고 x 를 출력으로 얻습니다.\n",
    "\n",
    "레이어 그래프에 레이어를 몇 개 더 추가해 보겠습니다."
   ],
   "metadata": {
    "id": "0f36afe42ff3"
   }
  },
  {
   "cell_type": "code",
   "execution_count": 7,
   "source": [
    "x = layers.Dense(64, activation=\"relu\")(x)\n",
    "outputs = layers.Dense(10)(x)"
   ],
   "outputs": [],
   "metadata": {
    "execution": {
     "iopub.execute_input": "2021-02-17T23:57:00.633293Z",
     "iopub.status.busy": "2021-02-17T23:57:00.632588Z",
     "iopub.status.idle": "2021-02-17T23:57:00.644816Z",
     "shell.execute_reply": "2021-02-17T23:57:00.645239Z"
    },
    "id": "463d5cd0c484"
   }
  },
  {
   "cell_type": "markdown",
   "source": [
    "이 시점에서 레이어 그래프에서 입력과 출력을 지정하여 Model 을 만들 수 있습니다."
   ],
   "metadata": {
    "id": "e379f089b044"
   }
  },
  {
   "cell_type": "code",
   "execution_count": 8,
   "source": [
    "model = keras.Model(inputs=inputs, outputs=outputs, name=\"mnist_model\")"
   ],
   "outputs": [],
   "metadata": {
    "execution": {
     "iopub.execute_input": "2021-02-17T23:57:00.650569Z",
     "iopub.status.busy": "2021-02-17T23:57:00.649896Z",
     "iopub.status.idle": "2021-02-17T23:57:00.654653Z",
     "shell.execute_reply": "2021-02-17T23:57:00.654131Z"
    },
    "id": "7820cc2209a6"
   }
  },
  {
   "cell_type": "markdown",
   "source": [
    "모델 요약이 어떻게 생겼는지 확인해 보겠습니다."
   ],
   "metadata": {
    "id": "c9aa111852d3"
   }
  },
  {
   "cell_type": "code",
   "execution_count": 9,
   "source": [
    "model.summary()"
   ],
   "outputs": [
    {
     "output_type": "stream",
     "name": "stdout",
     "text": [
      "Model: \"mnist_model\"\n",
      "_________________________________________________________________\n",
      "Layer (type)                 Output Shape              Param #   \n",
      "=================================================================\n",
      "input_1 (InputLayer)         [(None, 784)]             0         \n",
      "_________________________________________________________________\n",
      "dense (Dense)                (None, 64)                50240     \n",
      "_________________________________________________________________\n",
      "dense_1 (Dense)              (None, 64)                4160      \n",
      "_________________________________________________________________\n",
      "dense_2 (Dense)              (None, 10)                650       \n",
      "=================================================================\n",
      "Total params: 55,050\n",
      "Trainable params: 55,050\n",
      "Non-trainable params: 0\n",
      "_________________________________________________________________\n"
     ]
    }
   ],
   "metadata": {
    "execution": {
     "iopub.execute_input": "2021-02-17T23:57:00.659041Z",
     "iopub.status.busy": "2021-02-17T23:57:00.658439Z",
     "iopub.status.idle": "2021-02-17T23:57:00.662567Z",
     "shell.execute_reply": "2021-02-17T23:57:00.662046Z"
    },
    "id": "4949ab8242e8"
   }
  },
  {
   "cell_type": "markdown",
   "source": [
    "모델을 그래프로 플로팅 할 수도 있습니다."
   ],
   "metadata": {
    "id": "99ab8535d6c3"
   }
  },
  {
   "cell_type": "code",
   "execution_count": 10,
   "source": [
    "keras.utils.plot_model(model, \"my_first_model.png\")"
   ],
   "outputs": [
    {
     "output_type": "execute_result",
     "data": {
      "text/plain": [
       "<IPython.core.display.Image object>"
      ],
      "image/png": "[encoded data removed]"
     },
     "metadata": {},
     "execution_count": 10
    }
   ],
   "metadata": {
    "execution": {
     "iopub.execute_input": "2021-02-17T23:57:00.666687Z",
     "iopub.status.busy": "2021-02-17T23:57:00.665913Z",
     "iopub.status.idle": "2021-02-17T23:57:00.862493Z",
     "shell.execute_reply": "2021-02-17T23:57:00.863007Z"
    },
    "id": "6872f1b1b8b8"
   }
  },
  {
   "cell_type": "markdown",
   "source": [
    "선택적으로 플로팅 된 그래프에서 각 레이어의 입력 및 출력 모양을 표시합니다."
   ],
   "metadata": {
    "id": "6d9880136879"
   }
  },
  {
   "cell_type": "code",
   "execution_count": 18,
   "source": [
    "keras.utils.plot_model(model, \"my_first_model_with_shape_info.png\", show_shapes=True, show_dtype=True, dpi=128, expand_nested=True)"
   ],
   "outputs": [
    {
     "output_type": "execute_result",
     "data": {
      "text/plain": [
       "<IPython.core.display.Image object>"
      ],
      "image/png": "[encoded data removed]"
     },
     "metadata": {},
     "execution_count": 18
    }
   ],
   "metadata": {
    "execution": {
     "iopub.execute_input": "2021-02-17T23:57:00.867982Z",
     "iopub.status.busy": "2021-02-17T23:57:00.867332Z",
     "iopub.status.idle": "2021-02-17T23:57:00.942487Z",
     "shell.execute_reply": "2021-02-17T23:57:00.942972Z"
    },
    "id": "aa14046d3388"
   }
  },
  {
   "cell_type": "markdown",
   "source": [
    "이 그림과 코드는 거의 동일합니다. 코드 버전에서 연결 화살표는 호출 작업으로 대체됩니다.\n",
    "\n",
    "\"계층 그래프\"는 딥 러닝 모델에 대한 직관적 인 정신 이미지이며 기능 API는이를 밀접하게 반영하는 모델을 만드는 방법입니다."
   ],
   "metadata": {
    "id": "71969f9c91bb"
   }
  },
  {
   "cell_type": "markdown",
   "source": [
    "### 훈련, 평가 및 추론\n",
    "\n",
    "훈련, 평가 및 추론은 Sequential 모델과 기능 API를 사용하여 빌드 된 모델에 대해 정확히 동일한 방식으로 작동합니다.\n",
    "\n",
    "Model 클래스는 기본 제공 훈련 루프 ( fit() 메서드)와 기본 제공 평가 루프 ( evaluate() 메서드)를 제공합니다. 지도 학습 (예 : GAN ) 이상의 학습 루틴을 구현하기 위해 이러한 루프 를 쉽게 사용자 정의 할 수 있습니다.\n",
    "\n",
    "여기에서 MNIST 이미지 데이터를로드하고 벡터로 변형하고 데이터에 모델을 맞춘 다음 (검증 분할에서 성능을 모니터링하면서) 테스트 데이터에서 모델을 평가합니다."
   ],
   "metadata": {
    "id": "775b997c8c28"
   }
  },
  {
   "cell_type": "code",
   "execution_count": 12,
   "source": [
    "(x_train, y_train), (x_test, y_test) = keras.datasets.mnist.load_data()\n",
    "\n",
    "x_train = x_train.reshape(60000, 784).astype(\"float32\") / 255\n",
    "x_test = x_test.reshape(10000, 784).astype(\"float32\") / 255\n",
    "\n",
    "model.compile(\n",
    "    loss=keras.losses.SparseCategoricalCrossentropy(from_logits=True),\n",
    "    optimizer=keras.optimizers.RMSprop(),\n",
    "    metrics=[\"accuracy\"],\n",
    ")\n",
    "\n",
    "history = model.fit(x_train, y_train, batch_size=64, epochs=2, validation_split=0.2)\n",
    "\n",
    "test_scores = model.evaluate(x_test, y_test, verbose=2)\n",
    "print(\"Test loss:\", test_scores[0])\n",
    "print(\"Test accuracy:\", test_scores[1])"
   ],
   "outputs": [
    {
     "output_type": "stream",
     "name": "stdout",
     "text": [
      "Epoch 1/2\n",
      "750/750 [==============================] - 2s 2ms/step - loss: 0.5624 - accuracy: 0.8420 - val_loss: 0.1872 - val_accuracy: 0.9445\n",
      "Epoch 2/2\n",
      "750/750 [==============================] - 0s 620us/step - loss: 0.1802 - accuracy: 0.9466 - val_loss: 0.1341 - val_accuracy: 0.9604\n",
      "313/313 - 0s - loss: 0.1262 - accuracy: 0.9617\n",
      "Test loss: 0.1262478083372116\n",
      "Test accuracy: 0.9617000222206116\n"
     ]
    }
   ],
   "metadata": {
    "execution": {
     "iopub.execute_input": "2021-02-17T23:57:00.950155Z",
     "iopub.status.busy": "2021-02-17T23:57:00.949493Z",
     "iopub.status.idle": "2021-02-17T23:57:06.481150Z",
     "shell.execute_reply": "2021-02-17T23:57:06.481633Z"
    },
    "id": "e61366d54487"
   }
  }
 ],
 "metadata": {
  "colab": {
   "collapsed_sections": [],
   "name": "functional.ipynb",
   "toc_visible": true
  },
  "kernelspec": {
   "name": "python3",
   "display_name": "Python 3.8.10 64-bit ('base': conda)"
  },
  "language_info": {
   "codemirror_mode": {
    "name": "ipython",
    "version": 3
   },
   "file_extension": ".py",
   "mimetype": "text/x-python",
   "name": "python",
   "nbconvert_exporter": "python",
   "pygments_lexer": "ipython3",
   "version": "3.8.10"
  },
  "interpreter": {
   "hash": "14c878ca9e09cb855c5aba830c5d56400199f035e888de3a1c3895cb2a489872"
  }
 },
 "nbformat": 4,
 "nbformat_minor": 1
}