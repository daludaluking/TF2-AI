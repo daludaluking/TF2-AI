{
 "cells": [
  {
   "cell_type": "markdown",
   "source": [
    "### 사용자 정의 학습"
   ],
   "metadata": {
    "id": "JtEZ1pCPn--z"
   }
  },
  {
   "cell_type": "markdown",
   "source": [
    "이번 튜토리얼은 붓꽃의 품종을 *분류*하기 위한 머신러닝 모델을 구축할 것입니다. 다음을 위해 텐서플로를 사용합니다.\n",
    "1. 모델 구축\n",
    "2. 모델 훈련\n",
    "3. 모델을 사용한 예측\n",
    "\n",
    "### 텐서플로 프로그래밍\n",
    "다음과 같은 고수준 텐서플로의 개념을 사용합니다.\n",
    "\n",
    "* 텐서플로의 [즉시 실행(eager execution)](https://www.tensorflow.org/guide/eager) 기본 개발 환경 사용,\n",
    "* [데이터셋 API](https://www.tensorflow.org/guide/datasets)를 활용한 데이터 가져오기,\n",
    "* [케라스 API](https://keras.io/getting-started/sequential-model-guide/)를 활용한 모델과 층(layer) 구축 .\n",
    "\n",
    "이번 튜토리얼은 다른 텐서플로 프로그램과 유사하게 구성되어있습니다.\n",
    "\n",
    "1. 데이터 가져오기 및 분석.\n",
    "2. 모델 타입 선정.\n",
    "3. 모델 훈련.\n",
    "4. 모델 효과 평가.\n",
    "5. 훈련된 모델을 사용한 예측."
   ],
   "metadata": {
    "id": "LDrzLFXE8T1l"
   }
  },
  {
   "cell_type": "markdown",
   "source": [
    "### 프로그램 설정"
   ],
   "metadata": {
    "id": "yNr7H-AIoLOR"
   }
  },
  {
   "cell_type": "markdown",
   "source": [
    "### 라이브러리 임포트\n",
    "\n",
    "텐서플로와 필요한 파이썬 모듈을 임포트합니다. 텐서플로는 연산이 나중에 실행되는 [계산 그래프(computational graph)](https://www.tensorflow.org/guide/graphs)를 만드는 대신에 연산을 즉시 평가하고 구체적인 값을 반환하는 [즉시 실행](https://www.tensorflow.org/guide/eager)을 사용합니다. 만약 파이썬 대화형 창이나 상호작용 콘솔을 사용하면 더욱 익숙할 겁니다. "
   ],
   "metadata": {
    "id": "1J3AuPBT9gyR"
   }
  },
  {
   "cell_type": "code",
   "execution_count": 1,
   "source": [
    "import os\n",
    "import matplotlib.pyplot as plt\n",
    "import pandas as pd"
   ],
   "outputs": [],
   "metadata": {
    "execution": {
     "iopub.execute_input": "2020-09-23T04:11:51.835545Z",
     "iopub.status.busy": "2020-09-23T04:11:51.834906Z",
     "iopub.status.idle": "2020-09-23T04:11:52.558503Z",
     "shell.execute_reply": "2020-09-23T04:11:52.557882Z"
    },
    "id": "jElLULrDhQZR"
   }
  },
  {
   "cell_type": "code",
   "execution_count": 2,
   "source": [
    "import tensorflow as tf"
   ],
   "outputs": [],
   "metadata": {
    "execution": {
     "iopub.execute_input": "2020-09-23T04:11:52.562783Z",
     "iopub.status.busy": "2020-09-23T04:11:52.562089Z",
     "iopub.status.idle": "2020-09-23T04:11:58.231215Z",
     "shell.execute_reply": "2020-09-23T04:11:58.231672Z"
    },
    "id": "bfV2Dai0Ow2o"
   }
  },
  {
   "cell_type": "code",
   "execution_count": 3,
   "source": [
    "print(\"텐서플로 버전: {}\".format(tf.__version__))\n",
    "print(\"즉시 실행: {}\".format(tf.executing_eagerly()))"
   ],
   "outputs": [
    {
     "output_type": "stream",
     "name": "stdout",
     "text": [
      "텐서플로 버전: 2.5.0\n",
      "즉시 실행: True\n"
     ]
    }
   ],
   "metadata": {
    "execution": {
     "iopub.execute_input": "2020-09-23T04:11:58.236513Z",
     "iopub.status.busy": "2020-09-23T04:11:58.235798Z",
     "iopub.status.idle": "2020-09-23T04:11:58.239735Z",
     "shell.execute_reply": "2020-09-23T04:11:58.240283Z"
    },
    "id": "g4Wzg69bnwK2"
   }
  },
  {
   "cell_type": "markdown",
   "source": [
    "## 붓꽃 분류 문제\n",
    "\n",
    "당신이 식물학자라고 상상하고, 주어진 붓꽃을 자동적으로 분류하는 방법을 찾고 있다고 가정합시다. 머신러닝은 통계적으로 꽃을 분류할 수 있는 다양한 알고리즘을 제공합니다. 예를 들어, 정교한 머신러닝 프로그램은 사진을 통해 꽃을 분류할 수 있습니다. 이번 튜토리얼의 목적은 좀 더 겸손하게, 측정된 [꽃받침](https://en.wikipedia.org/wiki/Sepal)과 [꽃잎](https://en.wikipedia.org/wiki/Petal)의 길이와 폭을 토대로 붓꽃을 분류하는 것입니다.\n",
    "\n",
    "이 붓꽃은 약 300종입니다. 하지만 이번 튜토리얼에서는 오직 3가지 품종을 기준으로 분류할 것입니다. \n",
    "\n",
    "* Iris setosa\n",
    "* Iris virginica\n",
    "* Iris versicolor\n",
    "\n",
    "<table>\n",
    "  <tr><td>\n",
    "    <img src=\"https://www.tensorflow.org/images/iris_three_species.jpg\"\n",
    "         alt=\"Petal geometry compared for three iris species: Iris setosa, Iris virginica, and Iris versicolor\">\n",
    "  </td></tr>\n",
    "  <tr><td align=\"center\">\n",
    "    <b>그림 1.</b> <a href=\"https://commons.wikimedia.org/w/index.php?curid=170298\">Iris setosa</a> (by <a href=\"https://commons.wikimedia.org/wiki/User:Radomil\">Radomil</a>, CC BY-SA 3.0), <a href=\"https://commons.wikimedia.org/w/index.php?curid=248095\">Iris versicolor</a>, (by <a href=\"https://commons.wikimedia.org/wiki/User:Dlanglois\">Dlanglois</a>, CC BY-SA 3.0), and <a href=\"https://www.flickr.com/photos/33397993@N05/3352169862\">Iris virginica</a> (by <a href=\"https://www.flickr.com/photos/33397993@N05\">Frank Mayfield</a>, CC BY-SA 2.0).<br/>&nbsp;\n",
    "  </td></tr>\n",
    "</table>\n",
    "\n",
    "다행히도 다른 사람들이 먼저 꽃받침과 꽃잎의 길이와 폭이 측정된 [120개의 붓꽃 데이터](https://en.wikipedia.org/wiki/Iris_flower_data_set)를 만들어 놓았습니다. 이것은 머신러닝 분류 문제에 있어 초보자에게 유명한 고전 데이터셋입니다. "
   ],
   "metadata": {
    "id": "Zx7wc0LuuxaJ"
   }
  },
  {
   "cell_type": "markdown",
   "source": [
    "## 훈련 데이터 가져오기 및 파싱\n",
    "\n",
    "데이터를 불러오고 파이썬 프로그램이 사용할 수 있는 구조로 전환합니다.\n",
    "\n",
    "### 데이터셋 다운로드\n",
    "\n",
    "[tf.keras.utils.get_file](https://www.tensorflow.org/api_docs/python/tf/keras/utils/get_file) 함수를 사용하여 데이터셋을 다운로드합니다. 이 함수는 다운로드된 파일의 경로를 반환합니다."
   ],
   "metadata": {
    "id": "3Px6KAg0Jowz"
   }
  },
  {
   "cell_type": "code",
   "execution_count": 4,
   "source": [
    "train_dataset_url = \"https://storage.googleapis.com/download.tensorflow.org/data/iris_training.csv\"\n",
    "\n",
    "train_dataset_fp = tf.keras.utils.get_file(fname=os.path.basename(train_dataset_url),\n",
    "                                           origin=train_dataset_url)\n",
    "\n",
    "print(\"데이터셋이 복사된 위치: {}\".format(train_dataset_fp))\n",
    "data = pd.read_csv(train_dataset_fp)\n",
    "data.head()"
   ],
   "outputs": [
    {
     "output_type": "stream",
     "name": "stdout",
     "text": [
      "Downloading data from https://storage.googleapis.com/download.tensorflow.org/data/iris_training.csv\n",
      "8192/2194 [================================================================================================================] - 0s 0us/step\n",
      "데이터셋이 복사된 위치: /home/dalu/.keras/datasets/iris_training.csv\n"
     ]
    },
    {
     "output_type": "execute_result",
     "data": {
      "text/plain": [
       "   120    4  setosa  versicolor  virginica\n",
       "0  6.4  2.8     5.6         2.2          2\n",
       "1  5.0  2.3     3.3         1.0          1\n",
       "2  4.9  2.5     4.5         1.7          2\n",
       "3  4.9  3.1     1.5         0.1          0\n",
       "4  5.7  3.8     1.7         0.3          0"
      ],
      "text/html": [
       "<div>\n",
       "<style scoped>\n",
       "    .dataframe tbody tr th:only-of-type {\n",
       "        vertical-align: middle;\n",
       "    }\n",
       "\n",
       "    .dataframe tbody tr th {\n",
       "        vertical-align: top;\n",
       "    }\n",
       "\n",
       "    .dataframe thead th {\n",
       "        text-align: right;\n",
       "    }\n",
       "</style>\n",
       "<table border=\"1\" class=\"dataframe\">\n",
       "  <thead>\n",
       "    <tr style=\"text-align: right;\">\n",
       "      <th></th>\n",
       "      <th>120</th>\n",
       "      <th>4</th>\n",
       "      <th>setosa</th>\n",
       "      <th>versicolor</th>\n",
       "      <th>virginica</th>\n",
       "    </tr>\n",
       "  </thead>\n",
       "  <tbody>\n",
       "    <tr>\n",
       "      <th>0</th>\n",
       "      <td>6.4</td>\n",
       "      <td>2.8</td>\n",
       "      <td>5.6</td>\n",
       "      <td>2.2</td>\n",
       "      <td>2</td>\n",
       "    </tr>\n",
       "    <tr>\n",
       "      <th>1</th>\n",
       "      <td>5.0</td>\n",
       "      <td>2.3</td>\n",
       "      <td>3.3</td>\n",
       "      <td>1.0</td>\n",
       "      <td>1</td>\n",
       "    </tr>\n",
       "    <tr>\n",
       "      <th>2</th>\n",
       "      <td>4.9</td>\n",
       "      <td>2.5</td>\n",
       "      <td>4.5</td>\n",
       "      <td>1.7</td>\n",
       "      <td>2</td>\n",
       "    </tr>\n",
       "    <tr>\n",
       "      <th>3</th>\n",
       "      <td>4.9</td>\n",
       "      <td>3.1</td>\n",
       "      <td>1.5</td>\n",
       "      <td>0.1</td>\n",
       "      <td>0</td>\n",
       "    </tr>\n",
       "    <tr>\n",
       "      <th>4</th>\n",
       "      <td>5.7</td>\n",
       "      <td>3.8</td>\n",
       "      <td>1.7</td>\n",
       "      <td>0.3</td>\n",
       "      <td>0</td>\n",
       "    </tr>\n",
       "  </tbody>\n",
       "</table>\n",
       "</div>"
      ]
     },
     "metadata": {},
     "execution_count": 4
    }
   ],
   "metadata": {
    "execution": {
     "iopub.execute_input": "2020-09-23T04:11:58.246296Z",
     "iopub.status.busy": "2020-09-23T04:11:58.245623Z",
     "iopub.status.idle": "2020-09-23T04:11:58.631763Z",
     "shell.execute_reply": "2020-09-23T04:11:58.632203Z"
    },
    "id": "J6c7uEU9rjRM"
   }
  },
  {
   "cell_type": "markdown",
   "source": [
    "### 데이터 탐색"
   ],
   "metadata": {
    "id": "qnX1-aLors4S"
   }
  },
  {
   "cell_type": "code",
   "execution_count": 6,
   "source": [
    "column_names = ['sepal_length', 'sepal_width', 'petal_length', 'petal_width', 'species']\n",
    "\n",
    "feature_names = column_names[:-1]\n",
    "label_name = column_names[-1]\n",
    "\n",
    "print(\"특성: {}\".format(feature_names))\n",
    "print(\"레이블: {}\".format(label_name))"
   ],
   "outputs": [
    {
     "output_type": "stream",
     "name": "stdout",
     "text": [
      "특성: ['sepal_length', 'sepal_width', 'petal_length', 'petal_width']\n",
      "레이블: species\n"
     ]
    }
   ],
   "metadata": {
    "execution": {
     "iopub.execute_input": "2020-09-23T04:11:58.761094Z",
     "iopub.status.busy": "2020-09-23T04:11:58.760404Z",
     "iopub.status.idle": "2020-09-23T04:11:58.762920Z",
     "shell.execute_reply": "2020-09-23T04:11:58.763381Z"
    },
    "id": "9Edhevw7exl6"
   }
  },
  {
   "cell_type": "markdown",
   "source": [
    "각각의 레이블은 \"setosa\"와 같은 문자형 이름과 연관되어있습니다. 하지만 머신러닝은 전형적으로 숫자형 값에 의존합니다. 레이블을 다음과 같이 매핑(mapping) 합니다. \n",
    "\n",
    "* `0`: Iris setosa\n",
    "* `1`: Iris versicolor\n",
    "* `2`: Iris virginica\n"
   ],
   "metadata": {
    "id": "CCtwLoJhhDNc"
   }
  },
  {
   "cell_type": "code",
   "execution_count": 7,
   "source": [
    "class_names = ['Iris setosa', 'Iris versicolor', 'Iris virginica']"
   ],
   "outputs": [],
   "metadata": {
    "execution": {
     "iopub.execute_input": "2020-09-23T04:11:58.767525Z",
     "iopub.status.busy": "2020-09-23T04:11:58.766887Z",
     "iopub.status.idle": "2020-09-23T04:11:58.769334Z",
     "shell.execute_reply": "2020-09-23T04:11:58.768747Z"
    },
    "id": "sVNlJlUOhkoX"
   }
  },
  {
   "cell_type": "markdown",
   "source": [
    "### `tf.data.Dataset` 생성\n",
    "\n",
    "텐서플로의 [데이터셋 API](https://www.tensorflow.org/guide/datasets)는 데이터를 적재할 때 발생하는 다양한 경우를 다룰 수 있습니다. 이는 훈련에 필요한 형태로 데이터를 읽고 변환하는 고수준 API입니다. \n",
    "\n",
    "데이터셋이 CSV 파일이므로, 적절한 형태로 데이터를 구분하기 위해 [make_csv_dataset](https://www.tensorflow.org/api_docs/python/tf/data/experimental/make_csv_dataset) 함수를 사용하겠습니다. 이 함수는 훈련 모델을 위한 데이터를 생성하므로, 초기값은 셔플(`shuffle=True, shuffle_buffer_size=10000`)과 무한 반복(`num_epochs=None`)으로 설정되어있습니다. 또한 [배치 사이즈(batch_size)](https://developers.google.com/machine-learning/glossary/#batch_size)를 설정해줍니다."
   ],
   "metadata": {
    "id": "dqPkQExM2Pwt"
   }
  },
  {
   "cell_type": "code",
   "execution_count": 28,
   "source": [
    "batch_size = 32\n",
    "\n",
    "train_dataset = tf.data.experimental.make_csv_dataset(\n",
    "    train_dataset_fp,\n",
    "    batch_size,\n",
    "    column_names=column_names,\n",
    "    label_name=label_name,\n",
    "    num_epochs=1)"
   ],
   "outputs": [],
   "metadata": {
    "execution": {
     "iopub.execute_input": "2020-09-23T04:11:58.773826Z",
     "iopub.status.busy": "2020-09-23T04:11:58.773149Z",
     "iopub.status.idle": "2020-09-23T04:12:00.242602Z",
     "shell.execute_reply": "2020-09-23T04:12:00.241989Z"
    },
    "id": "WsxHnz1ebJ2S"
   }
  },
  {
   "cell_type": "markdown",
   "source": [
    "`make_csv_dataset` 함수는 `(features, label)` 쌍으로 구성된 `tf.data.Dataset`을 반환합니다. `features`는 딕셔너리 객체인: `{'feature_name': value}`로 주어집니다. 이 데이터셋은 반복가능합니다. 다음은 특성(feature)을 살펴봅시다."
   ],
   "metadata": {
    "id": "gB_RSn62c-3G"
   }
  },
  {
   "cell_type": "code",
   "execution_count": 29,
   "source": [
    "features, labels = next(iter(train_dataset))\n",
    "\n",
    "print(len(features))\n",
    "print(features.keys())\n",
    "print(features['sepal_length'])\n",
    "for v in features:\n",
    "    #print(v)\n",
    "    print('{} : {}, {}'.format(v, len(features[v]), features[v]))\n",
    "print(list(features.values()))\n",
    "print(len(list(features.values())))"
   ],
   "outputs": [
    {
     "output_type": "stream",
     "name": "stdout",
     "text": [
      "4\n",
      "odict_keys(['sepal_length', 'sepal_width', 'petal_length', 'petal_width'])\n",
      "tf.Tensor(\n",
      "[6.3 5.  6.3 5.  5.1 6.8 5.  6.4 5.6 5.2 5.  5.  7.7 5.9 5.7 4.9 4.7 5.\n",
      " 4.4 7.7 7.2 4.9 4.6 6.  4.8 4.9 6.4 5.7 5.2 6.5 4.6 7.2], shape=(32,), dtype=float32)\n",
      "sepal_length : 32, [6.3 5.  6.3 5.  5.1 6.8 5.  6.4 5.6 5.2 5.  5.  7.7 5.9 5.7 4.9 4.7 5.\n",
      " 4.4 7.7 7.2 4.9 4.6 6.  4.8 4.9 6.4 5.7 5.2 6.5 4.6 7.2]\n",
      "sepal_width : 32, [2.5 3.  3.3 3.5 3.8 3.2 2.3 3.2 2.7 3.4 3.5 3.3 2.6 3.  4.4 3.1 3.2 3.4\n",
      " 3.2 3.8 3.2 2.5 3.1 2.7 3.  3.1 3.2 2.8 2.7 3.  3.6 3.6]\n",
      "petal_length : 32, [5.  1.6 4.7 1.3 1.6 5.9 3.3 5.3 4.2 1.4 1.6 1.4 6.9 5.1 1.5 1.5 1.3 1.6\n",
      " 1.3 6.7 6.  4.5 1.5 5.1 1.4 1.5 4.5 4.1 3.9 5.5 1.  6.1]\n",
      "petal_width : 32, [1.9 0.2 1.6 0.3 0.2 2.3 1.  2.3 1.3 0.2 0.6 0.2 2.3 1.8 0.4 0.1 0.2 0.4\n",
      " 0.2 2.2 1.8 1.7 0.2 1.6 0.3 0.1 1.5 1.3 1.4 1.8 0.2 2.5]\n",
      "[<tf.Tensor: shape=(32,), dtype=float32, numpy=\n",
      "array([6.3, 5. , 6.3, 5. , 5.1, 6.8, 5. , 6.4, 5.6, 5.2, 5. , 5. , 7.7,\n",
      "       5.9, 5.7, 4.9, 4.7, 5. , 4.4, 7.7, 7.2, 4.9, 4.6, 6. , 4.8, 4.9,\n",
      "       6.4, 5.7, 5.2, 6.5, 4.6, 7.2], dtype=float32)>, <tf.Tensor: shape=(32,), dtype=float32, numpy=\n",
      "array([2.5, 3. , 3.3, 3.5, 3.8, 3.2, 2.3, 3.2, 2.7, 3.4, 3.5, 3.3, 2.6,\n",
      "       3. , 4.4, 3.1, 3.2, 3.4, 3.2, 3.8, 3.2, 2.5, 3.1, 2.7, 3. , 3.1,\n",
      "       3.2, 2.8, 2.7, 3. , 3.6, 3.6], dtype=float32)>, <tf.Tensor: shape=(32,), dtype=float32, numpy=\n",
      "array([5. , 1.6, 4.7, 1.3, 1.6, 5.9, 3.3, 5.3, 4.2, 1.4, 1.6, 1.4, 6.9,\n",
      "       5.1, 1.5, 1.5, 1.3, 1.6, 1.3, 6.7, 6. , 4.5, 1.5, 5.1, 1.4, 1.5,\n",
      "       4.5, 4.1, 3.9, 5.5, 1. , 6.1], dtype=float32)>, <tf.Tensor: shape=(32,), dtype=float32, numpy=\n",
      "array([1.9, 0.2, 1.6, 0.3, 0.2, 2.3, 1. , 2.3, 1.3, 0.2, 0.6, 0.2, 2.3,\n",
      "       1.8, 0.4, 0.1, 0.2, 0.4, 0.2, 2.2, 1.8, 1.7, 0.2, 1.6, 0.3, 0.1,\n",
      "       1.5, 1.3, 1.4, 1.8, 0.2, 2.5], dtype=float32)>]\n",
      "4\n"
     ]
    }
   ],
   "metadata": {
    "execution": {
     "iopub.execute_input": "2020-09-23T04:12:00.247231Z",
     "iopub.status.busy": "2020-09-23T04:12:00.246591Z",
     "iopub.status.idle": "2020-09-23T04:12:00.271781Z",
     "shell.execute_reply": "2020-09-23T04:12:00.272325Z"
    },
    "id": "iDuG94H-C122"
   }
  },
  {
   "cell_type": "markdown",
   "source": [
    "유사한 특성의 값은 같이 그룹 되어있거나, *배치* 돼있다는 사실에 주목하세요. 각 샘플 행의 필드는 해당 특성 배열에 추가됩니다. `batch_size`를 조절하여 이 특성 배열에 저장된 샘플의 수를 설정하세요.\n",
    "\n",
    "또한 배치(batch)로부터 약간의 특성을 도식화하여 군집돼있는 데이터를 확인할 수 있습니다. "
   ],
   "metadata": {
    "id": "E63mArnQaAGz"
   }
  },
  {
   "cell_type": "code",
   "execution_count": 30,
   "source": [
    "plt.scatter(features['petal_length'],\n",
    "            features['sepal_length'],\n",
    "            c=labels,\n",
    "            cmap='viridis')\n",
    "\n",
    "plt.xlabel(\"Petal length\")\n",
    "plt.ylabel(\"Sepal length\")\n",
    "plt.show()"
   ],
   "outputs": [
    {
     "output_type": "display_data",
     "data": {
      "text/plain": [
       "<Figure size 432x288 with 1 Axes>"
      ],
      "image/svg+xml": "<?xml version=\"1.0\" encoding=\"utf-8\" standalone=\"no\"?>\n<!DOCTYPE svg PUBLIC \"-//W3C//DTD SVG 1.1//EN\"\n  \"http://www.w3.org/Graphics/SVG/1.1/DTD/svg11.dtd\">\n<svg height=\"262.19625pt\" version=\"1.1\" viewBox=\"0 0 385.78125 262.19625\" width=\"385.78125pt\" xmlns=\"http://www.w3.org/2000/svg\" xmlns:xlink=\"http://www.w3.org/1999/xlink\">\n <metadata>\n  <rdf:RDF xmlns:cc=\"http://creativecommons.org/ns#\" xmlns:dc=\"http://purl.org/dc/elements/1.1/\" xmlns:rdf=\"http://www.w3.org/1999/02/22-rdf-syntax-ns#\">\n   <cc:Work>\n    <dc:type rdf:resource=\"http://purl.org/dc/dcmitype/StillImage\"/>\n    <dc:date>2021-08-27T01:52:24.479576</dc:date>\n    <dc:format>image/svg+xml</dc:format>\n    <dc:creator>\n     <cc:Agent>\n      <dc:title>Matplotlib v3.4.2, https://matplotlib.org/</dc:title>\n     </cc:Agent>\n    </dc:creator>\n   </cc:Work>\n  </rdf:RDF>\n </metadata>\n <defs>\n  <style type=\"text/css\">*{stroke-linecap:butt;stroke-linejoin:round;}</style>\n </defs>\n <g id=\"figure_1\">\n  <g id=\"patch_1\">\n   <path d=\"M 0 262.19625 \nL 385.78125 262.19625 \nL 385.78125 0 \nL 0 0 \nz\n\" style=\"fill:none;\"/>\n  </g>\n  <g id=\"axes_1\">\n   <g id=\"patch_2\">\n    <path d=\"M 43.78125 224.64 \nL 378.58125 224.64 \nL 378.58125 7.2 \nL 43.78125 7.2 \nz\n\" style=\"fill:#ffffff;\"/>\n   </g>\n   <g id=\"PathCollection_1\">\n    <defs>\n     <path d=\"M 0 3 \nC 0.795609 3 1.55874 2.683901 2.12132 2.12132 \nC 2.683901 1.55874 3 0.795609 3 -0 \nC 3 -0.795609 2.683901 -1.55874 2.12132 -2.12132 \nC 1.55874 -2.683901 0.795609 -3 0 -3 \nC -0.795609 -3 -1.55874 -2.683901 -2.12132 -2.12132 \nC -2.683901 -1.55874 -3 -0.795609 -3 0 \nC -3 0.795609 -2.683901 1.55874 -2.12132 2.12132 \nC -1.55874 2.683901 -0.795609 3 0 3 \nz\n\" id=\"C0_0_6b982fb2a9\"/>\n    </defs>\n    <g clip-path=\"url(#p3b7ae258e3)\">\n     <use style=\"fill:#fde725;stroke:#fde725;\" x=\"265.347657\" xlink:href=\"#C0_0_6b982fb2a9\" y=\"100.944778\"/>\n    </g>\n    <g clip-path=\"url(#p3b7ae258e3)\">\n     <use style=\"fill:#440154;stroke:#440154;\" x=\"89.951667\" xlink:href=\"#C0_0_6b982fb2a9\" y=\"178.81587\"/>\n    </g>\n    <g clip-path=\"url(#p3b7ae258e3)\">\n     <use style=\"fill:#21918c;stroke:#21918c;\" x=\"249.87153\" xlink:href=\"#C0_0_6b982fb2a9\" y=\"100.944778\"/>\n    </g>\n    <g clip-path=\"url(#p3b7ae258e3)\">\n     <use style=\"fill:#440154;stroke:#440154;\" x=\"74.475546\" xlink:href=\"#C0_0_6b982fb2a9\" y=\"178.81587\"/>\n    </g>\n    <g clip-path=\"url(#p3b7ae258e3)\">\n     <use style=\"fill:#440154;stroke:#440154;\" x=\"89.951667\" xlink:href=\"#C0_0_6b982fb2a9\" y=\"172.825793\"/>\n    </g>\n    <g clip-path=\"url(#p3b7ae258e3)\">\n     <use style=\"fill:#fde725;stroke:#fde725;\" x=\"311.776012\" xlink:href=\"#C0_0_6b982fb2a9\" y=\"70.994362\"/>\n    </g>\n    <g clip-path=\"url(#p3b7ae258e3)\">\n     <use style=\"fill:#21918c;stroke:#21918c;\" x=\"177.649659\" xlink:href=\"#C0_0_6b982fb2a9\" y=\"178.81587\"/>\n    </g>\n    <g clip-path=\"url(#p3b7ae258e3)\">\n     <use style=\"fill:#fde725;stroke:#fde725;\" x=\"280.823783\" xlink:href=\"#C0_0_6b982fb2a9\" y=\"94.9547\"/>\n    </g>\n    <g clip-path=\"url(#p3b7ae258e3)\">\n     <use style=\"fill:#21918c;stroke:#21918c;\" x=\"224.078002\" xlink:href=\"#C0_0_6b982fb2a9\" y=\"142.875377\"/>\n    </g>\n    <g clip-path=\"url(#p3b7ae258e3)\">\n     <use style=\"fill:#440154;stroke:#440154;\" x=\"79.634253\" xlink:href=\"#C0_0_6b982fb2a9\" y=\"166.835715\"/>\n    </g>\n    <g clip-path=\"url(#p3b7ae258e3)\">\n     <use style=\"fill:#440154;stroke:#440154;\" x=\"89.951667\" xlink:href=\"#C0_0_6b982fb2a9\" y=\"178.81587\"/>\n    </g>\n    <g clip-path=\"url(#p3b7ae258e3)\">\n     <use style=\"fill:#440154;stroke:#440154;\" x=\"79.634253\" xlink:href=\"#C0_0_6b982fb2a9\" y=\"178.81587\"/>\n    </g>\n    <g clip-path=\"url(#p3b7ae258e3)\">\n     <use style=\"fill:#fde725;stroke:#fde725;\" x=\"363.363068\" xlink:href=\"#C0_0_6b982fb2a9\" y=\"17.083636\"/>\n    </g>\n    <g clip-path=\"url(#p3b7ae258e3)\">\n     <use style=\"fill:#fde725;stroke:#fde725;\" x=\"270.506357\" xlink:href=\"#C0_0_6b982fb2a9\" y=\"124.905116\"/>\n    </g>\n    <g clip-path=\"url(#p3b7ae258e3)\">\n     <use style=\"fill:#440154;stroke:#440154;\" x=\"84.79296\" xlink:href=\"#C0_0_6b982fb2a9\" y=\"136.8853\"/>\n    </g>\n    <g clip-path=\"url(#p3b7ae258e3)\">\n     <use style=\"fill:#440154;stroke:#440154;\" x=\"84.79296\" xlink:href=\"#C0_0_6b982fb2a9\" y=\"184.805948\"/>\n    </g>\n    <g clip-path=\"url(#p3b7ae258e3)\">\n     <use style=\"fill:#440154;stroke:#440154;\" x=\"74.475546\" xlink:href=\"#C0_0_6b982fb2a9\" y=\"196.786131\"/>\n    </g>\n    <g clip-path=\"url(#p3b7ae258e3)\">\n     <use style=\"fill:#440154;stroke:#440154;\" x=\"89.951667\" xlink:href=\"#C0_0_6b982fb2a9\" y=\"178.81587\"/>\n    </g>\n    <g clip-path=\"url(#p3b7ae258e3)\">\n     <use style=\"fill:#440154;stroke:#440154;\" x=\"74.475546\" xlink:href=\"#C0_0_6b982fb2a9\" y=\"214.756364\"/>\n    </g>\n    <g clip-path=\"url(#p3b7ae258e3)\">\n     <use style=\"fill:#fde725;stroke:#fde725;\" x=\"353.045642\" xlink:href=\"#C0_0_6b982fb2a9\" y=\"17.083636\"/>\n    </g>\n    <g clip-path=\"url(#p3b7ae258e3)\">\n     <use style=\"fill:#fde725;stroke:#fde725;\" x=\"316.934713\" xlink:href=\"#C0_0_6b982fb2a9\" y=\"47.034052\"/>\n    </g>\n    <g clip-path=\"url(#p3b7ae258e3)\">\n     <use style=\"fill:#fde725;stroke:#fde725;\" x=\"239.554128\" xlink:href=\"#C0_0_6b982fb2a9\" y=\"184.805948\"/>\n    </g>\n    <g clip-path=\"url(#p3b7ae258e3)\">\n     <use style=\"fill:#440154;stroke:#440154;\" x=\"84.79296\" xlink:href=\"#C0_0_6b982fb2a9\" y=\"202.776209\"/>\n    </g>\n    <g clip-path=\"url(#p3b7ae258e3)\">\n     <use style=\"fill:#21918c;stroke:#21918c;\" x=\"270.506357\" xlink:href=\"#C0_0_6b982fb2a9\" y=\"118.915039\"/>\n    </g>\n    <g clip-path=\"url(#p3b7ae258e3)\">\n     <use style=\"fill:#440154;stroke:#440154;\" x=\"79.634253\" xlink:href=\"#C0_0_6b982fb2a9\" y=\"190.796025\"/>\n    </g>\n    <g clip-path=\"url(#p3b7ae258e3)\">\n     <use style=\"fill:#440154;stroke:#440154;\" x=\"84.79296\" xlink:href=\"#C0_0_6b982fb2a9\" y=\"184.805948\"/>\n    </g>\n    <g clip-path=\"url(#p3b7ae258e3)\">\n     <use style=\"fill:#21918c;stroke:#21918c;\" x=\"239.554128\" xlink:href=\"#C0_0_6b982fb2a9\" y=\"94.9547\"/>\n    </g>\n    <g clip-path=\"url(#p3b7ae258e3)\">\n     <use style=\"fill:#21918c;stroke:#21918c;\" x=\"218.919301\" xlink:href=\"#C0_0_6b982fb2a9\" y=\"136.8853\"/>\n    </g>\n    <g clip-path=\"url(#p3b7ae258e3)\">\n     <use style=\"fill:#21918c;stroke:#21918c;\" x=\"208.6019\" xlink:href=\"#C0_0_6b982fb2a9\" y=\"166.835715\"/>\n    </g>\n    <g clip-path=\"url(#p3b7ae258e3)\">\n     <use style=\"fill:#fde725;stroke:#fde725;\" x=\"291.141185\" xlink:href=\"#C0_0_6b982fb2a9\" y=\"88.964623\"/>\n    </g>\n    <g clip-path=\"url(#p3b7ae258e3)\">\n     <use style=\"fill:#440154;stroke:#440154;\" x=\"58.999432\" xlink:href=\"#C0_0_6b982fb2a9\" y=\"202.776209\"/>\n    </g>\n    <g clip-path=\"url(#p3b7ae258e3)\">\n     <use style=\"fill:#fde725;stroke:#fde725;\" x=\"322.093413\" xlink:href=\"#C0_0_6b982fb2a9\" y=\"47.034052\"/>\n    </g>\n   </g>\n   <g id=\"matplotlib.axis_1\">\n    <g id=\"xtick_1\">\n     <g id=\"line2d_1\">\n      <defs>\n       <path d=\"M 0 0 \nL 0 3.5 \n\" id=\"mdfb5fae55c\" style=\"stroke:#000000;stroke-width:0.8;\"/>\n      </defs>\n      <g>\n       <use style=\"stroke:#000000;stroke-width:0.8;\" x=\"58.999432\" xlink:href=\"#mdfb5fae55c\" y=\"224.64\"/>\n      </g>\n     </g>\n     <g id=\"text_1\">\n      <!-- 1 -->\n      <g transform=\"translate(55.818182 239.238438)scale(0.1 -0.1)\">\n       <defs>\n        <path d=\"M 794 531 \nL 1825 531 \nL 1825 4091 \nL 703 3866 \nL 703 4441 \nL 1819 4666 \nL 2450 4666 \nL 2450 531 \nL 3481 531 \nL 3481 0 \nL 794 0 \nL 794 531 \nz\n\" id=\"DejaVuSans-31\" transform=\"scale(0.015625)\"/>\n       </defs>\n       <use xlink:href=\"#DejaVuSans-31\"/>\n      </g>\n     </g>\n    </g>\n    <g id=\"xtick_2\">\n     <g id=\"line2d_2\">\n      <g>\n       <use style=\"stroke:#000000;stroke-width:0.8;\" x=\"110.586488\" xlink:href=\"#mdfb5fae55c\" y=\"224.64\"/>\n      </g>\n     </g>\n     <g id=\"text_2\">\n      <!-- 2 -->\n      <g transform=\"translate(107.405238 239.238438)scale(0.1 -0.1)\">\n       <defs>\n        <path d=\"M 1228 531 \nL 3431 531 \nL 3431 0 \nL 469 0 \nL 469 531 \nQ 828 903 1448 1529 \nQ 2069 2156 2228 2338 \nQ 2531 2678 2651 2914 \nQ 2772 3150 2772 3378 \nQ 2772 3750 2511 3984 \nQ 2250 4219 1831 4219 \nQ 1534 4219 1204 4116 \nQ 875 4013 500 3803 \nL 500 4441 \nQ 881 4594 1212 4672 \nQ 1544 4750 1819 4750 \nQ 2544 4750 2975 4387 \nQ 3406 4025 3406 3419 \nQ 3406 3131 3298 2873 \nQ 3191 2616 2906 2266 \nQ 2828 2175 2409 1742 \nQ 1991 1309 1228 531 \nz\n\" id=\"DejaVuSans-32\" transform=\"scale(0.015625)\"/>\n       </defs>\n       <use xlink:href=\"#DejaVuSans-32\"/>\n      </g>\n     </g>\n    </g>\n    <g id=\"xtick_3\">\n     <g id=\"line2d_3\">\n      <g>\n       <use style=\"stroke:#000000;stroke-width:0.8;\" x=\"162.173544\" xlink:href=\"#mdfb5fae55c\" y=\"224.64\"/>\n      </g>\n     </g>\n     <g id=\"text_3\">\n      <!-- 3 -->\n      <g transform=\"translate(158.992294 239.238438)scale(0.1 -0.1)\">\n       <defs>\n        <path d=\"M 2597 2516 \nQ 3050 2419 3304 2112 \nQ 3559 1806 3559 1356 \nQ 3559 666 3084 287 \nQ 2609 -91 1734 -91 \nQ 1441 -91 1130 -33 \nQ 819 25 488 141 \nL 488 750 \nQ 750 597 1062 519 \nQ 1375 441 1716 441 \nQ 2309 441 2620 675 \nQ 2931 909 2931 1356 \nQ 2931 1769 2642 2001 \nQ 2353 2234 1838 2234 \nL 1294 2234 \nL 1294 2753 \nL 1863 2753 \nQ 2328 2753 2575 2939 \nQ 2822 3125 2822 3475 \nQ 2822 3834 2567 4026 \nQ 2313 4219 1838 4219 \nQ 1578 4219 1281 4162 \nQ 984 4106 628 3988 \nL 628 4550 \nQ 988 4650 1302 4700 \nQ 1616 4750 1894 4750 \nQ 2613 4750 3031 4423 \nQ 3450 4097 3450 3541 \nQ 3450 3153 3228 2886 \nQ 3006 2619 2597 2516 \nz\n\" id=\"DejaVuSans-33\" transform=\"scale(0.015625)\"/>\n       </defs>\n       <use xlink:href=\"#DejaVuSans-33\"/>\n      </g>\n     </g>\n    </g>\n    <g id=\"xtick_4\">\n     <g id=\"line2d_4\">\n      <g>\n       <use style=\"stroke:#000000;stroke-width:0.8;\" x=\"213.7606\" xlink:href=\"#mdfb5fae55c\" y=\"224.64\"/>\n      </g>\n     </g>\n     <g id=\"text_4\">\n      <!-- 4 -->\n      <g transform=\"translate(210.57935 239.238438)scale(0.1 -0.1)\">\n       <defs>\n        <path d=\"M 2419 4116 \nL 825 1625 \nL 2419 1625 \nL 2419 4116 \nz\nM 2253 4666 \nL 3047 4666 \nL 3047 1625 \nL 3713 1625 \nL 3713 1100 \nL 3047 1100 \nL 3047 0 \nL 2419 0 \nL 2419 1100 \nL 313 1100 \nL 313 1709 \nL 2253 4666 \nz\n\" id=\"DejaVuSans-34\" transform=\"scale(0.015625)\"/>\n       </defs>\n       <use xlink:href=\"#DejaVuSans-34\"/>\n      </g>\n     </g>\n    </g>\n    <g id=\"xtick_5\">\n     <g id=\"line2d_5\">\n      <g>\n       <use style=\"stroke:#000000;stroke-width:0.8;\" x=\"265.347657\" xlink:href=\"#mdfb5fae55c\" y=\"224.64\"/>\n      </g>\n     </g>\n     <g id=\"text_5\">\n      <!-- 5 -->\n      <g transform=\"translate(262.166407 239.238438)scale(0.1 -0.1)\">\n       <defs>\n        <path d=\"M 691 4666 \nL 3169 4666 \nL 3169 4134 \nL 1269 4134 \nL 1269 2991 \nQ 1406 3038 1543 3061 \nQ 1681 3084 1819 3084 \nQ 2600 3084 3056 2656 \nQ 3513 2228 3513 1497 \nQ 3513 744 3044 326 \nQ 2575 -91 1722 -91 \nQ 1428 -91 1123 -41 \nQ 819 9 494 109 \nL 494 744 \nQ 775 591 1075 516 \nQ 1375 441 1709 441 \nQ 2250 441 2565 725 \nQ 2881 1009 2881 1497 \nQ 2881 1984 2565 2268 \nQ 2250 2553 1709 2553 \nQ 1456 2553 1204 2497 \nQ 953 2441 691 2322 \nL 691 4666 \nz\n\" id=\"DejaVuSans-35\" transform=\"scale(0.015625)\"/>\n       </defs>\n       <use xlink:href=\"#DejaVuSans-35\"/>\n      </g>\n     </g>\n    </g>\n    <g id=\"xtick_6\">\n     <g id=\"line2d_6\">\n      <g>\n       <use style=\"stroke:#000000;stroke-width:0.8;\" x=\"316.934713\" xlink:href=\"#mdfb5fae55c\" y=\"224.64\"/>\n      </g>\n     </g>\n     <g id=\"text_6\">\n      <!-- 6 -->\n      <g transform=\"translate(313.753463 239.238438)scale(0.1 -0.1)\">\n       <defs>\n        <path d=\"M 2113 2584 \nQ 1688 2584 1439 2293 \nQ 1191 2003 1191 1497 \nQ 1191 994 1439 701 \nQ 1688 409 2113 409 \nQ 2538 409 2786 701 \nQ 3034 994 3034 1497 \nQ 3034 2003 2786 2293 \nQ 2538 2584 2113 2584 \nz\nM 3366 4563 \nL 3366 3988 \nQ 3128 4100 2886 4159 \nQ 2644 4219 2406 4219 \nQ 1781 4219 1451 3797 \nQ 1122 3375 1075 2522 \nQ 1259 2794 1537 2939 \nQ 1816 3084 2150 3084 \nQ 2853 3084 3261 2657 \nQ 3669 2231 3669 1497 \nQ 3669 778 3244 343 \nQ 2819 -91 2113 -91 \nQ 1303 -91 875 529 \nQ 447 1150 447 2328 \nQ 447 3434 972 4092 \nQ 1497 4750 2381 4750 \nQ 2619 4750 2861 4703 \nQ 3103 4656 3366 4563 \nz\n\" id=\"DejaVuSans-36\" transform=\"scale(0.015625)\"/>\n       </defs>\n       <use xlink:href=\"#DejaVuSans-36\"/>\n      </g>\n     </g>\n    </g>\n    <g id=\"xtick_7\">\n     <g id=\"line2d_7\">\n      <g>\n       <use style=\"stroke:#000000;stroke-width:0.8;\" x=\"368.521769\" xlink:href=\"#mdfb5fae55c\" y=\"224.64\"/>\n      </g>\n     </g>\n     <g id=\"text_7\">\n      <!-- 7 -->\n      <g transform=\"translate(365.340519 239.238438)scale(0.1 -0.1)\">\n       <defs>\n        <path d=\"M 525 4666 \nL 3525 4666 \nL 3525 4397 \nL 1831 0 \nL 1172 0 \nL 2766 4134 \nL 525 4134 \nL 525 4666 \nz\n\" id=\"DejaVuSans-37\" transform=\"scale(0.015625)\"/>\n       </defs>\n       <use xlink:href=\"#DejaVuSans-37\"/>\n      </g>\n     </g>\n    </g>\n    <g id=\"text_8\">\n     <!-- Petal length -->\n     <g transform=\"translate(181.33125 252.916563)scale(0.1 -0.1)\">\n      <defs>\n       <path d=\"M 1259 4147 \nL 1259 2394 \nL 2053 2394 \nQ 2494 2394 2734 2622 \nQ 2975 2850 2975 3272 \nQ 2975 3691 2734 3919 \nQ 2494 4147 2053 4147 \nL 1259 4147 \nz\nM 628 4666 \nL 2053 4666 \nQ 2838 4666 3239 4311 \nQ 3641 3956 3641 3272 \nQ 3641 2581 3239 2228 \nQ 2838 1875 2053 1875 \nL 1259 1875 \nL 1259 0 \nL 628 0 \nL 628 4666 \nz\n\" id=\"DejaVuSans-50\" transform=\"scale(0.015625)\"/>\n       <path d=\"M 3597 1894 \nL 3597 1613 \nL 953 1613 \nQ 991 1019 1311 708 \nQ 1631 397 2203 397 \nQ 2534 397 2845 478 \nQ 3156 559 3463 722 \nL 3463 178 \nQ 3153 47 2828 -22 \nQ 2503 -91 2169 -91 \nQ 1331 -91 842 396 \nQ 353 884 353 1716 \nQ 353 2575 817 3079 \nQ 1281 3584 2069 3584 \nQ 2775 3584 3186 3129 \nQ 3597 2675 3597 1894 \nz\nM 3022 2063 \nQ 3016 2534 2758 2815 \nQ 2500 3097 2075 3097 \nQ 1594 3097 1305 2825 \nQ 1016 2553 972 2059 \nL 3022 2063 \nz\n\" id=\"DejaVuSans-65\" transform=\"scale(0.015625)\"/>\n       <path d=\"M 1172 4494 \nL 1172 3500 \nL 2356 3500 \nL 2356 3053 \nL 1172 3053 \nL 1172 1153 \nQ 1172 725 1289 603 \nQ 1406 481 1766 481 \nL 2356 481 \nL 2356 0 \nL 1766 0 \nQ 1100 0 847 248 \nQ 594 497 594 1153 \nL 594 3053 \nL 172 3053 \nL 172 3500 \nL 594 3500 \nL 594 4494 \nL 1172 4494 \nz\n\" id=\"DejaVuSans-74\" transform=\"scale(0.015625)\"/>\n       <path d=\"M 2194 1759 \nQ 1497 1759 1228 1600 \nQ 959 1441 959 1056 \nQ 959 750 1161 570 \nQ 1363 391 1709 391 \nQ 2188 391 2477 730 \nQ 2766 1069 2766 1631 \nL 2766 1759 \nL 2194 1759 \nz\nM 3341 1997 \nL 3341 0 \nL 2766 0 \nL 2766 531 \nQ 2569 213 2275 61 \nQ 1981 -91 1556 -91 \nQ 1019 -91 701 211 \nQ 384 513 384 1019 \nQ 384 1609 779 1909 \nQ 1175 2209 1959 2209 \nL 2766 2209 \nL 2766 2266 \nQ 2766 2663 2505 2880 \nQ 2244 3097 1772 3097 \nQ 1472 3097 1187 3025 \nQ 903 2953 641 2809 \nL 641 3341 \nQ 956 3463 1253 3523 \nQ 1550 3584 1831 3584 \nQ 2591 3584 2966 3190 \nQ 3341 2797 3341 1997 \nz\n\" id=\"DejaVuSans-61\" transform=\"scale(0.015625)\"/>\n       <path d=\"M 603 4863 \nL 1178 4863 \nL 1178 0 \nL 603 0 \nL 603 4863 \nz\n\" id=\"DejaVuSans-6c\" transform=\"scale(0.015625)\"/>\n       <path id=\"DejaVuSans-20\" transform=\"scale(0.015625)\"/>\n       <path d=\"M 3513 2113 \nL 3513 0 \nL 2938 0 \nL 2938 2094 \nQ 2938 2591 2744 2837 \nQ 2550 3084 2163 3084 \nQ 1697 3084 1428 2787 \nQ 1159 2491 1159 1978 \nL 1159 0 \nL 581 0 \nL 581 3500 \nL 1159 3500 \nL 1159 2956 \nQ 1366 3272 1645 3428 \nQ 1925 3584 2291 3584 \nQ 2894 3584 3203 3211 \nQ 3513 2838 3513 2113 \nz\n\" id=\"DejaVuSans-6e\" transform=\"scale(0.015625)\"/>\n       <path d=\"M 2906 1791 \nQ 2906 2416 2648 2759 \nQ 2391 3103 1925 3103 \nQ 1463 3103 1205 2759 \nQ 947 2416 947 1791 \nQ 947 1169 1205 825 \nQ 1463 481 1925 481 \nQ 2391 481 2648 825 \nQ 2906 1169 2906 1791 \nz\nM 3481 434 \nQ 3481 -459 3084 -895 \nQ 2688 -1331 1869 -1331 \nQ 1566 -1331 1297 -1286 \nQ 1028 -1241 775 -1147 \nL 775 -588 \nQ 1028 -725 1275 -790 \nQ 1522 -856 1778 -856 \nQ 2344 -856 2625 -561 \nQ 2906 -266 2906 331 \nL 2906 616 \nQ 2728 306 2450 153 \nQ 2172 0 1784 0 \nQ 1141 0 747 490 \nQ 353 981 353 1791 \nQ 353 2603 747 3093 \nQ 1141 3584 1784 3584 \nQ 2172 3584 2450 3431 \nQ 2728 3278 2906 2969 \nL 2906 3500 \nL 3481 3500 \nL 3481 434 \nz\n\" id=\"DejaVuSans-67\" transform=\"scale(0.015625)\"/>\n       <path d=\"M 3513 2113 \nL 3513 0 \nL 2938 0 \nL 2938 2094 \nQ 2938 2591 2744 2837 \nQ 2550 3084 2163 3084 \nQ 1697 3084 1428 2787 \nQ 1159 2491 1159 1978 \nL 1159 0 \nL 581 0 \nL 581 4863 \nL 1159 4863 \nL 1159 2956 \nQ 1366 3272 1645 3428 \nQ 1925 3584 2291 3584 \nQ 2894 3584 3203 3211 \nQ 3513 2838 3513 2113 \nz\n\" id=\"DejaVuSans-68\" transform=\"scale(0.015625)\"/>\n      </defs>\n      <use xlink:href=\"#DejaVuSans-50\"/>\n      <use x=\"56.677734\" xlink:href=\"#DejaVuSans-65\"/>\n      <use x=\"118.201172\" xlink:href=\"#DejaVuSans-74\"/>\n      <use x=\"157.410156\" xlink:href=\"#DejaVuSans-61\"/>\n      <use x=\"218.689453\" xlink:href=\"#DejaVuSans-6c\"/>\n      <use x=\"246.472656\" xlink:href=\"#DejaVuSans-20\"/>\n      <use x=\"278.259766\" xlink:href=\"#DejaVuSans-6c\"/>\n      <use x=\"306.042969\" xlink:href=\"#DejaVuSans-65\"/>\n      <use x=\"367.566406\" xlink:href=\"#DejaVuSans-6e\"/>\n      <use x=\"430.945312\" xlink:href=\"#DejaVuSans-67\"/>\n      <use x=\"494.421875\" xlink:href=\"#DejaVuSans-74\"/>\n      <use x=\"533.630859\" xlink:href=\"#DejaVuSans-68\"/>\n     </g>\n    </g>\n   </g>\n   <g id=\"matplotlib.axis_2\">\n    <g id=\"ytick_1\">\n     <g id=\"line2d_8\">\n      <defs>\n       <path d=\"M 0 0 \nL -3.5 0 \n\" id=\"m809a0af654\" style=\"stroke:#000000;stroke-width:0.8;\"/>\n      </defs>\n      <g>\n       <use style=\"stroke:#000000;stroke-width:0.8;\" x=\"43.78125\" xlink:href=\"#m809a0af654\" y=\"208.766286\"/>\n      </g>\n     </g>\n     <g id=\"text_9\">\n      <!-- 4.5 -->\n      <g transform=\"translate(20.878125 212.565505)scale(0.1 -0.1)\">\n       <defs>\n        <path d=\"M 684 794 \nL 1344 794 \nL 1344 0 \nL 684 0 \nL 684 794 \nz\n\" id=\"DejaVuSans-2e\" transform=\"scale(0.015625)\"/>\n       </defs>\n       <use xlink:href=\"#DejaVuSans-34\"/>\n       <use x=\"63.623047\" xlink:href=\"#DejaVuSans-2e\"/>\n       <use x=\"95.410156\" xlink:href=\"#DejaVuSans-35\"/>\n      </g>\n     </g>\n    </g>\n    <g id=\"ytick_2\">\n     <g id=\"line2d_9\">\n      <g>\n       <use style=\"stroke:#000000;stroke-width:0.8;\" x=\"43.78125\" xlink:href=\"#m809a0af654\" y=\"178.81587\"/>\n      </g>\n     </g>\n     <g id=\"text_10\">\n      <!-- 5.0 -->\n      <g transform=\"translate(20.878125 182.615089)scale(0.1 -0.1)\">\n       <defs>\n        <path d=\"M 2034 4250 \nQ 1547 4250 1301 3770 \nQ 1056 3291 1056 2328 \nQ 1056 1369 1301 889 \nQ 1547 409 2034 409 \nQ 2525 409 2770 889 \nQ 3016 1369 3016 2328 \nQ 3016 3291 2770 3770 \nQ 2525 4250 2034 4250 \nz\nM 2034 4750 \nQ 2819 4750 3233 4129 \nQ 3647 3509 3647 2328 \nQ 3647 1150 3233 529 \nQ 2819 -91 2034 -91 \nQ 1250 -91 836 529 \nQ 422 1150 422 2328 \nQ 422 3509 836 4129 \nQ 1250 4750 2034 4750 \nz\n\" id=\"DejaVuSans-30\" transform=\"scale(0.015625)\"/>\n       </defs>\n       <use xlink:href=\"#DejaVuSans-35\"/>\n       <use x=\"63.623047\" xlink:href=\"#DejaVuSans-2e\"/>\n       <use x=\"95.410156\" xlink:href=\"#DejaVuSans-30\"/>\n      </g>\n     </g>\n    </g>\n    <g id=\"ytick_3\">\n     <g id=\"line2d_10\">\n      <g>\n       <use style=\"stroke:#000000;stroke-width:0.8;\" x=\"43.78125\" xlink:href=\"#m809a0af654\" y=\"148.865455\"/>\n      </g>\n     </g>\n     <g id=\"text_11\">\n      <!-- 5.5 -->\n      <g transform=\"translate(20.878125 152.664673)scale(0.1 -0.1)\">\n       <use xlink:href=\"#DejaVuSans-35\"/>\n       <use x=\"63.623047\" xlink:href=\"#DejaVuSans-2e\"/>\n       <use x=\"95.410156\" xlink:href=\"#DejaVuSans-35\"/>\n      </g>\n     </g>\n    </g>\n    <g id=\"ytick_4\">\n     <g id=\"line2d_11\">\n      <g>\n       <use style=\"stroke:#000000;stroke-width:0.8;\" x=\"43.78125\" xlink:href=\"#m809a0af654\" y=\"118.915039\"/>\n      </g>\n     </g>\n     <g id=\"text_12\">\n      <!-- 6.0 -->\n      <g transform=\"translate(20.878125 122.714257)scale(0.1 -0.1)\">\n       <use xlink:href=\"#DejaVuSans-36\"/>\n       <use x=\"63.623047\" xlink:href=\"#DejaVuSans-2e\"/>\n       <use x=\"95.410156\" xlink:href=\"#DejaVuSans-30\"/>\n      </g>\n     </g>\n    </g>\n    <g id=\"ytick_5\">\n     <g id=\"line2d_12\">\n      <g>\n       <use style=\"stroke:#000000;stroke-width:0.8;\" x=\"43.78125\" xlink:href=\"#m809a0af654\" y=\"88.964623\"/>\n      </g>\n     </g>\n     <g id=\"text_13\">\n      <!-- 6.5 -->\n      <g transform=\"translate(20.878125 92.763842)scale(0.1 -0.1)\">\n       <use xlink:href=\"#DejaVuSans-36\"/>\n       <use x=\"63.623047\" xlink:href=\"#DejaVuSans-2e\"/>\n       <use x=\"95.410156\" xlink:href=\"#DejaVuSans-35\"/>\n      </g>\n     </g>\n    </g>\n    <g id=\"ytick_6\">\n     <g id=\"line2d_13\">\n      <g>\n       <use style=\"stroke:#000000;stroke-width:0.8;\" x=\"43.78125\" xlink:href=\"#m809a0af654\" y=\"59.014207\"/>\n      </g>\n     </g>\n     <g id=\"text_14\">\n      <!-- 7.0 -->\n      <g transform=\"translate(20.878125 62.813426)scale(0.1 -0.1)\">\n       <use xlink:href=\"#DejaVuSans-37\"/>\n       <use x=\"63.623047\" xlink:href=\"#DejaVuSans-2e\"/>\n       <use x=\"95.410156\" xlink:href=\"#DejaVuSans-30\"/>\n      </g>\n     </g>\n    </g>\n    <g id=\"ytick_7\">\n     <g id=\"line2d_14\">\n      <g>\n       <use style=\"stroke:#000000;stroke-width:0.8;\" x=\"43.78125\" xlink:href=\"#m809a0af654\" y=\"29.063791\"/>\n      </g>\n     </g>\n     <g id=\"text_15\">\n      <!-- 7.5 -->\n      <g transform=\"translate(20.878125 32.86301)scale(0.1 -0.1)\">\n       <use xlink:href=\"#DejaVuSans-37\"/>\n       <use x=\"63.623047\" xlink:href=\"#DejaVuSans-2e\"/>\n       <use x=\"95.410156\" xlink:href=\"#DejaVuSans-35\"/>\n      </g>\n     </g>\n    </g>\n    <g id=\"text_16\">\n     <!-- Sepal length -->\n     <g transform=\"translate(14.798438 147.324688)rotate(-90)scale(0.1 -0.1)\">\n      <defs>\n       <path d=\"M 3425 4513 \nL 3425 3897 \nQ 3066 4069 2747 4153 \nQ 2428 4238 2131 4238 \nQ 1616 4238 1336 4038 \nQ 1056 3838 1056 3469 \nQ 1056 3159 1242 3001 \nQ 1428 2844 1947 2747 \nL 2328 2669 \nQ 3034 2534 3370 2195 \nQ 3706 1856 3706 1288 \nQ 3706 609 3251 259 \nQ 2797 -91 1919 -91 \nQ 1588 -91 1214 -16 \nQ 841 59 441 206 \nL 441 856 \nQ 825 641 1194 531 \nQ 1563 422 1919 422 \nQ 2459 422 2753 634 \nQ 3047 847 3047 1241 \nQ 3047 1584 2836 1778 \nQ 2625 1972 2144 2069 \nL 1759 2144 \nQ 1053 2284 737 2584 \nQ 422 2884 422 3419 \nQ 422 4038 858 4394 \nQ 1294 4750 2059 4750 \nQ 2388 4750 2728 4690 \nQ 3069 4631 3425 4513 \nz\n\" id=\"DejaVuSans-53\" transform=\"scale(0.015625)\"/>\n       <path d=\"M 1159 525 \nL 1159 -1331 \nL 581 -1331 \nL 581 3500 \nL 1159 3500 \nL 1159 2969 \nQ 1341 3281 1617 3432 \nQ 1894 3584 2278 3584 \nQ 2916 3584 3314 3078 \nQ 3713 2572 3713 1747 \nQ 3713 922 3314 415 \nQ 2916 -91 2278 -91 \nQ 1894 -91 1617 61 \nQ 1341 213 1159 525 \nz\nM 3116 1747 \nQ 3116 2381 2855 2742 \nQ 2594 3103 2138 3103 \nQ 1681 3103 1420 2742 \nQ 1159 2381 1159 1747 \nQ 1159 1113 1420 752 \nQ 1681 391 2138 391 \nQ 2594 391 2855 752 \nQ 3116 1113 3116 1747 \nz\n\" id=\"DejaVuSans-70\" transform=\"scale(0.015625)\"/>\n      </defs>\n      <use xlink:href=\"#DejaVuSans-53\"/>\n      <use x=\"63.476562\" xlink:href=\"#DejaVuSans-65\"/>\n      <use x=\"125\" xlink:href=\"#DejaVuSans-70\"/>\n      <use x=\"188.476562\" xlink:href=\"#DejaVuSans-61\"/>\n      <use x=\"249.755859\" xlink:href=\"#DejaVuSans-6c\"/>\n      <use x=\"277.539062\" xlink:href=\"#DejaVuSans-20\"/>\n      <use x=\"309.326172\" xlink:href=\"#DejaVuSans-6c\"/>\n      <use x=\"337.109375\" xlink:href=\"#DejaVuSans-65\"/>\n      <use x=\"398.632812\" xlink:href=\"#DejaVuSans-6e\"/>\n      <use x=\"462.011719\" xlink:href=\"#DejaVuSans-67\"/>\n      <use x=\"525.488281\" xlink:href=\"#DejaVuSans-74\"/>\n      <use x=\"564.697266\" xlink:href=\"#DejaVuSans-68\"/>\n     </g>\n    </g>\n   </g>\n   <g id=\"patch_3\">\n    <path d=\"M 43.78125 224.64 \nL 43.78125 7.2 \n\" style=\"fill:none;stroke:#000000;stroke-linecap:square;stroke-linejoin:miter;stroke-width:0.8;\"/>\n   </g>\n   <g id=\"patch_4\">\n    <path d=\"M 378.58125 224.64 \nL 378.58125 7.2 \n\" style=\"fill:none;stroke:#000000;stroke-linecap:square;stroke-linejoin:miter;stroke-width:0.8;\"/>\n   </g>\n   <g id=\"patch_5\">\n    <path d=\"M 43.78125 224.64 \nL 378.58125 224.64 \n\" style=\"fill:none;stroke:#000000;stroke-linecap:square;stroke-linejoin:miter;stroke-width:0.8;\"/>\n   </g>\n   <g id=\"patch_6\">\n    <path d=\"M 43.78125 7.2 \nL 378.58125 7.2 \n\" style=\"fill:none;stroke:#000000;stroke-linecap:square;stroke-linejoin:miter;stroke-width:0.8;\"/>\n   </g>\n  </g>\n </g>\n <defs>\n  <clipPath id=\"p3b7ae258e3\">\n   <rect height=\"217.44\" width=\"334.8\" x=\"43.78125\" y=\"7.2\"/>\n  </clipPath>\n </defs>\n</svg>\n",
      "image/png": "[encoded data removed]"
     },
     "metadata": {
      "needs_background": "light"
     }
    }
   ],
   "metadata": {
    "execution": {
     "iopub.execute_input": "2020-09-23T04:12:00.289591Z",
     "iopub.status.busy": "2020-09-23T04:12:00.288919Z",
     "iopub.status.idle": "2020-09-23T04:12:00.729253Z",
     "shell.execute_reply": "2020-09-23T04:12:00.729798Z"
    },
    "id": "me5Wn-9FcyyO"
   }
  },
  {
   "cell_type": "markdown",
   "source": [
    "모델 구축 단계를 단순화하기 위해, 특성 딕셔너리를 `(batch_size, num_features)`의 형태를 가지는 단일 배열로 다시 구성하는 함수를 생성합니다.\n",
    "\n",
    "이 함수는 텐서의 리스트(list)로부터 값을 취하고 특정한 차원으로 결합된 텐서를 생성하는 [tf.stack](https://www.tensorflow.org/api_docs/python/tf/stack) 메서드(method)를 사용합니다."
   ],
   "metadata": {
    "id": "YlxpSyHlhT6M"
   }
  },
  {
   "cell_type": "code",
   "execution_count": 33,
   "source": [
    "def pack_features_vector(features, labels):\n",
    "  \"\"\"특성들을 단일 배열로 묶습니다.\"\"\"\n",
    "  print(features.keys())\n",
    "  features = tf.stack(list(features.values()), axis=1)\n",
    "  return features, labels"
   ],
   "outputs": [],
   "metadata": {
    "execution": {
     "iopub.execute_input": "2020-09-23T04:12:00.735043Z",
     "iopub.status.busy": "2020-09-23T04:12:00.734382Z",
     "iopub.status.idle": "2020-09-23T04:12:00.736848Z",
     "shell.execute_reply": "2020-09-23T04:12:00.736237Z"
    },
    "id": "jm932WINcaGU"
   }
  },
  {
   "cell_type": "markdown",
   "source": [
    "그 후 각 `(features,label)`쌍의 특성을 훈련 데이터 세트에 쌓기위해 [tf.data.Dataset.map](https://www.tensorflow.org/api_docs/python/tf/data/dataset/map) 메서드를 사용합니다. "
   ],
   "metadata": {
    "id": "V1Vuph_eDl8x"
   }
  },
  {
   "cell_type": "code",
   "execution_count": 34,
   "source": [
    "train_dataset2 = train_dataset.map(pack_features_vector)"
   ],
   "outputs": [
    {
     "output_type": "stream",
     "name": "stdout",
     "text": [
      "odict_keys(['sepal_length', 'sepal_width', 'petal_length', 'petal_width'])\n"
     ]
    }
   ],
   "metadata": {
    "execution": {
     "iopub.execute_input": "2020-09-23T04:12:00.741170Z",
     "iopub.status.busy": "2020-09-23T04:12:00.740534Z",
     "iopub.status.idle": "2020-09-23T04:12:00.785117Z",
     "shell.execute_reply": "2020-09-23T04:12:00.785561Z"
    },
    "id": "ZbDkzGZIkpXf"
   }
  },
  {
   "cell_type": "markdown",
   "source": [
    "데이터셋의 특성 요소는 이제 형태가 `(batch_size, num_features)`인 배열입니다. 첫 5개행의 샘플을 살펴봅시다."
   ],
   "metadata": {
    "id": "NLy0Q1xCldVO"
   }
  },
  {
   "cell_type": "code",
   "execution_count": 23,
   "source": [
    "features, labels = next(iter(train_dataset))\n",
    "\n",
    "print(features[:5])"
   ],
   "outputs": [
    {
     "output_type": "stream",
     "name": "stdout",
     "text": [
      "tf.Tensor(\n",
      "[[5.7 3.8 1.7 0.3]\n",
      " [5.  3.  1.6 0.2]\n",
      " [6.  2.9 4.5 1.5]\n",
      " [5.2 3.5 1.5 0.2]\n",
      " [7.7 3.8 6.7 2.2]], shape=(5, 4), dtype=float32)\n"
     ]
    }
   ],
   "metadata": {
    "execution": {
     "iopub.execute_input": "2020-09-23T04:12:00.789996Z",
     "iopub.status.busy": "2020-09-23T04:12:00.789381Z",
     "iopub.status.idle": "2020-09-23T04:12:00.817883Z",
     "shell.execute_reply": "2020-09-23T04:12:00.818317Z"
    },
    "id": "kex9ibEek6Tr"
   }
  },
  {
   "cell_type": "markdown",
   "source": [
    "### 모델 타입 선정\n",
    "\n",
    "### 왜 모델을 사용해야하는가?\n",
    "\n",
    " *[모델](https://developers.google.com/machine-learning/crash-course/glossary#model)* 은 특성(feature)과 레이블(label) 과의 관계입니다. 붓꽃 분류 문제에서 모델은 측정된 꽃받침과 꽃잎 사이의 관계를 정의하고 붓꽃의 품종을 예측합니다. 몇 가지 간단한 모델은 몇 줄의 대수학으로 표현할 수 있으나, 복잡한 머신러닝 모델은 요약하기 힘든 굉장히 많은 수의 매개변수를 가지고 있습니다.\n",
    "\n",
    "머신러닝을 사용하지 않고 4가지의 특성 사이의 관계를 결정하고 붓꽃을 품종을 예측하실 수 있나요? 즉, 특정 품종의 꽃받침과 꽃잎과의 관계를 정의할 수 있을 정도로 데이터셋을 분석했다면, 전통적인 프로그래밍 기술(예를 들어 굉장히 많은 조건문)을 사용하여 모델은 만들 수 있으신가요? 더 복잡한 데이터셋에서 이는 불가능에 가까울 수 있습니다. 잘 구성된 머신러닝은 사용자를 위한 모델을 결정합니다. 만약 충분히 좋은 샘플을 잘 구성된 머신러닝 모델에 제공한다면, 프로그램은 사용자를 위한 특성 간의 관계를 이해하고 제공합니다. \n",
    "\n",
    "### 모델 선정\n",
    "\n",
    "이제 학습을 위한 모델의 종류를 선정해야합니다. 여러 종류의 모델이 있고, 이를 선택하는 것은 많은 경험이 필요합니다. 이번 튜토리얼에서는 붓꽃 분류 문제를 해결하기위해 *[신경망(neural network)](https://developers.google.com/machine-learning/glossary/#neural_network)* 모델을 사용하겠습니다. 신경망 모델은 특성과 레이블 사이의 복잡한 관계를 찾을 수 있습니다. 신경망은 하나 또는 그 이상의 *[은닉층(hidden layer)](https://developers.google.com/machine-learning/glossary/#hidden_layer)*으로 구성된 그래프입니다. 각각의 은닉층은 하나 이상의 *[뉴런(neuron)](https://developers.google.com/machine-learning/glossary/#neuron)*으로 구성되어있습니다. 몇가지 신경망의 범주가 있으며, 이번 튜토리얼에서는 *[밀집(dense) 또는 완전 연결 신경망(fully-connected neural network)](https://developers.google.com/machine-learning/glossary/#fully_connected_layer)*를 사용합니다: 완전 연결 신경망(fully-connected neural network)은 하나의 뉴런에 이전층의 *모든* 뉴런의 입력을 받는 신경망입니다. 예를 들어, 그림 2는 입력층, 2개의 은닉층, 그리고 출력층으로 구성된 완전 연결 신경망입니다. \n",
    "\n",
    "<table>\n",
    "  <tr><td>\n",
    "    <img src=\"https://www.tensorflow.org/images/custom_estimators/full_network.png\"\n",
    "         alt=\"A diagram of the network architecture: Inputs, 2 hidden layers, and outputs\">\n",
    "  </td></tr>\n",
    "  <tr><td align=\"center\">\n",
    "    <b>그림 2.</b> 특성, 은닉층, 예측으로 구성된 신경망<br/>&nbsp;\n",
    "  </td></tr>\n",
    "</table>\n",
    "\n",
    "그림 2의 모델이 훈련된 다음 레이블 되어있지 않은 데이터를 제공했을때, 모델은 주어진 데이터의 3가지(주어진 레이블의 개수) 예측을 출력합니다. 이러한 예측은 *[추론(inference)](https://developers.google.com/machine-learning/crash-course/glossary#inference)* 이라고 불립니다. 이 샘플에서 출력의 합은 1.0입니다. 그림 2에서 예측은 *Iris setosa* `0.02`, *Iris versicolor* `0.95`, *Iris virginica*에 `0.03`로 주어집니다. 이는 모델이 95%의 확률로 주어진 데이터를 *Iris versicolor*로 예측한다는 것을 의미합니다. "
   ],
   "metadata": {
    "id": "LsaVrtNM3Tx5"
   }
  },
  {
   "cell_type": "markdown",
   "source": [
    "### 케라스를 사용한 모델 생성\n",
    "\n",
    "텐서플로의 [tf.keras](https://www.tensorflow.org/api_docs/python/tf/keras) API는 모델과 층을 생성하기 위한 풍부한 라이브러리를 제공합니다. 케라스가 구성 요소를 연결하기 위한 복잡함을 모두 처리해 주기 때문에 모델을 구축하고 실험하는 것이 쉽습니다.\n",
    "\n",
    "[tf.keras.Sequential](https://www.tensorflow.org/api_docs/python/tf/keras/Sequential)은 여러 층을 연이어 쌓은 모델입니다. 이 구조는 층의 인스턴스를 취하며, 아래의 경우 각 층당 10개의 노드(node)를 가지는 2개의 [완전 연결((Dense) 층](https://www.tensorflow.org/api_docs/python/tf/keras/layers/Dense)과 3개의 예측(레이블의 수) 노드를 가지는 출력 층으로 구성되어있습니다. 첫 번째 층의 `input_shape` 매개변수는 데이터셋의 특성의 수와 관계있습니다."
   ],
   "metadata": {
    "id": "W23DIMVPQEBt"
   }
  },
  {
   "cell_type": "code",
   "execution_count": 24,
   "source": [
    "model = tf.keras.Sequential([\n",
    "  tf.keras.layers.Dense(10, activation=tf.nn.relu, input_shape=(4,)),  # 입력의 형태가 필요합니다.\n",
    "  tf.keras.layers.Dense(10, activation=tf.nn.relu),\n",
    "  tf.keras.layers.Dense(3)\n",
    "])"
   ],
   "outputs": [],
   "metadata": {
    "execution": {
     "iopub.execute_input": "2020-09-23T04:12:00.833419Z",
     "iopub.status.busy": "2020-09-23T04:12:00.822855Z",
     "iopub.status.idle": "2020-09-23T04:12:00.861222Z",
     "shell.execute_reply": "2020-09-23T04:12:00.861709Z"
    },
    "id": "2fZ6oL2ig3ZK"
   }
  },
  {
   "cell_type": "markdown",
   "source": [
    "*[활성화 함수(activation function)](https://developers.google.com/machine-learning/crash-course/glossary#activation_function)*는 각 층에서 출력의 형태를 결정합니다. 이러한 비선형성은 중요하며, 활성화 함수가 없는 모델은 하나의 층과 동일하다고 생각할 수 있습니다. 사용 가능한 [활성화 함수](https://www.tensorflow.org/api_docs/python/tf/keras/activations)는 많지만, [ReLU](https://developers.google.com/machine-learning/crash-course/glossary#ReLU)가 은닉층에 주로 사용됩니다. \n",
    "\n",
    "이상적인 은닉층과 뉴런의 개수는 문제와 데이터셋에 의해 좌우됩니다. 머신러닝의 여러 측면과 마찬가지로, 최적의 신경망 타입을 결정하는 것은 많은 경험과 지식이 필요합니다. 경험을 토대로 보면 은닉층과 뉴런의 증가는 전형적으로 강력한 모델을 생성하므로, 모델을 효과적으로 훈련시키기 위해서 더 많은 데이터를 필요로 합니다."
   ],
   "metadata": {
    "id": "FHcbEzMpxbHL"
   }
  },
  {
   "cell_type": "markdown",
   "source": [
    "### 모델 사용\n",
    "\n",
    "이 모델이 특성의 배치에 대해 수행하는 작업을 간단히 살펴봅시다. "
   ],
   "metadata": {
    "id": "2wFKnhWCpDSS"
   }
  },
  {
   "cell_type": "code",
   "execution_count": 25,
   "source": [
    "predictions = model(features)\n",
    "predictions[:5]"
   ],
   "outputs": [
    {
     "output_type": "execute_result",
     "data": {
      "text/plain": [
       "<tf.Tensor: shape=(5, 3), dtype=float32, numpy=\n",
       "array([[-2.5660262,  2.578907 , -2.244585 ],\n",
       "       [-2.069134 ,  2.0458534, -1.8118203],\n",
       "       [-2.6837754,  2.284413 , -2.080558 ],\n",
       "       [-2.3269897,  2.3464031, -2.047911 ],\n",
       "       [-3.4009805,  2.8991284, -2.8887815]], dtype=float32)>"
      ]
     },
     "metadata": {},
     "execution_count": 25
    }
   ],
   "metadata": {
    "execution": {
     "iopub.execute_input": "2020-09-23T04:12:00.866421Z",
     "iopub.status.busy": "2020-09-23T04:12:00.865709Z",
     "iopub.status.idle": "2020-09-23T04:12:01.127803Z",
     "shell.execute_reply": "2020-09-23T04:12:01.128392Z"
    },
    "id": "xe6SQ5NrpB-I"
   }
  },
  {
   "cell_type": "markdown",
   "source": [
    "각 샘플은 각 클래스에 대한 [로짓(logit)](https://developers.google.com/machine-learning/crash-course/glossary#logits)을 반환합니다. \n",
    "\n",
    "이 로짓(logit)을 각 클래스에 대한 확률로 변환하기 위하서 [소프트맥스(softmax)](https://developers.google.com/machine-learning/crash-course/glossary#softmax) 함수를 사용하겠습니다."
   ],
   "metadata": {
    "id": "wxyXOhwVr5S3"
   }
  },
  {
   "cell_type": "code",
   "execution_count": 26,
   "source": [
    "tf.nn.softmax(predictions[:5])"
   ],
   "outputs": [
    {
     "output_type": "execute_result",
     "data": {
      "text/plain": [
       "<tf.Tensor: shape=(5, 3), dtype=float32, numpy=\n",
       "array([[0.00574914, 0.98632216, 0.00792872],\n",
       "       [0.01573691, 0.96390814, 0.02035491],\n",
       "       [0.00682155, 0.9807087 , 0.01246973],\n",
       "       [0.00914225, 0.9787725 , 0.01208525],\n",
       "       [0.00182715, 0.99512345, 0.00304944]], dtype=float32)>"
      ]
     },
     "metadata": {},
     "execution_count": 26
    }
   ],
   "metadata": {
    "execution": {
     "iopub.execute_input": "2020-09-23T04:12:01.133074Z",
     "iopub.status.busy": "2020-09-23T04:12:01.132397Z",
     "iopub.status.idle": "2020-09-23T04:12:01.137730Z",
     "shell.execute_reply": "2020-09-23T04:12:01.138268Z"
    },
    "id": "_tRwHZmTNTX2"
   }
  },
  {
   "cell_type": "markdown",
   "source": [
    "`tf.argmax`는 예측된 값 중 가장 큰 확률(원하는 클래스)을 반환합니다. 하지만 모델이 아직 훈련되지 않았으므로 이는 좋은 예측이 아닙니다."
   ],
   "metadata": {
    "id": "uRZmchElo481"
   }
  },
  {
   "cell_type": "code",
   "execution_count": 27,
   "source": [
    "print(\"  예측: {}\".format(tf.argmax(predictions, axis=1)))\n",
    "print(\"레이블: {}\".format(labels))"
   ],
   "outputs": [
    {
     "output_type": "stream",
     "name": "stdout",
     "text": [
      "  예측: [1 1 1 1 1 1 1 1 1 1 1 1 1 1 1 1 1 1 1 1 1 1 1 1 1 1 1 1 1 1 1 1]\n",
      "레이블: [0 0 1 0 2 0 2 1 0 2 2 2 0 1 2 0 2 2 0 2 2 0 0 1 0 0 2 2 2 1 0 0]\n"
     ]
    }
   ],
   "metadata": {
    "execution": {
     "iopub.execute_input": "2020-09-23T04:12:01.142705Z",
     "iopub.status.busy": "2020-09-23T04:12:01.142067Z",
     "iopub.status.idle": "2020-09-23T04:12:01.146082Z",
     "shell.execute_reply": "2020-09-23T04:12:01.145500Z"
    },
    "id": "-Jzm_GoErz8B"
   }
  },
  {
   "cell_type": "markdown",
   "source": [
    "### 모델 훈련하기\n",
    "\n",
    "*[훈련 단계](https://developers.google.com/machine-learning/crash-course/glossary#training)* 는 모델이 점진적으로 최적화되거나 데이터셋을 학습하는 머신러닝의 과정입니다. 훈련의 목적은 미지의 데이터를 예측하기 위해, 훈련 데이터 세트의 구조에 대해서 충분히 학습하는 것입니다. 만약 모델이 훈련 데이터 세트에 대해서 과하게 학습된다면 오직 훈련 데이터 세트에 대해서 작동할 것이며, 일반화되기 힘들 것입니다. 이러한 문제를 *[과대적합(overfitting)](https://developers.google.com/machine-learning/crash-course/glossary#overfitting)* 이라고 합니다. 이는 마치 문제를 이해하고 해결한다기보다는 답을 기억하는 것이라고 생각할 수 있습니다. \n",
    "\n",
    "붓꽃 분류 문제는 *[지도 학습(supervised machine learning)](https://developers.google.com/machine-learning/glossary/#supervised_machine_learning)* 의 예시 중 하나입니다.: 지도학습은 모델이 레이블을 포함한 훈련 데이터로부터 학습됩니다. *[비지도 학습(unsupervised machine learning)](https://developers.google.com/machine-learning/glossary/#unsupervised_machine_learning)* 에서는 훈련 데이터가 레이블을 포함하고 있지 않습니다. 대신에 모델은 특성 간의 패턴을 찾습니다. "
   ],
   "metadata": {
    "id": "Vzq2E5J2QMtw"
   }
  },
  {
   "cell_type": "markdown",
   "source": [
    "### 손실 함수와 그래디언트 함수 정의하기\n",
    "\n",
    "훈련과 평가단계에서 모델의 *[손실(loss)](https://developers.google.com/machine-learning/crash-course/glossary#loss)*을 계산해야 합니다. 손실은 모델의 예측이 원하는 레이블과 얼마나 일치하는지, 또한 모델이 잘 작동하는지에 대한 척도로 사용됩니다. 이 값을 최소화하고, 최적화 해야합니다.\n",
    "\n",
    "모델의 손실은 `tf.keras.losses.categorical_crossentropy` 함수를 사용해 계산할 것입니다. 이 함수는 모델의 클래스(레이블)과 예측된 값(로짓)을 입력받아 샘플의 평균 손실을 반환합니다."
   ],
   "metadata": {
    "id": "RaKp8aEjKX6B"
   }
  },
  {
   "cell_type": "code",
   "execution_count": 28,
   "source": [
    "loss_object = tf.keras.losses.SparseCategoricalCrossentropy(from_logits=True)"
   ],
   "outputs": [],
   "metadata": {
    "execution": {
     "iopub.execute_input": "2020-09-23T04:12:01.150327Z",
     "iopub.status.busy": "2020-09-23T04:12:01.149694Z",
     "iopub.status.idle": "2020-09-23T04:12:01.151634Z",
     "shell.execute_reply": "2020-09-23T04:12:01.152073Z"
    },
    "id": "QOsi6b-1CXIn"
   }
  },
  {
   "cell_type": "code",
   "execution_count": 29,
   "source": [
    "def loss(model, x, y):\n",
    "  y_ = model(x)\n",
    "\n",
    "  return loss_object(y_true=y, y_pred=y_)\n",
    "\n",
    "\n",
    "l = loss(model, features, labels)\n",
    "print(\"손실 테스트: {}\".format(l))"
   ],
   "outputs": [
    {
     "output_type": "stream",
     "name": "stdout",
     "text": [
      "손실 테스트: 3.949158191680908\n"
     ]
    }
   ],
   "metadata": {
    "execution": {
     "iopub.execute_input": "2020-09-23T04:12:01.156993Z",
     "iopub.status.busy": "2020-09-23T04:12:01.156361Z",
     "iopub.status.idle": "2020-09-23T04:12:01.163201Z",
     "shell.execute_reply": "2020-09-23T04:12:01.163652Z"
    },
    "id": "tMAT4DcMPwI-"
   }
  },
  {
   "cell_type": "markdown",
   "source": [
    "모델을 최적화하기 위해 사용되는 *[그래디언트(gradient)](https://developers.google.com/machine-learning/crash-course/glossary#gradient)*를 계산하기 위해 [tf.GradientTape](https://www.tensorflow.org/api_docs/python/tf/GradientTape) 컨텍스트를 사용합니다."
   ],
   "metadata": {
    "id": "3IcPqA24QM6B"
   }
  },
  {
   "cell_type": "code",
   "execution_count": 30,
   "source": [
    "def grad(model, inputs, targets):\n",
    "  with tf.GradientTape() as tape:\n",
    "    loss_value = loss(model, inputs, targets)\n",
    "  return loss_value, tape.gradient(loss_value, model.trainable_variables)"
   ],
   "outputs": [],
   "metadata": {
    "execution": {
     "iopub.execute_input": "2020-09-23T04:12:01.168256Z",
     "iopub.status.busy": "2020-09-23T04:12:01.167577Z",
     "iopub.status.idle": "2020-09-23T04:12:01.169253Z",
     "shell.execute_reply": "2020-09-23T04:12:01.169750Z"
    },
    "id": "x57HcKWhKkei"
   }
  },
  {
   "cell_type": "markdown",
   "source": [
    "### 옵티마이저 생성 \n",
    "\n",
    "*[옵티마이저(optimizer)](https://developers.google.com/machine-learning/crash-course/glossary#optimizer)*는 `손실` 함수를 최소화하기 위해 계산된 그래디언트를 모델의 변수에 적용합니다. 손실 함수를 구부러진 곡선의 표면(그림 3)으로 생각할 수 있으며, 이 함수의 최저점을 찾고자 합니다. 그래디언트는 가장 가파른 상승 방향을 가리키며 따라서 반대 방향으로 이동하는 여행을 합니다. 각 배치마다의 손실과 기울기를 반복적으로 계산하여 훈련과정 동안 모델을 조정합니다. 점진적으로, 모델은 손실을 최소화하기 위해 가중치(weight)와 편향(bias)의 최적의 조합을 찾아냅니다. 손실이 낮을수록 더 좋은 모델의 예측을 기대할 수 있습니다.\n",
    "\n",
    "<table>\n",
    "  <tr><td>\n",
    "    <img src=\"https://cs231n.github.io/assets/nn3/opt1.gif\" width=\"70%\"\n",
    "         alt=\"Optimization algorithms visualized over time in 3D space.\">\n",
    "  </td></tr>\n",
    "  <tr><td align=\"center\">\n",
    "    <b> 그림 3.</b> 3차원 공간에 대한 최적화 알고리즘 시각화.<br/>(Source: <a href=\"http://cs231n.github.io/neural-networks-3/\">Stanford class CS231n</a>, MIT License, Image credit: <a href=\"https://twitter.com/alecrad\">Alec Radford</a>)\n",
    "  </td></tr>\n",
    "</table>\n",
    "\n",
    "텐서플로는 훈련을 위해 사용 가능한 여러종류의 [최적화 알고리즘](https://www.tensorflow.org/api_guides/python/train)을 가지고 있습니다. 이번 모델에서는 *[확률적 경사 하강법(stochastic gradient descent, SGD)](https://developers.google.com/machine-learning/crash-course/glossary#gradient_descent)* 을 구현한 [tf.train.GradientDescentOptimizer](https://www.tensorflow.org/api_docs/python/tf/train/GradientDescentOptimizer)를 사용하겠습니다. `learning_rate`은 경사하강 과정의 크기를 나타내는 매개변수이며, 더 나은 결과를 위해 조절가능한 *하이퍼파라미터(hyperparameter)* 입니다. "
   ],
   "metadata": {
    "id": "lOxFimtlKruu"
   }
  },
  {
   "cell_type": "markdown",
   "source": [
    "옵티마이저(optimizer)를 설정합니다."
   ],
   "metadata": {
    "id": "XkUd6UiZa_dF"
   }
  },
  {
   "cell_type": "code",
   "execution_count": 31,
   "source": [
    "optimizer = tf.keras.optimizers.Adam(learning_rate=0.01)"
   ],
   "outputs": [],
   "metadata": {
    "execution": {
     "iopub.execute_input": "2020-09-23T04:12:01.173893Z",
     "iopub.status.busy": "2020-09-23T04:12:01.173262Z",
     "iopub.status.idle": "2020-09-23T04:12:01.175490Z",
     "shell.execute_reply": "2020-09-23T04:12:01.174912Z"
    },
    "id": "8xxi2NNGKwG_"
   }
  },
  {
   "cell_type": "markdown",
   "source": [
    "이를 사용해 한 번의 최적화 단계를 계산하기 위해 사용합니다. "
   ],
   "metadata": {
    "id": "pJVRZ0hP52ZB"
   }
  },
  {
   "cell_type": "code",
   "execution_count": 32,
   "source": [
    "loss_value, grads = grad(model, features, labels)\n",
    "\n",
    "print(\"단계: {}, 초기 손실: {}\".format(optimizer.iterations.numpy(),\n",
    "                                          loss_value.numpy()))\n",
    "\n",
    "optimizer.apply_gradients(zip(grads, model.trainable_variables))\n",
    "\n",
    "print(\"단계: {},      손실: {}\".format(optimizer.iterations.numpy(),\n",
    "                                          loss(model, features, labels).numpy()))"
   ],
   "outputs": [
    {
     "output_type": "stream",
     "name": "stdout",
     "text": [
      "단계: 0, 초기 손실: 3.949158191680908\n",
      "단계: 1,      손실: 3.043426036834717\n"
     ]
    }
   ],
   "metadata": {
    "execution": {
     "iopub.execute_input": "2020-09-23T04:12:01.180978Z",
     "iopub.status.busy": "2020-09-23T04:12:01.180361Z",
     "iopub.status.idle": "2020-09-23T04:12:01.209777Z",
     "shell.execute_reply": "2020-09-23T04:12:01.209198Z"
    },
    "id": "rxRNTFVe56RG"
   }
  },
  {
   "cell_type": "markdown",
   "source": [
    "### 훈련 루프\n",
    "\n",
    "모든 사항이 갖춰졌으므로 모델을 훈련할 준비가 되었습니다! 훈련 루프는 더 좋은 예측을 위해 데이터셋을 모델로 제공합니다. 다음의 코드 블럭은 아래의 훈련 단계를 작성한 것입니다. \n",
    "\n",
    "1. 각 *에포크(epoch)* 반복. 에포크는 데이터셋을 통과시키는 횟수입니다. \n",
    "2. 에포크 내에서, *특성* (`x`)와 *레이블* (`y`)가 포함된 훈련 데이터 세트에 있는 샘플을 반복합니다.\n",
    "3. 샘플의 특성을 사용하여 결과를 예측 하고 레이블과 비교합니다. 예측의 부정확도를 측정하고 모델의 손실과 그래디언트를 계산하기 위해 사용합니다. \n",
    "4. 모델의 변수를 업데이트하기 위해 `옵티마이저`를 사용합니다. \n",
    "5. 시각화를 위해 몇가지 값들을 저장합니다.\n",
    "6. 각 에포크를 반복합니다.\n",
    "\n",
    "`num_epochs` 변수는 데이터셋의 반복 횟수입니다. 직관과는 반대로, 모델을 길게 학습하는 것이 더 나은 모델이 될 것이라고 보장하지 못합니다. `num_epochs`는 조정가능한 *[하이퍼파라미터(hyperparameter)](https://developers.google.com/machine-learning/glossary/#hyperparameter)* 입니다. 적절한 횟수를 선택하는 것은 많은 경험과 직관을 필요로 합니다. "
   ],
   "metadata": {
    "id": "7Y2VSELvwAvW"
   }
  },
  {
   "cell_type": "code",
   "execution_count": 34,
   "source": [
    "train_loss_results = []\n",
    "train_accuracy_results = []\n",
    "\n",
    "num_epochs = 201\n",
    "\n",
    "for epoch in range(num_epochs):\n",
    "  epoch_loss_avg = tf.keras.metrics.Mean()\n",
    "  epoch_accuracy = tf.keras.metrics.SparseCategoricalAccuracy()\n",
    "\n",
    "  for x, y in train_dataset:\n",
    "    loss_value, grads = grad(model, x, y)\n",
    "    optimizer.apply_gradients(zip(grads, model.trainable_variables))\n",
    "\n",
    "    epoch_loss_avg(loss_value)  \n",
    "\n",
    "    epoch_accuracy(y, model(x))\n",
    "\n",
    "  train_loss_results.append(epoch_loss_avg.result())\n",
    "  train_accuracy_results.append(epoch_accuracy.result())\n",
    "\n",
    "  if epoch % 50 == 0:\n",
    "    print(\"에포크 {:03d}: 손실: {:.3f}, 정확도: {:.3%}\".format(epoch,\n",
    "                                                                epoch_loss_avg.result(),\n",
    "                                                                epoch_accuracy.result()))"
   ],
   "outputs": [
    {
     "output_type": "stream",
     "name": "stdout",
     "text": [
      "에포크 000: 손실: 1.864, 정확도: 33.333%\n",
      "에포크 050: 손실: 0.081, 정확도: 97.500%\n",
      "에포크 100: 손실: 0.083, 정확도: 97.500%\n",
      "에포크 150: 손실: 0.082, 정확도: 97.500%\n",
      "에포크 200: 손실: 0.069, 정확도: 98.333%\n"
     ]
    }
   ],
   "metadata": {
    "execution": {
     "iopub.execute_input": "2020-09-23T04:12:01.223340Z",
     "iopub.status.busy": "2020-09-23T04:12:01.222626Z",
     "iopub.status.idle": "2020-09-23T04:12:16.031970Z",
     "shell.execute_reply": "2020-09-23T04:12:16.031323Z"
    },
    "id": "AIgulGRUhpto"
   }
  },
  {
   "cell_type": "markdown",
   "source": [
    "### 시간에 따른 손실함수 시각화"
   ],
   "metadata": {
    "id": "2FQHVUnm_rjw"
   }
  },
  {
   "cell_type": "markdown",
   "source": [
    "모델의 훈련 과정을 출력하는 것도 도움이 되지만, 훈련 과정을 직접 보는 것이 더 도움이 되곤합니다. [텐서보드(tensorboard)](https://www.tensorflow.org/guide/summaries_and_tensorboard)는 텐서플로에 패키지 되어있는 굉장히 유용한 시각화 툴입니다. 하지만 `matplotlib` 모듈을 사용하여 일반적인 도표를 출력할 수 있습니다.\n",
    "\n",
    "이 도표를 해석하는 것은 여러 경험이 필요하지만, 결국 모델을 최적화하기 위해 *손실* 이 내려가고 *정확도* 가 올라가는 것을 원합니다."
   ],
   "metadata": {
    "id": "j3wdbmtLVTyr"
   }
  },
  {
   "cell_type": "code",
   "execution_count": 35,
   "source": [
    "fig, axes = plt.subplots(2, sharex=True, figsize=(12, 8))\n",
    "fig.suptitle('Metric')\n",
    "\n",
    "axes[0].set_ylabel(\"Loss\", fontsize=14)\n",
    "axes[0].plot(train_loss_results)\n",
    "\n",
    "axes[1].set_ylabel(\"Accurary\", fontsize=14)\n",
    "axes[1].set_xlabel(\"Epoch\", fontsize=14)\n",
    "axes[1].plot(train_accuracy_results)\n",
    "plt.show()"
   ],
   "outputs": [
    {
     "output_type": "display_data",
     "data": {
      "text/plain": [
       "<Figure size 864x576 with 2 Axes>"
      ],
      "image/png": "[encoded data removed]"
     },
     "metadata": {
      "needs_background": "light"
     }
    }
   ],
   "metadata": {
    "execution": {
     "iopub.execute_input": "2020-09-23T04:12:16.042708Z",
     "iopub.status.busy": "2020-09-23T04:12:16.041611Z",
     "iopub.status.idle": "2020-09-23T04:12:16.434631Z",
     "shell.execute_reply": "2020-09-23T04:12:16.435049Z"
    },
    "id": "agjvNd2iUGFn"
   }
  },
  {
   "cell_type": "markdown",
   "source": [
    "## 모델 유효성 평가\n",
    "\n",
    "이제 모델은 훈련되었습니다. 모델의 성능에 대한 몇가지 통계를 얻을 수 있습니다. \n",
    "\n",
    "*평가(Evaluating)*는 모델이 예측을 얼마나 효과적으로 수행하는지 결정하는 것을 의미합니다. 붓꽃 분류 모델의 유효성을 결정하기 위해, 몇가지 꽃잎과 꽃받침 데이터를 통과시키고 어떠한 품종을 예측하는지 확인합니다. 그 후 실제 품종과 비교합니다. 예를 들어, 절반의 데이터를 올바르게 예측한 모델의 *[정확도](https://developers.google.com/machine-learning/glossary/#accuracy)* 는 `0.5`입니다. 그림 4는 조금 더 효과적인 모델입니다. 5개의 예측 중 4개를 올바르게 예측하여 80% 정확도를 냅니다.\n",
    "\n",
    "<table cellpadding=\"8\" border=\"0\">\n",
    "  <colgroup>\n",
    "    <col span=\"4\" >\n",
    "    <col span=\"1\" bgcolor=\"lightblue\">\n",
    "    <col span=\"1\" bgcolor=\"lightgreen\">\n",
    "  </colgroup>\n",
    "  <tr bgcolor=\"lightgray\">\n",
    "    <th colspan=\"4\">샘플 특성</th>\n",
    "    <th colspan=\"1\">레이블</th>\n",
    "    <th colspan=\"1\" >모델 예측</th>\n",
    "  </tr>\n",
    "  <tr>\n",
    "    <td>5.9</td><td>3.0</td><td>4.3</td><td>1.5</td><td align=\"center\">1</td><td align=\"center\">1</td>\n",
    "  </tr>\n",
    "  <tr>\n",
    "    <td>6.9</td><td>3.1</td><td>5.4</td><td>2.1</td><td align=\"center\">2</td><td align=\"center\">2</td>\n",
    "  </tr>\n",
    "  <tr>\n",
    "    <td>5.1</td><td>3.3</td><td>1.7</td><td>0.5</td><td align=\"center\">0</td><td align=\"center\">0</td>\n",
    "  </tr>\n",
    "  <tr>\n",
    "    <td>6.0</td> <td>3.4</td> <td>4.5</td> <td>1.6</td> <td align=\"center\">1</td><td align=\"center\" bgcolor=\"red\">2</td>\n",
    "  </tr>\n",
    "  <tr>\n",
    "    <td>5.5</td><td>2.5</td><td>4.0</td><td>1.3</td><td align=\"center\">1</td><td align=\"center\">1</td>\n",
    "  </tr>\n",
    "  <tr><td align=\"center\" colspan=\"6\">\n",
    "    <b>그림 4.</b> 80% 정확도 붓꽃 분류기.<br/>&nbsp;\n",
    "  </td></tr>\n",
    "</table>"
   ],
   "metadata": {
    "id": "Zg8GoMZhLpGH"
   }
  },
  {
   "cell_type": "markdown",
   "source": [
    "### 테스트 데이터 세트 설정\n",
    "\n",
    "모델을 평가하는 것은 모델을 훈련하는 것과 유사합니다. 가장 큰 차이는 훈련 데이터가 아닌 *[테스트 데이터 세트](https://developers.google.com/machine-learning/crash-course/glossary#test_set)* 를 사용했다는 것입니다. 공정하게 모델의 유효성을 평가하기 위해, 모델을 평가하기 위한 샘플은 반드시 훈련 데이터와 달라야합니다. \n",
    "\n",
    "테스트 데이터 세트를 설정하는 것은 훈련 데이터 세트를 설정하는 것과 유사합니다. CSV 파일을 다운로드하고 값을 파싱합니다. 그 후 셔플은 적용하지 않습니다."
   ],
   "metadata": {
    "id": "z-EvK7hGL0d8"
   }
  },
  {
   "cell_type": "code",
   "execution_count": 36,
   "source": [
    "test_url = \"https://storage.googleapis.com/download.tensorflow.org/data/iris_test.csv\"\n",
    "\n",
    "test_fp = tf.keras.utils.get_file(fname=os.path.basename(test_url),\n",
    "                                  origin=test_url)"
   ],
   "outputs": [
    {
     "output_type": "stream",
     "name": "stdout",
     "text": [
      "Downloading data from https://storage.googleapis.com/download.tensorflow.org/data/iris_test.csv\n",
      "8192/573 [============================================================================================================================================================================================================================================================================================================================================================================================================================================] - 0s 0us/step\n"
     ]
    }
   ],
   "metadata": {
    "execution": {
     "iopub.execute_input": "2020-09-23T04:12:16.439674Z",
     "iopub.status.busy": "2020-09-23T04:12:16.438982Z",
     "iopub.status.idle": "2020-09-23T04:12:16.716287Z",
     "shell.execute_reply": "2020-09-23T04:12:16.715701Z"
    },
    "id": "Ps3_9dJ3Lodk"
   }
  },
  {
   "cell_type": "code",
   "execution_count": 37,
   "source": [
    "test_dataset = tf.data.experimental.make_csv_dataset(\n",
    "    test_fp,\n",
    "    batch_size,\n",
    "    column_names=column_names,\n",
    "    label_name='species',\n",
    "    num_epochs=1,\n",
    "    shuffle=False)\n",
    "\n",
    "test_dataset = test_dataset.map(pack_features_vector)"
   ],
   "outputs": [],
   "metadata": {
    "execution": {
     "iopub.execute_input": "2020-09-23T04:12:16.720923Z",
     "iopub.status.busy": "2020-09-23T04:12:16.720268Z",
     "iopub.status.idle": "2020-09-23T04:12:16.749769Z",
     "shell.execute_reply": "2020-09-23T04:12:16.749217Z"
    },
    "id": "SRMWCu30bnxH"
   }
  },
  {
   "cell_type": "markdown",
   "source": [
    "### 테스트 데이터 세트를 사용한 모델 평가\n",
    "\n",
    "훈련 단계와는 다르게 모델은 테스트 데이터에 대해서 오직 한 번의 [에포크](https://developers.google.com/machine-learning/glossary/#epoch)를 진행합니다. 다음의 코드 셀은 테스트 셋에 있는 샘플에 대해 실행하고 실제 레이블과 비교합니다. 이는 전체 테스트 데이터 세트에 대한 정확도를 측정하는데 사용됩니다."
   ],
   "metadata": {
    "id": "HFuOKXJdMAdm"
   }
  },
  {
   "cell_type": "code",
   "execution_count": 38,
   "source": [
    "test_accuracy = tf.keras.metrics.Accuracy()\n",
    "\n",
    "for (x, y) in test_dataset:\n",
    "  logits = model(x)\n",
    "  prediction = tf.argmax(logits, axis=1, output_type=tf.int32)\n",
    "  test_accuracy(prediction, y)\n",
    "\n",
    "print(\"테스트 세트 정확도: {:.3%}\".format(test_accuracy.result()))"
   ],
   "outputs": [
    {
     "output_type": "stream",
     "name": "stdout",
     "text": [
      "테스트 세트 정확도: 96.667%\n"
     ]
    }
   ],
   "metadata": {
    "execution": {
     "iopub.execute_input": "2020-09-23T04:12:16.760245Z",
     "iopub.status.busy": "2020-09-23T04:12:16.759559Z",
     "iopub.status.idle": "2020-09-23T04:12:16.787668Z",
     "shell.execute_reply": "2020-09-23T04:12:16.788122Z"
    },
    "id": "Tw03-MK1cYId"
   }
  },
  {
   "cell_type": "markdown",
   "source": [
    "마지막 배치에서 모델이 올바르게 예측한 것을 확인할 수 있습니다. "
   ],
   "metadata": {
    "id": "HcKEZMtCOeK-"
   }
  },
  {
   "cell_type": "code",
   "execution_count": 39,
   "source": [
    "tf.stack([y,prediction],axis=1)"
   ],
   "outputs": [
    {
     "output_type": "execute_result",
     "data": {
      "text/plain": [
       "<tf.Tensor: shape=(30, 2), dtype=int32, numpy=\n",
       "array([[1, 1],\n",
       "       [2, 2],\n",
       "       [0, 0],\n",
       "       [1, 1],\n",
       "       [1, 1],\n",
       "       [1, 1],\n",
       "       [0, 0],\n",
       "       [2, 2],\n",
       "       [1, 1],\n",
       "       [2, 2],\n",
       "       [2, 2],\n",
       "       [0, 0],\n",
       "       [2, 2],\n",
       "       [1, 1],\n",
       "       [1, 1],\n",
       "       [0, 0],\n",
       "       [1, 1],\n",
       "       [0, 0],\n",
       "       [0, 0],\n",
       "       [2, 2],\n",
       "       [0, 0],\n",
       "       [1, 1],\n",
       "       [2, 2],\n",
       "       [1, 2],\n",
       "       [1, 1],\n",
       "       [1, 1],\n",
       "       [0, 0],\n",
       "       [1, 1],\n",
       "       [2, 2],\n",
       "       [1, 1]])>"
      ]
     },
     "metadata": {},
     "execution_count": 39
    }
   ],
   "metadata": {
    "execution": {
     "iopub.execute_input": "2020-09-23T04:12:16.792229Z",
     "iopub.status.busy": "2020-09-23T04:12:16.791562Z",
     "iopub.status.idle": "2020-09-23T04:12:16.795289Z",
     "shell.execute_reply": "2020-09-23T04:12:16.795696Z"
    },
    "id": "uNwt2eMeOane"
   }
  },
  {
   "cell_type": "markdown",
   "source": [
    "## 훈련된 모델로 예측하기\n",
    "\n",
    "이제 붓꽃을 분류하기 위해 완벽하지는 않지만 어느 정도 검증된 모델을 가지고 있습니다. 훈련된 모델을 사용하여 [레이블 되지 않은 데이터](https://developers.google.com/machine-learning/glossary/#unlabeled_example)를 예측해봅시다.\n",
    "\n",
    "실제로는 레이블 되지 않은 샘플들은 여러 소스(앱, CSV 파일, 직접 제공 등)로부터 제공될 수 있습니다. 지금은 레이블을 예측하기 위해 수동으로 3개의 레이블 되지 않은 샘플을 제공하겠습니다.  레이블은 다음과 같은 붓꽃 이름으로 매핑되어있습니다.\n",
    "* `0`: Iris setosa\n",
    "* `1`: Iris versicolor\n",
    "* `2`: Iris virginica"
   ],
   "metadata": {
    "id": "7Li2r1tYvW7S"
   }
  },
  {
   "cell_type": "code",
   "execution_count": 40,
   "source": [
    "predict_dataset = tf.convert_to_tensor([\n",
    "    [5.1, 3.3, 1.7, 0.5,],\n",
    "    [5.9, 3.0, 4.2, 1.5,],\n",
    "    [6.9, 3.1, 5.4, 2.1]\n",
    "])\n",
    "\n",
    "predictions = model(predict_dataset)\n",
    "\n",
    "for i, logits in enumerate(predictions):\n",
    "  class_idx = tf.argmax(logits).numpy()\n",
    "  p = tf.nn.softmax(logits)[class_idx]\n",
    "  name = class_names[class_idx]\n",
    "  print(\"샘플 {} 예측: {} ({:4.1f}%)\".format(i, name, 100*p))"
   ],
   "outputs": [
    {
     "output_type": "stream",
     "name": "stdout",
     "text": [
      "샘플 0 예측: Iris setosa (99.6%)\n",
      "샘플 1 예측: Iris versicolor (99.8%)\n",
      "샘플 2 예측: Iris virginica (99.6%)\n"
     ]
    }
   ],
   "metadata": {
    "execution": {
     "iopub.execute_input": "2020-09-23T04:12:16.801897Z",
     "iopub.status.busy": "2020-09-23T04:12:16.801271Z",
     "iopub.status.idle": "2020-09-23T04:12:16.809308Z",
     "shell.execute_reply": "2020-09-23T04:12:16.808717Z"
    },
    "id": "kesTS5Lzv-M2"
   }
  }
 ],
 "metadata": {
  "colab": {
   "collapsed_sections": [],
   "name": "custom_training_walkthrough.ipynb",
   "toc_visible": true
  },
  "kernelspec": {
   "name": "python3",
   "display_name": "Python 3.8.10 64-bit ('base': conda)"
  },
  "language_info": {
   "codemirror_mode": {
    "name": "ipython",
    "version": 3
   },
   "file_extension": ".py",
   "mimetype": "text/x-python",
   "name": "python",
   "nbconvert_exporter": "python",
   "pygments_lexer": "ipython3",
   "version": "3.8.10"
  },
  "interpreter": {
   "hash": "14c878ca9e09cb855c5aba830c5d56400199f035e888de3a1c3895cb2a489872"
  }
 },
 "nbformat": 4,
 "nbformat_minor": 1
}