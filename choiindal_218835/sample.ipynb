{
  "nbformat": 4,
  "nbformat_minor": 0,
  "metadata": {
    "kernelspec": {
      "name": "python3",
      "display_name": "Python 3.8.10 64-bit ('base': conda)"
    },
    "language_info": {
      "codemirror_mode": {
        "name": "ipython",
        "version": 3
      },
      "file_extension": ".py",
      "mimetype": "text/x-python",
      "name": "python",
      "nbconvert_exporter": "python",
      "pygments_lexer": "ipython3",
      "version": "3.8.10"
    },
    "interpreter": {
      "hash": "14c878ca9e09cb855c5aba830c5d56400199f035e888de3a1c3895cb2a489872"
    },
    "colab": {
      "name": "sample.ipynb",
      "provenance": [],
      "collapsed_sections": []
    },
    "accelerator": "GPU"
  },
  "cells": [
    {
      "cell_type": "markdown",
      "metadata": {
        "id": "qA7Een2GN0_Q"
      },
      "source": [
        "## 합성곱 구현 프로젝트 과제"
      ]
    },
    {
      "cell_type": "markdown",
      "metadata": {
        "id": "xQjL_BjFN0_V"
      },
      "source": [
        "### 필요한 모듈 임포트"
      ]
    },
    {
      "cell_type": "code",
      "metadata": {
        "id": "Qx0fjpuZN0_W"
      },
      "source": [
        "import numpy as np\n",
        "import os\n",
        "import tensorflow as tf\n",
        "import tensorflow.keras\n",
        "import time\n",
        "\n",
        "from tensorflow.keras.datasets import cifar10\n",
        "from tensorflow.keras.models  import Sequential\n",
        "from tensorflow.keras.layers import Dense, Dropout, Activation, Flatten\n",
        "from tensorflow.keras.layers import Conv2D, MaxPooling2D\n",
        "from tensorflow.keras.regularizers import l2\n",
        "import matplotlib.pyplot as plt\n",
        "from pylab import rcParams\n",
        "rcParams['figure.figsize'] = 5, 5\n",
        "\n",
        "# gpus = tf.config.experimental.list_physical_devices('GPU')\n",
        "# if gpus:\n",
        "#   try:\n",
        "#     # Currently, memory growth needs to be the same across GPUs\n",
        "#     for gpu in gpus:\n",
        "#       tf.config.experimental.set_memory_growth(gpu, True)\n",
        "#     logical_gpus = tf.config.experimental.list_logical_devices('GPU')\n",
        "#     print(len(gpus), \"Physical GPUs,\", len(logical_gpus), \"Logical GPUs\")\n",
        "#   except RuntimeError as e:\n",
        "#     # Memory growth must be set before GPUs have been initialized\n",
        "#     print(e)\n"
      ],
      "execution_count": 1,
      "outputs": []
    },
    {
      "cell_type": "code",
      "metadata": {
        "id": "tn_latPsN0_Z"
      },
      "source": [
        "import time"
      ],
      "execution_count": 2,
      "outputs": []
    },
    {
      "cell_type": "markdown",
      "metadata": {
        "id": "sm449D6ON0_a"
      },
      "source": [
        "### cifar10 이미지 로딩"
      ]
    },
    {
      "cell_type": "code",
      "metadata": {
        "colab": {
          "base_uri": "https://localhost:8080/"
        },
        "id": "GYzj4PtMN0_a",
        "outputId": "ae2ec907-c4ae-430c-95d2-1c153e89f3e2"
      },
      "source": [
        "(X_train, y_train), (X_test, y_test) = cifar10.load_data()\n",
        "\n",
        "print(type(X_train))\n",
        "print(X_train.shape)\n",
        "print (\"Training data:\")\n",
        "print (\"Number of examples: \", X_train.shape[0])\n",
        "print (\"Number of channels:\",X_train.shape[3]) \n",
        "print (\"Image size:\", X_train.shape[1], X_train.shape[2])\n",
        "print\n",
        "print (\"Test data:\")\n",
        "print (\"Number of examples:\", X_test.shape[0])\n",
        "print (\"Number of channels:\", X_test.shape[3])\n",
        "print (\"Image size:\", X_test.shape[1], X_test.shape[2]) \n",
        "\n",
        "print(X_train.shape, X_train.dtype)"
      ],
      "execution_count": 3,
      "outputs": [
        {
          "output_type": "stream",
          "text": [
            "Downloading data from https://www.cs.toronto.edu/~kriz/cifar-10-python.tar.gz\n",
            "170500096/170498071 [==============================] - 3s 0us/step\n",
            "170508288/170498071 [==============================] - 3s 0us/step\n",
            "<class 'numpy.ndarray'>\n",
            "(50000, 32, 32, 3)\n",
            "Training data:\n",
            "Number of examples:  50000\n",
            "Number of channels: 3\n",
            "Image size: 32 32\n",
            "Test data:\n",
            "Number of examples: 10000\n",
            "Number of channels: 3\n",
            "Image size: 32 32\n",
            "(50000, 32, 32, 3) uint8\n"
          ],
          "name": "stdout"
        }
      ]
    },
    {
      "cell_type": "markdown",
      "metadata": {
        "id": "WGuSe1PlN0_c"
      },
      "source": [
        "### 이미지 시각화"
      ]
    },
    {
      "cell_type": "code",
      "metadata": {
        "scrolled": true,
        "colab": {
          "base_uri": "https://localhost:8080/",
          "height": 124
        },
        "id": "ZT1VzUgcN0_c",
        "outputId": "313caca9-415f-4182-8047-97f1ed19d4a8"
      },
      "source": [
        "plt.subplot(141)\n",
        "plt.imshow(X_train[0], interpolation=\"bicubic\")\n",
        "plt.grid(False)\n",
        "plt.subplot(142)\n",
        "plt.imshow(X_train[4], interpolation=\"bicubic\")\n",
        "plt.grid(False)\n",
        "plt.subplot(143)\n",
        "plt.imshow(X_train[4], interpolation=\"nearest\")\n",
        "plt.grid(False)\n",
        "plt.subplot(144)\n",
        "plt.imshow(X_train[8], interpolation=\"none\")\n",
        "plt.grid(False)\n",
        "# plt.subplot(145)\n",
        "# plt.imshow(X_train[12], interpolation=\"bicubic\")\n",
        "# plt.grid(False)\n",
        "# plt.show()"
      ],
      "execution_count": 4,
      "outputs": [
        {
          "output_type": "display_data",
          "data": {
            "image/png": "[encoded data removed]",
            "text/plain": [
              "<Figure size 432x288 with 4 Axes>"
            ]
          },
          "metadata": {
            "needs_background": "light"
          }
        }
      ]
    },
    {
      "cell_type": "markdown",
      "metadata": {
        "id": "VSWHdfT4N0_e"
      },
      "source": [
        "### 이미지 정규화 ( 스케일링 )"
      ]
    },
    {
      "cell_type": "code",
      "metadata": {
        "colab": {
          "base_uri": "https://localhost:8080/"
        },
        "id": "aCSqhlDsN0_e",
        "outputId": "fd786876-8d10-4cfb-f875-1bd7d54b5da1"
      },
      "source": [
        "print (\"mean before normalization:\", np.mean(X_train)) \n",
        "print (\"std before normalization:\", np.std(X_train))\n",
        "\n",
        "mean=[0,0,0]\n",
        "std=[0,0,0]\n",
        "newX_train = np.ones(X_train.shape, dtype=float)\n",
        "newX_test = np.ones(X_test.shape, dtype=float)\n",
        "print(newX_train.shape)\n",
        "print(newX_test.shape)\n",
        "for i in range(3):\n",
        "    print(type(X_train[:,:,:,i]))\n",
        "    print(X_train[:,:,:,i].shape)\n",
        "    mean[i] = np.mean(X_train[:,:,:,i])\n",
        "    std[i] = np.std(X_train[:,:,:,i])\n",
        "    \n",
        "for i in range(3):\n",
        "    newX_train[:,:,:,i] = X_train[:,:,:,i] - mean[i]\n",
        "    newX_train[:,:,:,i] = newX_train[:,:,:,i] / std[i]\n",
        "    newX_test[:,:,:,i] = X_test[:,:,:,i] - mean[i]\n",
        "    newX_test[:,:,:,i] = newX_test[:,:,:,i] / std[i]\n",
        "        \n",
        "    \n",
        "X_train = newX_train\n",
        "X_test = newX_test\n",
        "\n",
        "print (\"mean after normalization:\", np.mean(X_train))\n",
        "print (\"std after normalization:\", np.std(X_train))\n",
        "print(X_train.max())"
      ],
      "execution_count": 5,
      "outputs": [
        {
          "output_type": "stream",
          "text": [
            "mean before normalization: 120.70756512369792\n",
            "std before normalization: 64.1500758911213\n",
            "(50000, 32, 32, 3)\n",
            "(10000, 32, 32, 3)\n",
            "<class 'numpy.ndarray'>\n",
            "(50000, 32, 32)\n",
            "<class 'numpy.ndarray'>\n",
            "(50000, 32, 32)\n",
            "<class 'numpy.ndarray'>\n",
            "(50000, 32, 32)\n",
            "mean after normalization: 4.91799193961621e-17\n",
            "std after normalization: 0.9999999999999996\n",
            "2.126789409516928\n"
          ],
          "name": "stdout"
        }
      ]
    },
    {
      "cell_type": "markdown",
      "metadata": {
        "id": "AydGPObaN0_f"
      },
      "source": [
        "### 모델 구현 및 훈련 - 재구현 필요"
      ]
    },
    {
      "cell_type": "code",
      "metadata": {
        "id": "wcMvqvZBN0_i"
      },
      "source": [
        "\n",
        "def get_activation_fn(name):\n",
        "  if name == 'relu':\n",
        "    return tf.nn.relu\n",
        "  elif name == 'softmax':\n",
        "    return tf.nn.softmax\n",
        "  elif name == 'sigmoid':\n",
        "    return tf.math.sigmoid\n",
        "  elif name == 'tanh':\n",
        "    return tf.math.tanh\n",
        "  return None\n",
        "\n",
        "initializer = tf.initializers.glorot_uniform()\n",
        "\n",
        "class SimpleConv2D():\n",
        "  def __init__(self, filters, kernel_size, strides=1, padding='VALID', activation=None, input_shape=None):\n",
        "    self.filters = filters\n",
        "    self.kernel_size = kernel_size\n",
        "    self.padding = padding\n",
        "    self.strides = strides\n",
        "    self.activate = get_activation_fn(activation)\n",
        "    if input_shape is not None and len(input_shape) > 2:\n",
        "      self.channels = input_shape[2]\n",
        "      self.conv_w = tf.Variable(initializer((kernel_size,\n",
        "                                              kernel_size,\n",
        "                                              self.channels,\n",
        "                                              filters), dtype=tf.dtypes.float64))\n",
        "      self.conv_b = tf.Variable(np.zeros(filters), dtype=tf.dtypes.float64)\n",
        "    else:\n",
        "      self.channels = None\n",
        "      self.conv_w = None\n",
        "      self.conv_b = None\n",
        "\n",
        "  def __call__(self, inputs):\n",
        "    \"\"\"\n",
        "      inputs shape : (batch size, image weight, image height, channels)\n",
        "    \"\"\"\n",
        "    if len(inputs.shape) < 4:\n",
        "      raise ValueError('SimpleConv2D : invalid the shpae of inputs')\n",
        "    self.channels = inputs.shape[3]\n",
        "    if self.conv_w is None:\n",
        "      self.conv_w =tf.Variable(initializer((self.kernel_size,\n",
        "                                            self.kernel_size,\n",
        "                                            self.channels,\n",
        "                                            self.filters), dtype=tf.dtypes.float64))\n",
        "    if self.conv_b is None:\n",
        "      self.conv_b = tf.Variable(np.zeros(self.filters), dtype=tf.dtypes.float64)\n",
        "    out = tf.nn.conv2d(inputs, self.conv_w, self.strides, self.padding) + self.conv_b\n",
        "    if self.activate is not None:\n",
        "      out = self.activate(out)\n",
        "    return out\n",
        "\n",
        "  def get_trainable_weights(self):\n",
        "    return [self.conv_w, self.conv_b]\n",
        "\n",
        "class SimpleDense():\n",
        "  def __init__(self, units, activation=None):\n",
        "    self.w = None\n",
        "    self.b = None\n",
        "    self.units = units\n",
        "    self.activate = get_activation_fn(activation)\n",
        "  \n",
        "  def __call__(self, inputs):\n",
        "    \"\"\"\n",
        "      inputs shape : (batch size, features)\n",
        "    \"\"\"\n",
        "    if len(inputs.shape) < 2:\n",
        "      raise ValueError('SimpleDense : invalid the shpae of inputs')\n",
        "    if self.w is None:\n",
        "      self.w = tf.Variable(initializer((inputs.shape[1], self.units), dtype=tf.dtypes.float64))\n",
        "    if self.b is None:\n",
        "      self.b = tf.Variable(np.zeros(self.units), dtype=tf.dtypes.float64)\n",
        "    out = tf.matmul(inputs, self.w) + self.b\n",
        "    if self.activate is not None:\n",
        "      out = self.activate(out)\n",
        "    return out\n",
        "\n",
        "  def get_trainable_weights(self):\n",
        "    return [self.w, self.b]\n",
        "\n",
        "class SimpleFlatten():\n",
        "  def __call__(self, inputs):\n",
        "    out = tf.reshape(inputs, [inputs.shape[0], -1])\n",
        "    return out\n",
        "\n",
        "  def get_trainable_weights(self):\n",
        "    return None\n",
        "\n",
        "class SimpleMaxPooling2D():\n",
        "  def __init__(self, ksize=2, strides=2, padding='VALID'):\n",
        "    self.ksize = ksize\n",
        "    self.strides = strides\n",
        "    self.padding = padding\n",
        "\n",
        "  def __call__(self, inputs):\n",
        "    out = tf.nn.max_pool2d(inputs, self.ksize, self.strides, self.padding)\n",
        "    return out\n",
        "\n",
        "  def get_trainable_weights(self):\n",
        "    return None\n",
        "\n",
        "class SimpleModel():\n",
        "  def __init__(self):\n",
        "    self.layers = []\n",
        "\n",
        "  def add(self, layer):\n",
        "    self.layers.append(layer)\n",
        "  \n",
        "  def compile(self, learning_rate=1e-4, loss='sparse_categorical_crossentropy', optimizer='adam',  metrics=['accuracy']):\n",
        "    self.lr = learning_rate\n",
        "    self.lossfn = tf.losses.get(loss)\n",
        "    self.optimizer = tf.optimizers.get({'class_name': optimizer, 'config': {'learning_rate': learning_rate}})\n",
        "    self.metricfn = []\n",
        "    for metric_name in metrics:\n",
        "      self.metricfn.append(tf.keras.metrics.Accuracy(name=metric_name))\n",
        "    self.losses = []\n",
        "    self.val_losses = []\n",
        "    self.batch_size = 1\n",
        "\n",
        "  def get_trainable_weights(self):\n",
        "    trainable_weights = []\n",
        "    for layer in self.layers:\n",
        "      weights = layer.get_trainable_weights()\n",
        "      if weights is not None:\n",
        "        trainable_weights += weights\n",
        "    return trainable_weights\n",
        "\n",
        "  def get_accuracy(self, lables, predicts):\n",
        "    accuracy = []\n",
        "    for m in self.metricfn:\n",
        "      p = tf.reshape(tf.math.argmax(predicts, axis=1), lables.shape)\n",
        "      m.update_state(lables, p)\n",
        "      accuracy.append(m.result().numpy())\n",
        "    return accuracy\n",
        "  \n",
        "  def get_loss(self, train_data, train_labels):\n",
        "    train_dataset = tf.data.Dataset.from_tensor_slices((train_data, train_labels))\n",
        "    train_dataset = train_dataset.batch(self.batch_size)\n",
        "    predictions = []\n",
        "    y_true = []\n",
        "    losses = []\n",
        "    for data, labels in train_dataset: #batch...\n",
        "      pred, loss = self.call(data, labels)\n",
        "      losses.append(loss)\n",
        "      predictions.append(pred)\n",
        "      y_true.append(labels)\n",
        "    predictions = tf.concat(predictions, 0)\n",
        "    y_true = tf.concat(y_true, 0)\n",
        "    accuracy = self.get_accuracy(y_true, predictions)\n",
        "    return tf.reduce_mean(losses), accuracy\n",
        "    \n",
        "  def call(self, data, labels):\n",
        "    predictions = None\n",
        "    loss = None\n",
        "    for layer in self.layers:\n",
        "      if predictions is None:\n",
        "        predictions = data\n",
        "      predictions = layer(predictions)\n",
        "    loss = tf.reduce_mean(self.lossfn(labels, predictions))\n",
        "    return predictions, loss\n",
        "\n",
        "  def fit(self, train_data, train_labels, batch_size=512, epochs=10, valid_data=None, valid_labels=None):\n",
        "    self.batch_size = batch_size\n",
        "    train_dataset = tf.data.Dataset.from_tensor_slices((train_data, train_labels))\n",
        "    if valid_data != None and valid_labels != None:\n",
        "      valid_dataset = tf.data.Dataset.from_tensor_slices((valid_data, valid_labels))\n",
        "    train_dataset = train_dataset.shuffle(len(train_data)*10).batch(batch_size)\n",
        "    print_steps = len(train_dataset) // 20\n",
        "    for i in range(epochs):\n",
        "      step = 0\n",
        "      print('Epoch {}/{}'.format(i+1, epochs))\n",
        "      start_time = time.time()\n",
        "      print(\"[=\", end=\"\")\n",
        "      for data, labels in train_dataset: #batch...\n",
        "        step = step + 1\n",
        "        if step % print_steps == 0:\n",
        "          print(\"=\", end=\"\")\n",
        "        with tf.GradientTape() as tape:\n",
        "          pred, loss = self.call(data, labels)\n",
        "        trainable_weights = self.get_trainable_weights()\n",
        "        gradients = tape.gradient(loss, trainable_weights)\n",
        "        self.optimizer.apply_gradients(zip(gradients, trainable_weights))\n",
        "        self.losses.append(loss.numpy())\n",
        "      print(\"]\", end=\"\")\n",
        "      if valid_data != None and valid_labels != None:\n",
        "        _, val_loss = self.call(valid_data, valid_labels)\n",
        "        self.val_losses.append(val_loss.numpy())\n",
        "      duration = time.time() - start_time\n",
        "      result = self.evaluate(train_data, train_labels)\n",
        "      print(\" {} sec/step - loss : {} - accuracy : {}\".format(duration, result['loss'], result['accuracy']))\n",
        "    return self.losses\n",
        "  \n",
        "  def evaluate(self, test_data, test_labels):\n",
        "    loss, accuracy = self.get_loss(test_data, test_labels)\n",
        "    #print('loss : {} - accuracy: {}'.format(loss, accuracy))\n",
        "    return {'loss':loss.numpy(), 'accuracy':accuracy}"
      ],
      "execution_count": 8,
      "outputs": []
    },
    {
      "cell_type": "code",
      "metadata": {
        "id": "3gGKahsaN0_l"
      },
      "source": [
        "num_classes = 10     \n",
        "batchSize = 128                   #-- Training Batch Size\n",
        "num_epochs = 20                   #-- Number of epochs for training   \n",
        "learningRate= 0.001                #-- Learning rate for the network\n",
        "img_rows = 32                     #-- input image dimensions\n",
        "img_cols = 32 \n",
        "img_ch=3\n",
        "\n",
        "model = SimpleModel()\n",
        "model.add(SimpleConv2D(filters=64, kernel_size=3, activation='relu', padding='SAME', input_shape=(img_rows, img_cols, img_ch)))\n",
        "model.add(SimpleMaxPooling2D())\n",
        "model.add(SimpleConv2D(filters=64, kernel_size=3, activation='relu', padding='SAME'))\n",
        "model.add(SimpleMaxPooling2D())\n",
        "model.add(SimpleConv2D(filters=128, kernel_size=3, activation='relu', padding='SAME'))\n",
        "model.add(SimpleMaxPooling2D())\n",
        "model.add(SimpleConv2D(filters=256, kernel_size=3, activation='relu', padding='SAME'))\n",
        "model.add(SimpleMaxPooling2D())\n",
        "model.add(SimpleFlatten())\n",
        "model.add(SimpleDense(512, activation='relu'))\n",
        "model.add(SimpleDense(512, activation='relu'))\n",
        "model.add(SimpleDense(num_classes, activation='softmax'))\n",
        "model.compile(learning_rate=learningRate, loss='sparse_categorical_crossentropy', optimizer='adam',  metrics=['accuracy'])"
      ],
      "execution_count": 9,
      "outputs": []
    },
    {
      "cell_type": "code",
      "metadata": {
        "colab": {
          "base_uri": "https://localhost:8080/"
        },
        "id": "3A27kfryN0_o",
        "outputId": "cadea200-9ee0-4e80-8091-82b88912a012"
      },
      "source": [
        "history = model.fit(X_train, y_train, batch_size=batchSize, epochs=num_epochs)"
      ],
      "execution_count": 10,
      "outputs": [
        {
          "output_type": "stream",
          "text": [
            "Epoch 1/20\n",
            "[=====================] 55.537132024765015 sec/step - loss : 0.9972834522502708 - accuracy : [0.64586]\n",
            "Epoch 2/20\n",
            "[=====================] 27.959032773971558 sec/step - loss : 0.7463585413563769 - accuracy : [0.69235]\n",
            "Epoch 3/20\n",
            "[=====================] 26.48104190826416 sec/step - loss : 0.5655067898151744 - accuracy : [0.73112667]\n",
            "Epoch 4/20\n",
            "[=====================] 26.41488552093506 sec/step - loss : 0.4710973036508254 - accuracy : [0.757275]\n",
            "Epoch 5/20\n",
            "[=====================] 26.292039155960083 sec/step - loss : 0.31282846972180595 - accuracy : [0.78422]\n",
            "Epoch 6/20\n",
            "[=====================] 26.21582579612732 sec/step - loss : 0.29003556342322073 - accuracy : [0.80426]\n",
            "Epoch 7/20\n",
            "[=====================] 26.160837650299072 sec/step - loss : 0.19356710879751152 - accuracy : [0.8230714]\n",
            "Epoch 8/20\n",
            "[=====================] 26.096681356430054 sec/step - loss : 0.18004494856163655 - accuracy : [0.837565]\n",
            "Epoch 9/20\n",
            "[=====================] 26.010551929473877 sec/step - loss : 0.16886880154928843 - accuracy : [0.84930223]\n",
            "Epoch 10/20\n",
            "[=====================] 26.087270259857178 sec/step - loss : 0.09486249920063534 - accuracy : [0.861168]\n",
            "Epoch 11/20\n",
            "[=====================] 26.11775827407837 sec/step - loss : 0.09387832521867986 - accuracy : [0.8708291]\n",
            "Epoch 12/20\n",
            "[=====================] 26.017467975616455 sec/step - loss : 0.08830348628915531 - accuracy : [0.87903166]\n",
            "Epoch 13/20\n",
            "[=====================] 25.973647356033325 sec/step - loss : 0.0655260461615722 - accuracy : [0.88668]\n",
            "Epoch 14/20\n",
            "[=====================] 26.053280353546143 sec/step - loss : 0.06561429893523496 - accuracy : [0.8932057]\n",
            "Epoch 15/20\n",
            "[=====================] 41.27520680427551 sec/step - loss : 0.07510322936859645 - accuracy : [0.898644]\n",
            "Epoch 16/20\n",
            "[=====================] 25.976099252700806 sec/step - loss : 0.08974455831891995 - accuracy : [0.9030712]\n",
            "Epoch 17/20\n",
            "[=====================] 25.92640256881714 sec/step - loss : 0.06055351756350617 - accuracy : [0.9076165]\n",
            "Epoch 18/20\n",
            "[=====================] 25.878499269485474 sec/step - loss : 0.07729258531087099 - accuracy : [0.91127443]\n",
            "Epoch 19/20\n",
            "[=====================] 25.889169216156006 sec/step - loss : 0.06480916435063833 - accuracy : [0.9148232]\n",
            "Epoch 20/20\n",
            "[=====================] 25.836353063583374 sec/step - loss : 0.06258820243626737 - accuracy : [0.918029]\n"
          ],
          "name": "stdout"
        }
      ]
    },
    {
      "cell_type": "code",
      "metadata": {
        "colab": {
          "base_uri": "https://localhost:8080/"
        },
        "id": "nC_fUugaN0_p",
        "outputId": "b21247d7-757e-4977-f925-65f208777584"
      },
      "source": [
        "result = model.evaluate(X_test, y_test)\n",
        "print(result)"
      ],
      "execution_count": 11,
      "outputs": [
        {
          "output_type": "stream",
          "text": [
            "{'loss': 1.3543518964428904, 'accuracy': [0.91644156]}\n"
          ],
          "name": "stdout"
        }
      ]
    },
    {
      "cell_type": "code",
      "metadata": {
        "colab": {
          "base_uri": "https://localhost:8080/",
          "height": 592
        },
        "id": "C1m5EoTsfOl9",
        "outputId": "6a8963b4-ea46-4a89-b68f-af5d1e7d5b8d"
      },
      "source": [
        "import matplotlib.pyplot as plt\n",
        "plt.figure(figsize=(10, 10))\n",
        "plt.plot(history)\n",
        "plt.show()"
      ],
      "execution_count": 12,
      "outputs": [
        {
          "output_type": "display_data",
          "data": {
            "image/png": "[encoded data removed]",
            "text/plain": [
              "<Figure size 720x720 with 1 Axes>"
            ]
          },
          "metadata": {
            "needs_background": "light"
          }
        }
      ]
    },
    {
      "cell_type": "code",
      "metadata": {
        "id": "XA5s4yqCgKVm"
      },
      "source": [
        ""
      ],
      "execution_count": null,
      "outputs": []
    }
  ]
}