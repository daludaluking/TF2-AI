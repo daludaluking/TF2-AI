{
 "cells": [
  {
   "cell_type": "code",
   "execution_count": 2,
   "source": [
    "import tensorflow as tf\n",
    "\n",
    "import cProfile\n",
    "\n",
    "gpus = tf.config.experimental.list_physical_devices('GPU')\n",
    "if gpus:\n",
    "  try:\n",
    "    # Currently, memory growth needs to be the same across GPUs\n",
    "    for gpu in gpus:\n",
    "      tf.config.experimental.set_memory_growth(gpu, True)\n",
    "    logical_gpus = tf.config.experimental.list_logical_devices('GPU')\n",
    "    print(len(gpus), \"Physical GPUs,\", len(logical_gpus), \"Logical GPUs\")\n",
    "  except RuntimeError as e:\n",
    "    # Memory growth must be set before GPUs have been initialized\n",
    "    print(e)\n"
   ],
   "outputs": [
    {
     "output_type": "stream",
     "name": "stdout",
     "text": [
      "1 Physical GPUs, 1 Logical GPUs\n"
     ]
    }
   ],
   "metadata": {}
  },
  {
   "cell_type": "code",
   "execution_count": 3,
   "source": [
    "x = [[2.]]\n",
    "m = tf.matmul(x, x)\n",
    "print(m)"
   ],
   "outputs": [
    {
     "output_type": "stream",
     "name": "stdout",
     "text": [
      "tf.Tensor([[4.]], shape=(1, 1), dtype=float32)\n"
     ]
    }
   ],
   "metadata": {}
  },
  {
   "cell_type": "code",
   "execution_count": 4,
   "source": [
    "a = tf.constant([[1,2], [3,4]])"
   ],
   "outputs": [],
   "metadata": {}
  },
  {
   "cell_type": "code",
   "execution_count": 5,
   "source": [
    "b = tf.add(a, 1)\n",
    "print(a, b)"
   ],
   "outputs": [
    {
     "output_type": "stream",
     "name": "stdout",
     "text": [
      "tf.Tensor(\n",
      "[[1 2]\n",
      " [3 4]], shape=(2, 2), dtype=int32) tf.Tensor(\n",
      "[[2 3]\n",
      " [4 5]], shape=(2, 2), dtype=int32)\n"
     ]
    }
   ],
   "metadata": {}
  },
  {
   "cell_type": "code",
   "execution_count": 6,
   "source": [
    "import numpy as np\n",
    "\n",
    "c = np.multiply(a,b)"
   ],
   "outputs": [],
   "metadata": {}
  },
  {
   "cell_type": "code",
   "execution_count": 7,
   "source": [
    "print(c)"
   ],
   "outputs": [
    {
     "output_type": "stream",
     "name": "stdout",
     "text": [
      "[[ 2  6]\n",
      " [12 20]]\n"
     ]
    }
   ],
   "metadata": {}
  },
  {
   "cell_type": "code",
   "execution_count": 8,
   "source": [
    "d = np.dot(a, b)"
   ],
   "outputs": [],
   "metadata": {}
  },
  {
   "cell_type": "code",
   "execution_count": 9,
   "source": [
    "print(d)"
   ],
   "outputs": [
    {
     "output_type": "stream",
     "name": "stdout",
     "text": [
      "[[10 13]\n",
      " [22 29]]\n"
     ]
    }
   ],
   "metadata": {}
  },
  {
   "cell_type": "code",
   "execution_count": 10,
   "source": [
    "e = tf.constant(d)"
   ],
   "outputs": [],
   "metadata": {}
  },
  {
   "cell_type": "code",
   "execution_count": 11,
   "source": [
    "print(e)"
   ],
   "outputs": [
    {
     "output_type": "stream",
     "name": "stdout",
     "text": [
      "tf.Tensor(\n",
      "[[10 13]\n",
      " [22 29]], shape=(2, 2), dtype=int32)\n"
     ]
    }
   ],
   "metadata": {}
  },
  {
   "cell_type": "code",
   "execution_count": 12,
   "source": [
    "f = tf.Variable(d)\n",
    "print(f)"
   ],
   "outputs": [
    {
     "output_type": "stream",
     "name": "stdout",
     "text": [
      "<tf.Variable 'Variable:0' shape=(2, 2) dtype=int32, numpy=\n",
      "array([[10, 13],\n",
      "       [22, 29]], dtype=int32)>\n"
     ]
    }
   ],
   "metadata": {}
  },
  {
   "cell_type": "code",
   "execution_count": 13,
   "source": [
    "print(tf.convert_to_tensor([5, 6]).numpy()+1)\n",
    "print(tf.constant(5).numpy())"
   ],
   "outputs": [
    {
     "output_type": "stream",
     "name": "stdout",
     "text": [
      "[6 7]\n",
      "5\n"
     ]
    }
   ],
   "metadata": {}
  },
  {
   "cell_type": "code",
   "execution_count": 14,
   "source": [
    "w = tf.ones((1,1))\n",
    "print(w)\n",
    "with tf.GradientTape() as tape:\n",
    "    tape.watch(w)\n",
    "    loss = w * w\n",
    "\n",
    "grad = tape.gradient(loss, w)\n",
    "print(grad)\n"
   ],
   "outputs": [
    {
     "output_type": "stream",
     "name": "stdout",
     "text": [
      "tf.Tensor([[1.]], shape=(1, 1), dtype=float32)\n",
      "tf.Tensor([[2.]], shape=(1, 1), dtype=float32)\n"
     ]
    }
   ],
   "metadata": {}
  },
  {
   "cell_type": "code",
   "execution_count": 15,
   "source": [
    "(mnist_images, mnist_labels), _ = tf.keras.datasets.mnist.load_data()\n",
    "\n",
    "dataset = tf.data.Dataset.from_tensor_slices(\n",
    "  (tf.cast(mnist_images[...,tf.newaxis]/255, tf.float32),\n",
    "   tf.cast(mnist_labels,tf.int64)))\n",
    "dataset = dataset.shuffle(1000).batch(32)"
   ],
   "outputs": [],
   "metadata": {}
  },
  {
   "cell_type": "code",
   "execution_count": 16,
   "source": [
    "mnist_model = tf.keras.Sequential([\n",
    "  tf.keras.layers.Conv2D(16,[3,3], activation='relu',\n",
    "                         input_shape=(None, None, 1)),\n",
    "  tf.keras.layers.Conv2D(16,[3,3], activation='relu'),\n",
    "  tf.keras.layers.GlobalAveragePooling2D(),\n",
    "  tf.keras.layers.Dense(10)\n",
    "])\n"
   ],
   "outputs": [],
   "metadata": {}
  },
  {
   "cell_type": "code",
   "execution_count": 17,
   "source": [
    "print(dataset)\n",
    "for images,labels in dataset.take(1):\n",
    "    print(images)\n",
    "    print(labels)\n",
    "    print(\"로짓: \", mnist_model(images[0:1]).numpy())\n"
   ],
   "outputs": [
    {
     "output_type": "stream",
     "name": "stdout",
     "text": [
      "<BatchDataset shapes: ((None, 28, 28, 1), (None,)), types: (tf.float32, tf.int64)>\n",
      "tf.Tensor(\n",
      "[[[[0.]\n",
      "   [0.]\n",
      "   [0.]\n",
      "   ...\n",
      "   [0.]\n",
      "   [0.]\n",
      "   [0.]]\n",
      "\n",
      "  [[0.]\n",
      "   [0.]\n",
      "   [0.]\n",
      "   ...\n",
      "   [0.]\n",
      "   [0.]\n",
      "   [0.]]\n",
      "\n",
      "  [[0.]\n",
      "   [0.]\n",
      "   [0.]\n",
      "   ...\n",
      "   [0.]\n",
      "   [0.]\n",
      "   [0.]]\n",
      "\n",
      "  ...\n",
      "\n",
      "  [[0.]\n",
      "   [0.]\n",
      "   [0.]\n",
      "   ...\n",
      "   [0.]\n",
      "   [0.]\n",
      "   [0.]]\n",
      "\n",
      "  [[0.]\n",
      "   [0.]\n",
      "   [0.]\n",
      "   ...\n",
      "   [0.]\n",
      "   [0.]\n",
      "   [0.]]\n",
      "\n",
      "  [[0.]\n",
      "   [0.]\n",
      "   [0.]\n",
      "   ...\n",
      "   [0.]\n",
      "   [0.]\n",
      "   [0.]]]\n",
      "\n",
      "\n",
      " [[[0.]\n",
      "   [0.]\n",
      "   [0.]\n",
      "   ...\n",
      "   [0.]\n",
      "   [0.]\n",
      "   [0.]]\n",
      "\n",
      "  [[0.]\n",
      "   [0.]\n",
      "   [0.]\n",
      "   ...\n",
      "   [0.]\n",
      "   [0.]\n",
      "   [0.]]\n",
      "\n",
      "  [[0.]\n",
      "   [0.]\n",
      "   [0.]\n",
      "   ...\n",
      "   [0.]\n",
      "   [0.]\n",
      "   [0.]]\n",
      "\n",
      "  ...\n",
      "\n",
      "  [[0.]\n",
      "   [0.]\n",
      "   [0.]\n",
      "   ...\n",
      "   [0.]\n",
      "   [0.]\n",
      "   [0.]]\n",
      "\n",
      "  [[0.]\n",
      "   [0.]\n",
      "   [0.]\n",
      "   ...\n",
      "   [0.]\n",
      "   [0.]\n",
      "   [0.]]\n",
      "\n",
      "  [[0.]\n",
      "   [0.]\n",
      "   [0.]\n",
      "   ...\n",
      "   [0.]\n",
      "   [0.]\n",
      "   [0.]]]\n",
      "\n",
      "\n",
      " [[[0.]\n",
      "   [0.]\n",
      "   [0.]\n",
      "   ...\n",
      "   [0.]\n",
      "   [0.]\n",
      "   [0.]]\n",
      "\n",
      "  [[0.]\n",
      "   [0.]\n",
      "   [0.]\n",
      "   ...\n",
      "   [0.]\n",
      "   [0.]\n",
      "   [0.]]\n",
      "\n",
      "  [[0.]\n",
      "   [0.]\n",
      "   [0.]\n",
      "   ...\n",
      "   [0.]\n",
      "   [0.]\n",
      "   [0.]]\n",
      "\n",
      "  ...\n",
      "\n",
      "  [[0.]\n",
      "   [0.]\n",
      "   [0.]\n",
      "   ...\n",
      "   [0.]\n",
      "   [0.]\n",
      "   [0.]]\n",
      "\n",
      "  [[0.]\n",
      "   [0.]\n",
      "   [0.]\n",
      "   ...\n",
      "   [0.]\n",
      "   [0.]\n",
      "   [0.]]\n",
      "\n",
      "  [[0.]\n",
      "   [0.]\n",
      "   [0.]\n",
      "   ...\n",
      "   [0.]\n",
      "   [0.]\n",
      "   [0.]]]\n",
      "\n",
      "\n",
      " ...\n",
      "\n",
      "\n",
      " [[[0.]\n",
      "   [0.]\n",
      "   [0.]\n",
      "   ...\n",
      "   [0.]\n",
      "   [0.]\n",
      "   [0.]]\n",
      "\n",
      "  [[0.]\n",
      "   [0.]\n",
      "   [0.]\n",
      "   ...\n",
      "   [0.]\n",
      "   [0.]\n",
      "   [0.]]\n",
      "\n",
      "  [[0.]\n",
      "   [0.]\n",
      "   [0.]\n",
      "   ...\n",
      "   [0.]\n",
      "   [0.]\n",
      "   [0.]]\n",
      "\n",
      "  ...\n",
      "\n",
      "  [[0.]\n",
      "   [0.]\n",
      "   [0.]\n",
      "   ...\n",
      "   [0.]\n",
      "   [0.]\n",
      "   [0.]]\n",
      "\n",
      "  [[0.]\n",
      "   [0.]\n",
      "   [0.]\n",
      "   ...\n",
      "   [0.]\n",
      "   [0.]\n",
      "   [0.]]\n",
      "\n",
      "  [[0.]\n",
      "   [0.]\n",
      "   [0.]\n",
      "   ...\n",
      "   [0.]\n",
      "   [0.]\n",
      "   [0.]]]\n",
      "\n",
      "\n",
      " [[[0.]\n",
      "   [0.]\n",
      "   [0.]\n",
      "   ...\n",
      "   [0.]\n",
      "   [0.]\n",
      "   [0.]]\n",
      "\n",
      "  [[0.]\n",
      "   [0.]\n",
      "   [0.]\n",
      "   ...\n",
      "   [0.]\n",
      "   [0.]\n",
      "   [0.]]\n",
      "\n",
      "  [[0.]\n",
      "   [0.]\n",
      "   [0.]\n",
      "   ...\n",
      "   [0.]\n",
      "   [0.]\n",
      "   [0.]]\n",
      "\n",
      "  ...\n",
      "\n",
      "  [[0.]\n",
      "   [0.]\n",
      "   [0.]\n",
      "   ...\n",
      "   [0.]\n",
      "   [0.]\n",
      "   [0.]]\n",
      "\n",
      "  [[0.]\n",
      "   [0.]\n",
      "   [0.]\n",
      "   ...\n",
      "   [0.]\n",
      "   [0.]\n",
      "   [0.]]\n",
      "\n",
      "  [[0.]\n",
      "   [0.]\n",
      "   [0.]\n",
      "   ...\n",
      "   [0.]\n",
      "   [0.]\n",
      "   [0.]]]\n",
      "\n",
      "\n",
      " [[[0.]\n",
      "   [0.]\n",
      "   [0.]\n",
      "   ...\n",
      "   [0.]\n",
      "   [0.]\n",
      "   [0.]]\n",
      "\n",
      "  [[0.]\n",
      "   [0.]\n",
      "   [0.]\n",
      "   ...\n",
      "   [0.]\n",
      "   [0.]\n",
      "   [0.]]\n",
      "\n",
      "  [[0.]\n",
      "   [0.]\n",
      "   [0.]\n",
      "   ...\n",
      "   [0.]\n",
      "   [0.]\n",
      "   [0.]]\n",
      "\n",
      "  ...\n",
      "\n",
      "  [[0.]\n",
      "   [0.]\n",
      "   [0.]\n",
      "   ...\n",
      "   [0.]\n",
      "   [0.]\n",
      "   [0.]]\n",
      "\n",
      "  [[0.]\n",
      "   [0.]\n",
      "   [0.]\n",
      "   ...\n",
      "   [0.]\n",
      "   [0.]\n",
      "   [0.]]\n",
      "\n",
      "  [[0.]\n",
      "   [0.]\n",
      "   [0.]\n",
      "   ...\n",
      "   [0.]\n",
      "   [0.]\n",
      "   [0.]]]], shape=(32, 28, 28, 1), dtype=float32)\n",
      "tf.Tensor([5 7 0 9 3 9 0 9 2 3 7 4 1 8 5 1 9 7 1 7 0 1 7 0 4 4 7 2 1 5 2 1], shape=(32,), dtype=int64)\n",
      "로짓:  [[-0.00353564  0.05009936 -0.00603516 -0.00711477  0.02334365  0.01647275\n",
      "  -0.01331246 -0.0593292  -0.01514868 -0.01190241]]\n"
     ]
    }
   ],
   "metadata": {}
  },
  {
   "cell_type": "code",
   "execution_count": 67,
   "source": [
    "optimizer = tf.keras.optimizers.Adam()\n",
    "loss_object = tf.keras.losses.SparseCategoricalCrossentropy(from_logits=True)\n",
    "loss_history = [] #array...\n",
    "\n",
    "def train_step(images, labels):\n",
    "    with tf.GradientTape() as tape:\n",
    "        logits = mnist_model(images, training=True)\n",
    "        tf.debugging.assert_equal(logits.shape, (32, 10))\n",
    "        loss_value = loss_object(labels, logits)\n",
    "    \n",
    "    print('logits = {}, loss_value = {}'.format(logits.shape, loss_value))\n",
    "    #print(loss_value.numpy())\n",
    "    loss_history.append(loss_value.numpy().mean())\n",
    "    grads = tape.gradient(loss_value, mnist_model.trainable_variables)\n",
    "    print('grads = {} : {}'.format(type(grads), len(grads)))\n",
    "    print('trainable_variables = {}'.format(len(mnist_model.trainable_variables)))\n",
    "    for idx, tv in enumerate(mnist_model.trainable_variables):\n",
    "        print('trainable_variables[{}] = {}, {}'.format(idx, tv.name, tv.shape))\n",
    "    #print(zip(grads, mnist_model.trainable_variables))\n",
    "    optimizer.apply_gradients(zip(grads, mnist_model.trainable_variables))"
   ],
   "outputs": [],
   "metadata": {}
  },
  {
   "cell_type": "code",
   "execution_count": 68,
   "source": [
    "def train():\n",
    "  for epoch in range(3):\n",
    "    for (batch, (images, labels)) in enumerate(dataset):\n",
    "        print('batch = {}, images = {}, labels = {}'.format(batch, images.shape, labels.shape))\n",
    "        train_step(images, labels)\n",
    "        if batch == 5:\n",
    "          break\n",
    "    print ('에포크 {} 종료'.format(epoch))\n"
   ],
   "outputs": [],
   "metadata": {}
  },
  {
   "cell_type": "code",
   "execution_count": 69,
   "source": [
    "# mnist_model = tf.keras.Sequential([\n",
    "#   tf.keras.layers.Conv2D(16,[3,3], activation='relu',\n",
    "#                          input_shape=(None, None, 1)),\n",
    "#   tf.keras.layers.Conv2D(16,[3,3], activation='relu'),\n",
    "#   tf.keras.layers.GlobalAveragePooling2D(),\n",
    "#   tf.keras.layers.Dense(10)\n",
    "# ])\n",
    "train()\n"
   ],
   "outputs": [
    {
     "output_type": "stream",
     "name": "stdout",
     "text": [
      "batch = 0, images = (32, 28, 28, 1), labels = (32,)\n",
      "logits = (32, 10), loss_value = 2.242607593536377\n",
      "grads = <class 'list'> : 6\n",
      "trainable_variables = 6\n",
      "trainable_variables[0] = conv2d/kernel:0, (3, 3, 1, 16)\n",
      "trainable_variables[1] = conv2d/bias:0, (16,)\n",
      "trainable_variables[2] = conv2d_1/kernel:0, (3, 3, 16, 16)\n",
      "trainable_variables[3] = conv2d_1/bias:0, (16,)\n",
      "trainable_variables[4] = dense/kernel:0, (16, 10)\n",
      "trainable_variables[5] = dense/bias:0, (10,)\n",
      "batch = 1, images = (32, 28, 28, 1), labels = (32,)\n",
      "logits = (32, 10), loss_value = 2.2926642894744873\n",
      "grads = <class 'list'> : 6\n",
      "trainable_variables = 6\n",
      "trainable_variables[0] = conv2d/kernel:0, (3, 3, 1, 16)\n",
      "trainable_variables[1] = conv2d/bias:0, (16,)\n",
      "trainable_variables[2] = conv2d_1/kernel:0, (3, 3, 16, 16)\n",
      "trainable_variables[3] = conv2d_1/bias:0, (16,)\n",
      "trainable_variables[4] = dense/kernel:0, (16, 10)\n",
      "trainable_variables[5] = dense/bias:0, (10,)\n",
      "batch = 2, images = (32, 28, 28, 1), labels = (32,)\n",
      "logits = (32, 10), loss_value = 2.2633862495422363\n",
      "grads = <class 'list'> : 6\n",
      "trainable_variables = 6\n",
      "trainable_variables[0] = conv2d/kernel:0, (3, 3, 1, 16)\n",
      "trainable_variables[1] = conv2d/bias:0, (16,)\n",
      "trainable_variables[2] = conv2d_1/kernel:0, (3, 3, 16, 16)\n",
      "trainable_variables[3] = conv2d_1/bias:0, (16,)\n",
      "trainable_variables[4] = dense/kernel:0, (16, 10)\n",
      "trainable_variables[5] = dense/bias:0, (10,)\n",
      "batch = 3, images = (32, 28, 28, 1), labels = (32,)\n",
      "logits = (32, 10), loss_value = 2.2675700187683105\n",
      "grads = <class 'list'> : 6\n",
      "trainable_variables = 6\n",
      "trainable_variables[0] = conv2d/kernel:0, (3, 3, 1, 16)\n",
      "trainable_variables[1] = conv2d/bias:0, (16,)\n",
      "trainable_variables[2] = conv2d_1/kernel:0, (3, 3, 16, 16)\n",
      "trainable_variables[3] = conv2d_1/bias:0, (16,)\n",
      "trainable_variables[4] = dense/kernel:0, (16, 10)\n",
      "trainable_variables[5] = dense/bias:0, (10,)\n",
      "batch = 4, images = (32, 28, 28, 1), labels = (32,)\n",
      "logits = (32, 10), loss_value = 2.282838821411133\n",
      "grads = <class 'list'> : 6\n",
      "trainable_variables = 6\n",
      "trainable_variables[0] = conv2d/kernel:0, (3, 3, 1, 16)\n",
      "trainable_variables[1] = conv2d/bias:0, (16,)\n",
      "trainable_variables[2] = conv2d_1/kernel:0, (3, 3, 16, 16)\n",
      "trainable_variables[3] = conv2d_1/bias:0, (16,)\n",
      "trainable_variables[4] = dense/kernel:0, (16, 10)\n",
      "trainable_variables[5] = dense/bias:0, (10,)\n",
      "batch = 5, images = (32, 28, 28, 1), labels = (32,)\n",
      "logits = (32, 10), loss_value = 2.274341344833374\n",
      "grads = <class 'list'> : 6\n",
      "trainable_variables = 6\n",
      "trainable_variables[0] = conv2d/kernel:0, (3, 3, 1, 16)\n",
      "trainable_variables[1] = conv2d/bias:0, (16,)\n",
      "trainable_variables[2] = conv2d_1/kernel:0, (3, 3, 16, 16)\n",
      "trainable_variables[3] = conv2d_1/bias:0, (16,)\n",
      "trainable_variables[4] = dense/kernel:0, (16, 10)\n",
      "trainable_variables[5] = dense/bias:0, (10,)\n",
      "에포크 0 종료\n",
      "batch = 0, images = (32, 28, 28, 1), labels = (32,)\n",
      "logits = (32, 10), loss_value = 2.278247833251953\n",
      "grads = <class 'list'> : 6\n",
      "trainable_variables = 6\n",
      "trainable_variables[0] = conv2d/kernel:0, (3, 3, 1, 16)\n",
      "trainable_variables[1] = conv2d/bias:0, (16,)\n",
      "trainable_variables[2] = conv2d_1/kernel:0, (3, 3, 16, 16)\n",
      "trainable_variables[3] = conv2d_1/bias:0, (16,)\n",
      "trainable_variables[4] = dense/kernel:0, (16, 10)\n",
      "trainable_variables[5] = dense/bias:0, (10,)\n",
      "batch = 1, images = (32, 28, 28, 1), labels = (32,)\n",
      "logits = (32, 10), loss_value = 2.2490150928497314\n",
      "grads = <class 'list'> : 6\n",
      "trainable_variables = 6\n",
      "trainable_variables[0] = conv2d/kernel:0, (3, 3, 1, 16)\n",
      "trainable_variables[1] = conv2d/bias:0, (16,)\n",
      "trainable_variables[2] = conv2d_1/kernel:0, (3, 3, 16, 16)\n",
      "trainable_variables[3] = conv2d_1/bias:0, (16,)\n",
      "trainable_variables[4] = dense/kernel:0, (16, 10)\n",
      "trainable_variables[5] = dense/bias:0, (10,)\n",
      "batch = 2, images = (32, 28, 28, 1), labels = (32,)\n",
      "logits = (32, 10), loss_value = 2.2459938526153564\n",
      "grads = <class 'list'> : 6\n",
      "trainable_variables = 6\n",
      "trainable_variables[0] = conv2d/kernel:0, (3, 3, 1, 16)\n",
      "trainable_variables[1] = conv2d/bias:0, (16,)\n",
      "trainable_variables[2] = conv2d_1/kernel:0, (3, 3, 16, 16)\n",
      "trainable_variables[3] = conv2d_1/bias:0, (16,)\n",
      "trainable_variables[4] = dense/kernel:0, (16, 10)\n",
      "trainable_variables[5] = dense/bias:0, (10,)\n",
      "batch = 3, images = (32, 28, 28, 1), labels = (32,)\n",
      "logits = (32, 10), loss_value = 2.252284049987793\n",
      "grads = <class 'list'> : 6\n",
      "trainable_variables = 6\n",
      "trainable_variables[0] = conv2d/kernel:0, (3, 3, 1, 16)\n",
      "trainable_variables[1] = conv2d/bias:0, (16,)\n",
      "trainable_variables[2] = conv2d_1/kernel:0, (3, 3, 16, 16)\n",
      "trainable_variables[3] = conv2d_1/bias:0, (16,)\n",
      "trainable_variables[4] = dense/kernel:0, (16, 10)\n",
      "trainable_variables[5] = dense/bias:0, (10,)\n",
      "batch = 4, images = (32, 28, 28, 1), labels = (32,)\n",
      "logits = (32, 10), loss_value = 2.2890238761901855\n",
      "grads = <class 'list'> : 6\n",
      "trainable_variables = 6\n",
      "trainable_variables[0] = conv2d/kernel:0, (3, 3, 1, 16)\n",
      "trainable_variables[1] = conv2d/bias:0, (16,)\n",
      "trainable_variables[2] = conv2d_1/kernel:0, (3, 3, 16, 16)\n",
      "trainable_variables[3] = conv2d_1/bias:0, (16,)\n",
      "trainable_variables[4] = dense/kernel:0, (16, 10)\n",
      "trainable_variables[5] = dense/bias:0, (10,)\n",
      "batch = 5, images = (32, 28, 28, 1), labels = (32,)\n",
      "logits = (32, 10), loss_value = 2.252682685852051\n",
      "grads = <class 'list'> : 6\n",
      "trainable_variables = 6\n",
      "trainable_variables[0] = conv2d/kernel:0, (3, 3, 1, 16)\n",
      "trainable_variables[1] = conv2d/bias:0, (16,)\n",
      "trainable_variables[2] = conv2d_1/kernel:0, (3, 3, 16, 16)\n",
      "trainable_variables[3] = conv2d_1/bias:0, (16,)\n",
      "trainable_variables[4] = dense/kernel:0, (16, 10)\n",
      "trainable_variables[5] = dense/bias:0, (10,)\n",
      "에포크 1 종료\n",
      "batch = 0, images = (32, 28, 28, 1), labels = (32,)\n",
      "logits = (32, 10), loss_value = 2.2615790367126465\n",
      "grads = <class 'list'> : 6\n",
      "trainable_variables = 6\n",
      "trainable_variables[0] = conv2d/kernel:0, (3, 3, 1, 16)\n",
      "trainable_variables[1] = conv2d/bias:0, (16,)\n",
      "trainable_variables[2] = conv2d_1/kernel:0, (3, 3, 16, 16)\n",
      "trainable_variables[3] = conv2d_1/bias:0, (16,)\n",
      "trainable_variables[4] = dense/kernel:0, (16, 10)\n",
      "trainable_variables[5] = dense/bias:0, (10,)\n",
      "batch = 1, images = (32, 28, 28, 1), labels = (32,)\n",
      "logits = (32, 10), loss_value = 2.2133307456970215\n",
      "grads = <class 'list'> : 6\n",
      "trainable_variables = 6\n",
      "trainable_variables[0] = conv2d/kernel:0, (3, 3, 1, 16)\n",
      "trainable_variables[1] = conv2d/bias:0, (16,)\n",
      "trainable_variables[2] = conv2d_1/kernel:0, (3, 3, 16, 16)\n",
      "trainable_variables[3] = conv2d_1/bias:0, (16,)\n",
      "trainable_variables[4] = dense/kernel:0, (16, 10)\n",
      "trainable_variables[5] = dense/bias:0, (10,)\n",
      "batch = 2, images = (32, 28, 28, 1), labels = (32,)\n",
      "logits = (32, 10), loss_value = 2.2560505867004395\n",
      "grads = <class 'list'> : 6\n",
      "trainable_variables = 6\n",
      "trainable_variables[0] = conv2d/kernel:0, (3, 3, 1, 16)\n",
      "trainable_variables[1] = conv2d/bias:0, (16,)\n",
      "trainable_variables[2] = conv2d_1/kernel:0, (3, 3, 16, 16)\n",
      "trainable_variables[3] = conv2d_1/bias:0, (16,)\n",
      "trainable_variables[4] = dense/kernel:0, (16, 10)\n",
      "trainable_variables[5] = dense/bias:0, (10,)\n",
      "batch = 3, images = (32, 28, 28, 1), labels = (32,)\n",
      "logits = (32, 10), loss_value = 2.23351788520813\n",
      "grads = <class 'list'> : 6\n",
      "trainable_variables = 6\n",
      "trainable_variables[0] = conv2d/kernel:0, (3, 3, 1, 16)\n",
      "trainable_variables[1] = conv2d/bias:0, (16,)\n",
      "trainable_variables[2] = conv2d_1/kernel:0, (3, 3, 16, 16)\n",
      "trainable_variables[3] = conv2d_1/bias:0, (16,)\n",
      "trainable_variables[4] = dense/kernel:0, (16, 10)\n",
      "trainable_variables[5] = dense/bias:0, (10,)\n",
      "batch = 4, images = (32, 28, 28, 1), labels = (32,)\n",
      "logits = (32, 10), loss_value = 2.258671760559082\n",
      "grads = <class 'list'> : 6\n",
      "trainable_variables = 6\n",
      "trainable_variables[0] = conv2d/kernel:0, (3, 3, 1, 16)\n",
      "trainable_variables[1] = conv2d/bias:0, (16,)\n",
      "trainable_variables[2] = conv2d_1/kernel:0, (3, 3, 16, 16)\n",
      "trainable_variables[3] = conv2d_1/bias:0, (16,)\n",
      "trainable_variables[4] = dense/kernel:0, (16, 10)\n",
      "trainable_variables[5] = dense/bias:0, (10,)\n",
      "batch = 5, images = (32, 28, 28, 1), labels = (32,)\n",
      "logits = (32, 10), loss_value = 2.2865140438079834\n",
      "grads = <class 'list'> : 6\n",
      "trainable_variables = 6\n",
      "trainable_variables[0] = conv2d/kernel:0, (3, 3, 1, 16)\n",
      "trainable_variables[1] = conv2d/bias:0, (16,)\n",
      "trainable_variables[2] = conv2d_1/kernel:0, (3, 3, 16, 16)\n",
      "trainable_variables[3] = conv2d_1/bias:0, (16,)\n",
      "trainable_variables[4] = dense/kernel:0, (16, 10)\n",
      "trainable_variables[5] = dense/bias:0, (10,)\n",
      "에포크 2 종료\n"
     ]
    }
   ],
   "metadata": {}
  },
  {
   "cell_type": "code",
   "execution_count": 70,
   "source": [
    "import matplotlib.pyplot as plt\n",
    "\n",
    "plt.plot(loss_history)\n",
    "plt.xlabel('Batch #')\n",
    "plt.ylabel('Loss [entropy]')\n"
   ],
   "outputs": [
    {
     "output_type": "execute_result",
     "data": {
      "text/plain": [
       "Text(0, 0.5, 'Loss [entropy]')"
      ]
     },
     "metadata": {},
     "execution_count": 70
    },
    {
     "output_type": "display_data",
     "data": {
      "text/plain": [
       "<Figure size 432x288 with 1 Axes>"
      ],
      "image/svg+xml": "<?xml version=\"1.0\" encoding=\"utf-8\" standalone=\"no\"?>\n<!DOCTYPE svg PUBLIC \"-//W3C//DTD SVG 1.1//EN\"\n  \"http://www.w3.org/Graphics/SVG/1.1/DTD/svg11.dtd\">\n<svg height=\"262.19625pt\" version=\"1.1\" viewBox=\"0 0 397.010252 262.19625\" width=\"397.010252pt\" xmlns=\"http://www.w3.org/2000/svg\" xmlns:xlink=\"http://www.w3.org/1999/xlink\">\n <metadata>\n  <rdf:RDF xmlns:cc=\"http://creativecommons.org/ns#\" xmlns:dc=\"http://purl.org/dc/elements/1.1/\" xmlns:rdf=\"http://www.w3.org/1999/02/22-rdf-syntax-ns#\">\n   <cc:Work>\n    <dc:type rdf:resource=\"http://purl.org/dc/dcmitype/StillImage\"/>\n    <dc:date>2021-08-25T19:34:46.701017</dc:date>\n    <dc:format>image/svg+xml</dc:format>\n    <dc:creator>\n     <cc:Agent>\n      <dc:title>Matplotlib v3.4.2, https://matplotlib.org/</dc:title>\n     </cc:Agent>\n    </dc:creator>\n   </cc:Work>\n  </rdf:RDF>\n </metadata>\n <defs>\n  <style type=\"text/css\">*{stroke-linecap:butt;stroke-linejoin:round;}</style>\n </defs>\n <g id=\"figure_1\">\n  <g id=\"patch_1\">\n   <path d=\"M 0 262.19625 \nL 397.010252 262.19625 \nL 397.010252 0 \nL 0 0 \nz\n\" style=\"fill:none;\"/>\n  </g>\n  <g id=\"axes_1\">\n   <g id=\"patch_2\">\n    <path d=\"M 50.14375 224.64 \nL 384.94375 224.64 \nL 384.94375 7.2 \nL 50.14375 7.2 \nz\n\" style=\"fill:#ffffff;\"/>\n   </g>\n   <g id=\"matplotlib.axis_1\">\n    <g id=\"xtick_1\">\n     <g id=\"line2d_1\">\n      <defs>\n       <path d=\"M 0 0 \nL 0 3.5 \n\" id=\"mfa795e6615\" style=\"stroke:#000000;stroke-width:0.8;\"/>\n      </defs>\n      <g>\n       <use style=\"stroke:#000000;stroke-width:0.8;\" x=\"65.361932\" xlink:href=\"#mfa795e6615\" y=\"224.64\"/>\n      </g>\n     </g>\n     <g id=\"text_1\">\n      <!-- 0.0 -->\n      <g transform=\"translate(57.410369 239.238437)scale(0.1 -0.1)\">\n       <defs>\n        <path d=\"M 2034 4250 \nQ 1547 4250 1301 3770 \nQ 1056 3291 1056 2328 \nQ 1056 1369 1301 889 \nQ 1547 409 2034 409 \nQ 2525 409 2770 889 \nQ 3016 1369 3016 2328 \nQ 3016 3291 2770 3770 \nQ 2525 4250 2034 4250 \nz\nM 2034 4750 \nQ 2819 4750 3233 4129 \nQ 3647 3509 3647 2328 \nQ 3647 1150 3233 529 \nQ 2819 -91 2034 -91 \nQ 1250 -91 836 529 \nQ 422 1150 422 2328 \nQ 422 3509 836 4129 \nQ 1250 4750 2034 4750 \nz\n\" id=\"DejaVuSans-30\" transform=\"scale(0.015625)\"/>\n        <path d=\"M 684 794 \nL 1344 794 \nL 1344 0 \nL 684 0 \nL 684 794 \nz\n\" id=\"DejaVuSans-2e\" transform=\"scale(0.015625)\"/>\n       </defs>\n       <use xlink:href=\"#DejaVuSans-30\"/>\n       <use x=\"63.623047\" xlink:href=\"#DejaVuSans-2e\"/>\n       <use x=\"95.410156\" xlink:href=\"#DejaVuSans-30\"/>\n      </g>\n     </g>\n    </g>\n    <g id=\"xtick_2\">\n     <g id=\"line2d_2\">\n      <g>\n       <use style=\"stroke:#000000;stroke-width:0.8;\" x=\"110.12129\" xlink:href=\"#mfa795e6615\" y=\"224.64\"/>\n      </g>\n     </g>\n     <g id=\"text_2\">\n      <!-- 2.5 -->\n      <g transform=\"translate(102.169728 239.238437)scale(0.1 -0.1)\">\n       <defs>\n        <path d=\"M 1228 531 \nL 3431 531 \nL 3431 0 \nL 469 0 \nL 469 531 \nQ 828 903 1448 1529 \nQ 2069 2156 2228 2338 \nQ 2531 2678 2651 2914 \nQ 2772 3150 2772 3378 \nQ 2772 3750 2511 3984 \nQ 2250 4219 1831 4219 \nQ 1534 4219 1204 4116 \nQ 875 4013 500 3803 \nL 500 4441 \nQ 881 4594 1212 4672 \nQ 1544 4750 1819 4750 \nQ 2544 4750 2975 4387 \nQ 3406 4025 3406 3419 \nQ 3406 3131 3298 2873 \nQ 3191 2616 2906 2266 \nQ 2828 2175 2409 1742 \nQ 1991 1309 1228 531 \nz\n\" id=\"DejaVuSans-32\" transform=\"scale(0.015625)\"/>\n        <path d=\"M 691 4666 \nL 3169 4666 \nL 3169 4134 \nL 1269 4134 \nL 1269 2991 \nQ 1406 3038 1543 3061 \nQ 1681 3084 1819 3084 \nQ 2600 3084 3056 2656 \nQ 3513 2228 3513 1497 \nQ 3513 744 3044 326 \nQ 2575 -91 1722 -91 \nQ 1428 -91 1123 -41 \nQ 819 9 494 109 \nL 494 744 \nQ 775 591 1075 516 \nQ 1375 441 1709 441 \nQ 2250 441 2565 725 \nQ 2881 1009 2881 1497 \nQ 2881 1984 2565 2268 \nQ 2250 2553 1709 2553 \nQ 1456 2553 1204 2497 \nQ 953 2441 691 2322 \nL 691 4666 \nz\n\" id=\"DejaVuSans-35\" transform=\"scale(0.015625)\"/>\n       </defs>\n       <use xlink:href=\"#DejaVuSans-32\"/>\n       <use x=\"63.623047\" xlink:href=\"#DejaVuSans-2e\"/>\n       <use x=\"95.410156\" xlink:href=\"#DejaVuSans-35\"/>\n      </g>\n     </g>\n    </g>\n    <g id=\"xtick_3\">\n     <g id=\"line2d_3\">\n      <g>\n       <use style=\"stroke:#000000;stroke-width:0.8;\" x=\"154.880648\" xlink:href=\"#mfa795e6615\" y=\"224.64\"/>\n      </g>\n     </g>\n     <g id=\"text_3\">\n      <!-- 5.0 -->\n      <g transform=\"translate(146.929086 239.238437)scale(0.1 -0.1)\">\n       <use xlink:href=\"#DejaVuSans-35\"/>\n       <use x=\"63.623047\" xlink:href=\"#DejaVuSans-2e\"/>\n       <use x=\"95.410156\" xlink:href=\"#DejaVuSans-30\"/>\n      </g>\n     </g>\n    </g>\n    <g id=\"xtick_4\">\n     <g id=\"line2d_4\">\n      <g>\n       <use style=\"stroke:#000000;stroke-width:0.8;\" x=\"199.640007\" xlink:href=\"#mfa795e6615\" y=\"224.64\"/>\n      </g>\n     </g>\n     <g id=\"text_4\">\n      <!-- 7.5 -->\n      <g transform=\"translate(191.688444 239.238437)scale(0.1 -0.1)\">\n       <defs>\n        <path d=\"M 525 4666 \nL 3525 4666 \nL 3525 4397 \nL 1831 0 \nL 1172 0 \nL 2766 4134 \nL 525 4134 \nL 525 4666 \nz\n\" id=\"DejaVuSans-37\" transform=\"scale(0.015625)\"/>\n       </defs>\n       <use xlink:href=\"#DejaVuSans-37\"/>\n       <use x=\"63.623047\" xlink:href=\"#DejaVuSans-2e\"/>\n       <use x=\"95.410156\" xlink:href=\"#DejaVuSans-35\"/>\n      </g>\n     </g>\n    </g>\n    <g id=\"xtick_5\">\n     <g id=\"line2d_5\">\n      <g>\n       <use style=\"stroke:#000000;stroke-width:0.8;\" x=\"244.399365\" xlink:href=\"#mfa795e6615\" y=\"224.64\"/>\n      </g>\n     </g>\n     <g id=\"text_5\">\n      <!-- 10.0 -->\n      <g transform=\"translate(233.266552 239.238437)scale(0.1 -0.1)\">\n       <defs>\n        <path d=\"M 794 531 \nL 1825 531 \nL 1825 4091 \nL 703 3866 \nL 703 4441 \nL 1819 4666 \nL 2450 4666 \nL 2450 531 \nL 3481 531 \nL 3481 0 \nL 794 0 \nL 794 531 \nz\n\" id=\"DejaVuSans-31\" transform=\"scale(0.015625)\"/>\n       </defs>\n       <use xlink:href=\"#DejaVuSans-31\"/>\n       <use x=\"63.623047\" xlink:href=\"#DejaVuSans-30\"/>\n       <use x=\"127.246094\" xlink:href=\"#DejaVuSans-2e\"/>\n       <use x=\"159.033203\" xlink:href=\"#DejaVuSans-30\"/>\n      </g>\n     </g>\n    </g>\n    <g id=\"xtick_6\">\n     <g id=\"line2d_6\">\n      <g>\n       <use style=\"stroke:#000000;stroke-width:0.8;\" x=\"289.158723\" xlink:href=\"#mfa795e6615\" y=\"224.64\"/>\n      </g>\n     </g>\n     <g id=\"text_6\">\n      <!-- 12.5 -->\n      <g transform=\"translate(278.025911 239.238437)scale(0.1 -0.1)\">\n       <use xlink:href=\"#DejaVuSans-31\"/>\n       <use x=\"63.623047\" xlink:href=\"#DejaVuSans-32\"/>\n       <use x=\"127.246094\" xlink:href=\"#DejaVuSans-2e\"/>\n       <use x=\"159.033203\" xlink:href=\"#DejaVuSans-35\"/>\n      </g>\n     </g>\n    </g>\n    <g id=\"xtick_7\">\n     <g id=\"line2d_7\">\n      <g>\n       <use style=\"stroke:#000000;stroke-width:0.8;\" x=\"333.918082\" xlink:href=\"#mfa795e6615\" y=\"224.64\"/>\n      </g>\n     </g>\n     <g id=\"text_7\">\n      <!-- 15.0 -->\n      <g transform=\"translate(322.785269 239.238437)scale(0.1 -0.1)\">\n       <use xlink:href=\"#DejaVuSans-31\"/>\n       <use x=\"63.623047\" xlink:href=\"#DejaVuSans-35\"/>\n       <use x=\"127.246094\" xlink:href=\"#DejaVuSans-2e\"/>\n       <use x=\"159.033203\" xlink:href=\"#DejaVuSans-30\"/>\n      </g>\n     </g>\n    </g>\n    <g id=\"xtick_8\">\n     <g id=\"line2d_8\">\n      <g>\n       <use style=\"stroke:#000000;stroke-width:0.8;\" x=\"378.67744\" xlink:href=\"#mfa795e6615\" y=\"224.64\"/>\n      </g>\n     </g>\n     <g id=\"text_8\">\n      <!-- 17.5 -->\n      <g transform=\"translate(367.544627 239.238437)scale(0.1 -0.1)\">\n       <use xlink:href=\"#DejaVuSans-31\"/>\n       <use x=\"63.623047\" xlink:href=\"#DejaVuSans-37\"/>\n       <use x=\"127.246094\" xlink:href=\"#DejaVuSans-2e\"/>\n       <use x=\"159.033203\" xlink:href=\"#DejaVuSans-35\"/>\n      </g>\n     </g>\n    </g>\n    <g id=\"text_9\">\n     <!-- Batch # -->\n     <g transform=\"translate(197.392188 252.916562)scale(0.1 -0.1)\">\n      <defs>\n       <path d=\"M 1259 2228 \nL 1259 519 \nL 2272 519 \nQ 2781 519 3026 730 \nQ 3272 941 3272 1375 \nQ 3272 1813 3026 2020 \nQ 2781 2228 2272 2228 \nL 1259 2228 \nz\nM 1259 4147 \nL 1259 2741 \nL 2194 2741 \nQ 2656 2741 2882 2914 \nQ 3109 3088 3109 3444 \nQ 3109 3797 2882 3972 \nQ 2656 4147 2194 4147 \nL 1259 4147 \nz\nM 628 4666 \nL 2241 4666 \nQ 2963 4666 3353 4366 \nQ 3744 4066 3744 3513 \nQ 3744 3084 3544 2831 \nQ 3344 2578 2956 2516 \nQ 3422 2416 3680 2098 \nQ 3938 1781 3938 1306 \nQ 3938 681 3513 340 \nQ 3088 0 2303 0 \nL 628 0 \nL 628 4666 \nz\n\" id=\"DejaVuSans-42\" transform=\"scale(0.015625)\"/>\n       <path d=\"M 2194 1759 \nQ 1497 1759 1228 1600 \nQ 959 1441 959 1056 \nQ 959 750 1161 570 \nQ 1363 391 1709 391 \nQ 2188 391 2477 730 \nQ 2766 1069 2766 1631 \nL 2766 1759 \nL 2194 1759 \nz\nM 3341 1997 \nL 3341 0 \nL 2766 0 \nL 2766 531 \nQ 2569 213 2275 61 \nQ 1981 -91 1556 -91 \nQ 1019 -91 701 211 \nQ 384 513 384 1019 \nQ 384 1609 779 1909 \nQ 1175 2209 1959 2209 \nL 2766 2209 \nL 2766 2266 \nQ 2766 2663 2505 2880 \nQ 2244 3097 1772 3097 \nQ 1472 3097 1187 3025 \nQ 903 2953 641 2809 \nL 641 3341 \nQ 956 3463 1253 3523 \nQ 1550 3584 1831 3584 \nQ 2591 3584 2966 3190 \nQ 3341 2797 3341 1997 \nz\n\" id=\"DejaVuSans-61\" transform=\"scale(0.015625)\"/>\n       <path d=\"M 1172 4494 \nL 1172 3500 \nL 2356 3500 \nL 2356 3053 \nL 1172 3053 \nL 1172 1153 \nQ 1172 725 1289 603 \nQ 1406 481 1766 481 \nL 2356 481 \nL 2356 0 \nL 1766 0 \nQ 1100 0 847 248 \nQ 594 497 594 1153 \nL 594 3053 \nL 172 3053 \nL 172 3500 \nL 594 3500 \nL 594 4494 \nL 1172 4494 \nz\n\" id=\"DejaVuSans-74\" transform=\"scale(0.015625)\"/>\n       <path d=\"M 3122 3366 \nL 3122 2828 \nQ 2878 2963 2633 3030 \nQ 2388 3097 2138 3097 \nQ 1578 3097 1268 2742 \nQ 959 2388 959 1747 \nQ 959 1106 1268 751 \nQ 1578 397 2138 397 \nQ 2388 397 2633 464 \nQ 2878 531 3122 666 \nL 3122 134 \nQ 2881 22 2623 -34 \nQ 2366 -91 2075 -91 \nQ 1284 -91 818 406 \nQ 353 903 353 1747 \nQ 353 2603 823 3093 \nQ 1294 3584 2113 3584 \nQ 2378 3584 2631 3529 \nQ 2884 3475 3122 3366 \nz\n\" id=\"DejaVuSans-63\" transform=\"scale(0.015625)\"/>\n       <path d=\"M 3513 2113 \nL 3513 0 \nL 2938 0 \nL 2938 2094 \nQ 2938 2591 2744 2837 \nQ 2550 3084 2163 3084 \nQ 1697 3084 1428 2787 \nQ 1159 2491 1159 1978 \nL 1159 0 \nL 581 0 \nL 581 4863 \nL 1159 4863 \nL 1159 2956 \nQ 1366 3272 1645 3428 \nQ 1925 3584 2291 3584 \nQ 2894 3584 3203 3211 \nQ 3513 2838 3513 2113 \nz\n\" id=\"DejaVuSans-68\" transform=\"scale(0.015625)\"/>\n       <path id=\"DejaVuSans-20\" transform=\"scale(0.015625)\"/>\n       <path d=\"M 3272 2816 \nL 2363 2816 \nL 2100 1772 \nL 3016 1772 \nL 3272 2816 \nz\nM 2803 4594 \nL 2478 3297 \nL 3391 3297 \nL 3719 4594 \nL 4219 4594 \nL 3897 3297 \nL 4872 3297 \nL 4872 2816 \nL 3775 2816 \nL 3519 1772 \nL 4513 1772 \nL 4513 1294 \nL 3397 1294 \nL 3072 0 \nL 2572 0 \nL 2894 1294 \nL 1978 1294 \nL 1656 0 \nL 1153 0 \nL 1478 1294 \nL 494 1294 \nL 494 1772 \nL 1594 1772 \nL 1856 2816 \nL 850 2816 \nL 850 3297 \nL 1978 3297 \nL 2297 4594 \nL 2803 4594 \nz\n\" id=\"DejaVuSans-23\" transform=\"scale(0.015625)\"/>\n      </defs>\n      <use xlink:href=\"#DejaVuSans-42\"/>\n      <use x=\"68.603516\" xlink:href=\"#DejaVuSans-61\"/>\n      <use x=\"129.882812\" xlink:href=\"#DejaVuSans-74\"/>\n      <use x=\"169.091797\" xlink:href=\"#DejaVuSans-63\"/>\n      <use x=\"224.072266\" xlink:href=\"#DejaVuSans-68\"/>\n      <use x=\"287.451172\" xlink:href=\"#DejaVuSans-20\"/>\n      <use x=\"319.238281\" xlink:href=\"#DejaVuSans-23\"/>\n     </g>\n    </g>\n   </g>\n   <g id=\"matplotlib.axis_2\">\n    <g id=\"ytick_1\">\n     <g id=\"line2d_9\">\n      <defs>\n       <path d=\"M 0 0 \nL -3.5 0 \n\" id=\"m046dfcaacf\" style=\"stroke:#000000;stroke-width:0.8;\"/>\n      </defs>\n      <g>\n       <use style=\"stroke:#000000;stroke-width:0.8;\" x=\"50.14375\" xlink:href=\"#m046dfcaacf\" y=\"223.055471\"/>\n      </g>\n     </g>\n     <g id=\"text_10\">\n      <!-- 2.21 -->\n      <g transform=\"translate(20.878125 226.85469)scale(0.1 -0.1)\">\n       <use xlink:href=\"#DejaVuSans-32\"/>\n       <use x=\"63.623047\" xlink:href=\"#DejaVuSans-2e\"/>\n       <use x=\"95.410156\" xlink:href=\"#DejaVuSans-32\"/>\n       <use x=\"159.033203\" xlink:href=\"#DejaVuSans-31\"/>\n      </g>\n     </g>\n    </g>\n    <g id=\"ytick_2\">\n     <g id=\"line2d_10\">\n      <g>\n       <use style=\"stroke:#000000;stroke-width:0.8;\" x=\"50.14375\" xlink:href=\"#m046dfcaacf\" y=\"198.138807\"/>\n      </g>\n     </g>\n     <g id=\"text_11\">\n      <!-- 2.22 -->\n      <g transform=\"translate(20.878125 201.938025)scale(0.1 -0.1)\">\n       <use xlink:href=\"#DejaVuSans-32\"/>\n       <use x=\"63.623047\" xlink:href=\"#DejaVuSans-2e\"/>\n       <use x=\"95.410156\" xlink:href=\"#DejaVuSans-32\"/>\n       <use x=\"159.033203\" xlink:href=\"#DejaVuSans-32\"/>\n      </g>\n     </g>\n    </g>\n    <g id=\"ytick_3\">\n     <g id=\"line2d_11\">\n      <g>\n       <use style=\"stroke:#000000;stroke-width:0.8;\" x=\"50.14375\" xlink:href=\"#m046dfcaacf\" y=\"173.222142\"/>\n      </g>\n     </g>\n     <g id=\"text_12\">\n      <!-- 2.23 -->\n      <g transform=\"translate(20.878125 177.021361)scale(0.1 -0.1)\">\n       <defs>\n        <path d=\"M 2597 2516 \nQ 3050 2419 3304 2112 \nQ 3559 1806 3559 1356 \nQ 3559 666 3084 287 \nQ 2609 -91 1734 -91 \nQ 1441 -91 1130 -33 \nQ 819 25 488 141 \nL 488 750 \nQ 750 597 1062 519 \nQ 1375 441 1716 441 \nQ 2309 441 2620 675 \nQ 2931 909 2931 1356 \nQ 2931 1769 2642 2001 \nQ 2353 2234 1838 2234 \nL 1294 2234 \nL 1294 2753 \nL 1863 2753 \nQ 2328 2753 2575 2939 \nQ 2822 3125 2822 3475 \nQ 2822 3834 2567 4026 \nQ 2313 4219 1838 4219 \nQ 1578 4219 1281 4162 \nQ 984 4106 628 3988 \nL 628 4550 \nQ 988 4650 1302 4700 \nQ 1616 4750 1894 4750 \nQ 2613 4750 3031 4423 \nQ 3450 4097 3450 3541 \nQ 3450 3153 3228 2886 \nQ 3006 2619 2597 2516 \nz\n\" id=\"DejaVuSans-33\" transform=\"scale(0.015625)\"/>\n       </defs>\n       <use xlink:href=\"#DejaVuSans-32\"/>\n       <use x=\"63.623047\" xlink:href=\"#DejaVuSans-2e\"/>\n       <use x=\"95.410156\" xlink:href=\"#DejaVuSans-32\"/>\n       <use x=\"159.033203\" xlink:href=\"#DejaVuSans-33\"/>\n      </g>\n     </g>\n    </g>\n    <g id=\"ytick_4\">\n     <g id=\"line2d_12\">\n      <g>\n       <use style=\"stroke:#000000;stroke-width:0.8;\" x=\"50.14375\" xlink:href=\"#m046dfcaacf\" y=\"148.305478\"/>\n      </g>\n     </g>\n     <g id=\"text_13\">\n      <!-- 2.24 -->\n      <g transform=\"translate(20.878125 152.104697)scale(0.1 -0.1)\">\n       <defs>\n        <path d=\"M 2419 4116 \nL 825 1625 \nL 2419 1625 \nL 2419 4116 \nz\nM 2253 4666 \nL 3047 4666 \nL 3047 1625 \nL 3713 1625 \nL 3713 1100 \nL 3047 1100 \nL 3047 0 \nL 2419 0 \nL 2419 1100 \nL 313 1100 \nL 313 1709 \nL 2253 4666 \nz\n\" id=\"DejaVuSans-34\" transform=\"scale(0.015625)\"/>\n       </defs>\n       <use xlink:href=\"#DejaVuSans-32\"/>\n       <use x=\"63.623047\" xlink:href=\"#DejaVuSans-2e\"/>\n       <use x=\"95.410156\" xlink:href=\"#DejaVuSans-32\"/>\n       <use x=\"159.033203\" xlink:href=\"#DejaVuSans-34\"/>\n      </g>\n     </g>\n    </g>\n    <g id=\"ytick_5\">\n     <g id=\"line2d_13\">\n      <g>\n       <use style=\"stroke:#000000;stroke-width:0.8;\" x=\"50.14375\" xlink:href=\"#m046dfcaacf\" y=\"123.388814\"/>\n      </g>\n     </g>\n     <g id=\"text_14\">\n      <!-- 2.25 -->\n      <g transform=\"translate(20.878125 127.188033)scale(0.1 -0.1)\">\n       <use xlink:href=\"#DejaVuSans-32\"/>\n       <use x=\"63.623047\" xlink:href=\"#DejaVuSans-2e\"/>\n       <use x=\"95.410156\" xlink:href=\"#DejaVuSans-32\"/>\n       <use x=\"159.033203\" xlink:href=\"#DejaVuSans-35\"/>\n      </g>\n     </g>\n    </g>\n    <g id=\"ytick_6\">\n     <g id=\"line2d_14\">\n      <g>\n       <use style=\"stroke:#000000;stroke-width:0.8;\" x=\"50.14375\" xlink:href=\"#m046dfcaacf\" y=\"98.47215\"/>\n      </g>\n     </g>\n     <g id=\"text_15\">\n      <!-- 2.26 -->\n      <g transform=\"translate(20.878125 102.271368)scale(0.1 -0.1)\">\n       <defs>\n        <path d=\"M 2113 2584 \nQ 1688 2584 1439 2293 \nQ 1191 2003 1191 1497 \nQ 1191 994 1439 701 \nQ 1688 409 2113 409 \nQ 2538 409 2786 701 \nQ 3034 994 3034 1497 \nQ 3034 2003 2786 2293 \nQ 2538 2584 2113 2584 \nz\nM 3366 4563 \nL 3366 3988 \nQ 3128 4100 2886 4159 \nQ 2644 4219 2406 4219 \nQ 1781 4219 1451 3797 \nQ 1122 3375 1075 2522 \nQ 1259 2794 1537 2939 \nQ 1816 3084 2150 3084 \nQ 2853 3084 3261 2657 \nQ 3669 2231 3669 1497 \nQ 3669 778 3244 343 \nQ 2819 -91 2113 -91 \nQ 1303 -91 875 529 \nQ 447 1150 447 2328 \nQ 447 3434 972 4092 \nQ 1497 4750 2381 4750 \nQ 2619 4750 2861 4703 \nQ 3103 4656 3366 4563 \nz\n\" id=\"DejaVuSans-36\" transform=\"scale(0.015625)\"/>\n       </defs>\n       <use xlink:href=\"#DejaVuSans-32\"/>\n       <use x=\"63.623047\" xlink:href=\"#DejaVuSans-2e\"/>\n       <use x=\"95.410156\" xlink:href=\"#DejaVuSans-32\"/>\n       <use x=\"159.033203\" xlink:href=\"#DejaVuSans-36\"/>\n      </g>\n     </g>\n    </g>\n    <g id=\"ytick_7\">\n     <g id=\"line2d_15\">\n      <g>\n       <use style=\"stroke:#000000;stroke-width:0.8;\" x=\"50.14375\" xlink:href=\"#m046dfcaacf\" y=\"73.555485\"/>\n      </g>\n     </g>\n     <g id=\"text_16\">\n      <!-- 2.27 -->\n      <g transform=\"translate(20.878125 77.354704)scale(0.1 -0.1)\">\n       <use xlink:href=\"#DejaVuSans-32\"/>\n       <use x=\"63.623047\" xlink:href=\"#DejaVuSans-2e\"/>\n       <use x=\"95.410156\" xlink:href=\"#DejaVuSans-32\"/>\n       <use x=\"159.033203\" xlink:href=\"#DejaVuSans-37\"/>\n      </g>\n     </g>\n    </g>\n    <g id=\"ytick_8\">\n     <g id=\"line2d_16\">\n      <g>\n       <use style=\"stroke:#000000;stroke-width:0.8;\" x=\"50.14375\" xlink:href=\"#m046dfcaacf\" y=\"48.638821\"/>\n      </g>\n     </g>\n     <g id=\"text_17\">\n      <!-- 2.28 -->\n      <g transform=\"translate(20.878125 52.43804)scale(0.1 -0.1)\">\n       <defs>\n        <path d=\"M 2034 2216 \nQ 1584 2216 1326 1975 \nQ 1069 1734 1069 1313 \nQ 1069 891 1326 650 \nQ 1584 409 2034 409 \nQ 2484 409 2743 651 \nQ 3003 894 3003 1313 \nQ 3003 1734 2745 1975 \nQ 2488 2216 2034 2216 \nz\nM 1403 2484 \nQ 997 2584 770 2862 \nQ 544 3141 544 3541 \nQ 544 4100 942 4425 \nQ 1341 4750 2034 4750 \nQ 2731 4750 3128 4425 \nQ 3525 4100 3525 3541 \nQ 3525 3141 3298 2862 \nQ 3072 2584 2669 2484 \nQ 3125 2378 3379 2068 \nQ 3634 1759 3634 1313 \nQ 3634 634 3220 271 \nQ 2806 -91 2034 -91 \nQ 1263 -91 848 271 \nQ 434 634 434 1313 \nQ 434 1759 690 2068 \nQ 947 2378 1403 2484 \nz\nM 1172 3481 \nQ 1172 3119 1398 2916 \nQ 1625 2713 2034 2713 \nQ 2441 2713 2670 2916 \nQ 2900 3119 2900 3481 \nQ 2900 3844 2670 4047 \nQ 2441 4250 2034 4250 \nQ 1625 4250 1398 4047 \nQ 1172 3844 1172 3481 \nz\n\" id=\"DejaVuSans-38\" transform=\"scale(0.015625)\"/>\n       </defs>\n       <use xlink:href=\"#DejaVuSans-32\"/>\n       <use x=\"63.623047\" xlink:href=\"#DejaVuSans-2e\"/>\n       <use x=\"95.410156\" xlink:href=\"#DejaVuSans-32\"/>\n       <use x=\"159.033203\" xlink:href=\"#DejaVuSans-38\"/>\n      </g>\n     </g>\n    </g>\n    <g id=\"ytick_9\">\n     <g id=\"line2d_17\">\n      <g>\n       <use style=\"stroke:#000000;stroke-width:0.8;\" x=\"50.14375\" xlink:href=\"#m046dfcaacf\" y=\"23.722157\"/>\n      </g>\n     </g>\n     <g id=\"text_18\">\n      <!-- 2.29 -->\n      <g transform=\"translate(20.878125 27.521376)scale(0.1 -0.1)\">\n       <defs>\n        <path d=\"M 703 97 \nL 703 672 \nQ 941 559 1184 500 \nQ 1428 441 1663 441 \nQ 2288 441 2617 861 \nQ 2947 1281 2994 2138 \nQ 2813 1869 2534 1725 \nQ 2256 1581 1919 1581 \nQ 1219 1581 811 2004 \nQ 403 2428 403 3163 \nQ 403 3881 828 4315 \nQ 1253 4750 1959 4750 \nQ 2769 4750 3195 4129 \nQ 3622 3509 3622 2328 \nQ 3622 1225 3098 567 \nQ 2575 -91 1691 -91 \nQ 1453 -91 1209 -44 \nQ 966 3 703 97 \nz\nM 1959 2075 \nQ 2384 2075 2632 2365 \nQ 2881 2656 2881 3163 \nQ 2881 3666 2632 3958 \nQ 2384 4250 1959 4250 \nQ 1534 4250 1286 3958 \nQ 1038 3666 1038 3163 \nQ 1038 2656 1286 2365 \nQ 1534 2075 1959 2075 \nz\n\" id=\"DejaVuSans-39\" transform=\"scale(0.015625)\"/>\n       </defs>\n       <use xlink:href=\"#DejaVuSans-32\"/>\n       <use x=\"63.623047\" xlink:href=\"#DejaVuSans-2e\"/>\n       <use x=\"95.410156\" xlink:href=\"#DejaVuSans-32\"/>\n       <use x=\"159.033203\" xlink:href=\"#DejaVuSans-39\"/>\n      </g>\n     </g>\n    </g>\n    <g id=\"text_19\">\n     <!-- Loss [entropy] -->\n     <g transform=\"translate(14.798438 151.719219)rotate(-90)scale(0.1 -0.1)\">\n      <defs>\n       <path d=\"M 628 4666 \nL 1259 4666 \nL 1259 531 \nL 3531 531 \nL 3531 0 \nL 628 0 \nL 628 4666 \nz\n\" id=\"DejaVuSans-4c\" transform=\"scale(0.015625)\"/>\n       <path d=\"M 1959 3097 \nQ 1497 3097 1228 2736 \nQ 959 2375 959 1747 \nQ 959 1119 1226 758 \nQ 1494 397 1959 397 \nQ 2419 397 2687 759 \nQ 2956 1122 2956 1747 \nQ 2956 2369 2687 2733 \nQ 2419 3097 1959 3097 \nz\nM 1959 3584 \nQ 2709 3584 3137 3096 \nQ 3566 2609 3566 1747 \nQ 3566 888 3137 398 \nQ 2709 -91 1959 -91 \nQ 1206 -91 779 398 \nQ 353 888 353 1747 \nQ 353 2609 779 3096 \nQ 1206 3584 1959 3584 \nz\n\" id=\"DejaVuSans-6f\" transform=\"scale(0.015625)\"/>\n       <path d=\"M 2834 3397 \nL 2834 2853 \nQ 2591 2978 2328 3040 \nQ 2066 3103 1784 3103 \nQ 1356 3103 1142 2972 \nQ 928 2841 928 2578 \nQ 928 2378 1081 2264 \nQ 1234 2150 1697 2047 \nL 1894 2003 \nQ 2506 1872 2764 1633 \nQ 3022 1394 3022 966 \nQ 3022 478 2636 193 \nQ 2250 -91 1575 -91 \nQ 1294 -91 989 -36 \nQ 684 19 347 128 \nL 347 722 \nQ 666 556 975 473 \nQ 1284 391 1588 391 \nQ 1994 391 2212 530 \nQ 2431 669 2431 922 \nQ 2431 1156 2273 1281 \nQ 2116 1406 1581 1522 \nL 1381 1569 \nQ 847 1681 609 1914 \nQ 372 2147 372 2553 \nQ 372 3047 722 3315 \nQ 1072 3584 1716 3584 \nQ 2034 3584 2315 3537 \nQ 2597 3491 2834 3397 \nz\n\" id=\"DejaVuSans-73\" transform=\"scale(0.015625)\"/>\n       <path d=\"M 550 4863 \nL 1875 4863 \nL 1875 4416 \nL 1125 4416 \nL 1125 -397 \nL 1875 -397 \nL 1875 -844 \nL 550 -844 \nL 550 4863 \nz\n\" id=\"DejaVuSans-5b\" transform=\"scale(0.015625)\"/>\n       <path d=\"M 3597 1894 \nL 3597 1613 \nL 953 1613 \nQ 991 1019 1311 708 \nQ 1631 397 2203 397 \nQ 2534 397 2845 478 \nQ 3156 559 3463 722 \nL 3463 178 \nQ 3153 47 2828 -22 \nQ 2503 -91 2169 -91 \nQ 1331 -91 842 396 \nQ 353 884 353 1716 \nQ 353 2575 817 3079 \nQ 1281 3584 2069 3584 \nQ 2775 3584 3186 3129 \nQ 3597 2675 3597 1894 \nz\nM 3022 2063 \nQ 3016 2534 2758 2815 \nQ 2500 3097 2075 3097 \nQ 1594 3097 1305 2825 \nQ 1016 2553 972 2059 \nL 3022 2063 \nz\n\" id=\"DejaVuSans-65\" transform=\"scale(0.015625)\"/>\n       <path d=\"M 3513 2113 \nL 3513 0 \nL 2938 0 \nL 2938 2094 \nQ 2938 2591 2744 2837 \nQ 2550 3084 2163 3084 \nQ 1697 3084 1428 2787 \nQ 1159 2491 1159 1978 \nL 1159 0 \nL 581 0 \nL 581 3500 \nL 1159 3500 \nL 1159 2956 \nQ 1366 3272 1645 3428 \nQ 1925 3584 2291 3584 \nQ 2894 3584 3203 3211 \nQ 3513 2838 3513 2113 \nz\n\" id=\"DejaVuSans-6e\" transform=\"scale(0.015625)\"/>\n       <path d=\"M 2631 2963 \nQ 2534 3019 2420 3045 \nQ 2306 3072 2169 3072 \nQ 1681 3072 1420 2755 \nQ 1159 2438 1159 1844 \nL 1159 0 \nL 581 0 \nL 581 3500 \nL 1159 3500 \nL 1159 2956 \nQ 1341 3275 1631 3429 \nQ 1922 3584 2338 3584 \nQ 2397 3584 2469 3576 \nQ 2541 3569 2628 3553 \nL 2631 2963 \nz\n\" id=\"DejaVuSans-72\" transform=\"scale(0.015625)\"/>\n       <path d=\"M 1159 525 \nL 1159 -1331 \nL 581 -1331 \nL 581 3500 \nL 1159 3500 \nL 1159 2969 \nQ 1341 3281 1617 3432 \nQ 1894 3584 2278 3584 \nQ 2916 3584 3314 3078 \nQ 3713 2572 3713 1747 \nQ 3713 922 3314 415 \nQ 2916 -91 2278 -91 \nQ 1894 -91 1617 61 \nQ 1341 213 1159 525 \nz\nM 3116 1747 \nQ 3116 2381 2855 2742 \nQ 2594 3103 2138 3103 \nQ 1681 3103 1420 2742 \nQ 1159 2381 1159 1747 \nQ 1159 1113 1420 752 \nQ 1681 391 2138 391 \nQ 2594 391 2855 752 \nQ 3116 1113 3116 1747 \nz\n\" id=\"DejaVuSans-70\" transform=\"scale(0.015625)\"/>\n       <path d=\"M 2059 -325 \nQ 1816 -950 1584 -1140 \nQ 1353 -1331 966 -1331 \nL 506 -1331 \nL 506 -850 \nL 844 -850 \nQ 1081 -850 1212 -737 \nQ 1344 -625 1503 -206 \nL 1606 56 \nL 191 3500 \nL 800 3500 \nL 1894 763 \nL 2988 3500 \nL 3597 3500 \nL 2059 -325 \nz\n\" id=\"DejaVuSans-79\" transform=\"scale(0.015625)\"/>\n       <path d=\"M 1947 4863 \nL 1947 -844 \nL 622 -844 \nL 622 -397 \nL 1369 -397 \nL 1369 4416 \nL 622 4416 \nL 622 4863 \nL 1947 4863 \nz\n\" id=\"DejaVuSans-5d\" transform=\"scale(0.015625)\"/>\n      </defs>\n      <use xlink:href=\"#DejaVuSans-4c\"/>\n      <use x=\"53.962891\" xlink:href=\"#DejaVuSans-6f\"/>\n      <use x=\"115.144531\" xlink:href=\"#DejaVuSans-73\"/>\n      <use x=\"167.244141\" xlink:href=\"#DejaVuSans-73\"/>\n      <use x=\"219.34375\" xlink:href=\"#DejaVuSans-20\"/>\n      <use x=\"251.130859\" xlink:href=\"#DejaVuSans-5b\"/>\n      <use x=\"290.144531\" xlink:href=\"#DejaVuSans-65\"/>\n      <use x=\"351.667969\" xlink:href=\"#DejaVuSans-6e\"/>\n      <use x=\"415.046875\" xlink:href=\"#DejaVuSans-74\"/>\n      <use x=\"454.255859\" xlink:href=\"#DejaVuSans-72\"/>\n      <use x=\"493.119141\" xlink:href=\"#DejaVuSans-6f\"/>\n      <use x=\"554.300781\" xlink:href=\"#DejaVuSans-70\"/>\n      <use x=\"617.777344\" xlink:href=\"#DejaVuSans-79\"/>\n      <use x=\"676.957031\" xlink:href=\"#DejaVuSans-5d\"/>\n     </g>\n    </g>\n   </g>\n   <g id=\"line2d_18\">\n    <path clip-path=\"url(#pd9827c6c6b)\" d=\"M 65.361932 141.808225 \nL 83.265675 17.083636 \nL 101.169418 90.034745 \nL 119.073162 79.610188 \nL 136.976905 41.565425 \nL 154.880648 62.738302 \nL 172.784392 53.004636 \nL 190.688135 125.842874 \nL 208.591878 133.370797 \nL 226.495622 117.697723 \nL 244.399365 26.154332 \nL 262.303108 116.704456 \nL 280.206852 94.537717 \nL 298.110595 214.756364 \nL 316.014338 108.31277 \nL 333.918082 164.456746 \nL 351.821825 101.781679 \nL 369.725568 32.407997 \n\" style=\"fill:none;stroke:#1f77b4;stroke-linecap:square;stroke-width:1.5;\"/>\n   </g>\n   <g id=\"patch_3\">\n    <path d=\"M 50.14375 224.64 \nL 50.14375 7.2 \n\" style=\"fill:none;stroke:#000000;stroke-linecap:square;stroke-linejoin:miter;stroke-width:0.8;\"/>\n   </g>\n   <g id=\"patch_4\">\n    <path d=\"M 384.94375 224.64 \nL 384.94375 7.2 \n\" style=\"fill:none;stroke:#000000;stroke-linecap:square;stroke-linejoin:miter;stroke-width:0.8;\"/>\n   </g>\n   <g id=\"patch_5\">\n    <path d=\"M 50.14375 224.64 \nL 384.94375 224.64 \n\" style=\"fill:none;stroke:#000000;stroke-linecap:square;stroke-linejoin:miter;stroke-width:0.8;\"/>\n   </g>\n   <g id=\"patch_6\">\n    <path d=\"M 50.14375 7.2 \nL 384.94375 7.2 \n\" style=\"fill:none;stroke:#000000;stroke-linecap:square;stroke-linejoin:miter;stroke-width:0.8;\"/>\n   </g>\n  </g>\n </g>\n <defs>\n  <clipPath id=\"pd9827c6c6b\">\n   <rect height=\"217.44\" width=\"334.8\" x=\"50.14375\" y=\"7.2\"/>\n  </clipPath>\n </defs>\n</svg>\n",
      "image/png": "[encoded data removed]"
     },
     "metadata": {
      "needs_background": "light"
     }
    }
   ],
   "metadata": {}
  },
  {
   "cell_type": "code",
   "execution_count": 105,
   "source": [
    "l = tf.Variable([[2, 4], [6, 8]])\n",
    "print(tf.square(l-1))\n",
    "c = tf.reduce_mean(tf.square(l-1))\n",
    "print(c)\n",
    "\n",
    "# for x, y in enumerate(l):\n",
    "#     print(x, y)\n",
    "#     for z in y:\n",
    "#         print(z)\n",
    "print(np.mean(l.numpy()))\n",
    "# for y in l.numpy():\n",
    "#     print(y)\n",
    "#     for z in y:\n",
    "#         print(z)\n"
   ],
   "outputs": [
    {
     "output_type": "stream",
     "name": "stdout",
     "text": [
      "tf.Tensor(\n",
      "[[ 1  9]\n",
      " [25 49]], shape=(2, 2), dtype=int32)\n",
      "tf.Tensor(21, shape=(), dtype=int32)\n",
      "5.0\n"
     ]
    }
   ],
   "metadata": {}
  },
  {
   "cell_type": "code",
   "execution_count": 113,
   "source": [
    "x1 = tf.Variable(10.)\n",
    "checkpoint = tf.train.Checkpoint(x=x1)\n",
    "x1.assign(2.)   # 변수에 새로운 값을 할당하고 저장\n",
    "checkpoint_path = './ckpt/'\n",
    "checkpoint.save('./ckpt/')"
   ],
   "outputs": [
    {
     "output_type": "execute_result",
     "data": {
      "text/plain": [
       "'./ckpt/-1'"
      ]
     },
     "metadata": {},
     "execution_count": 113
    }
   ],
   "metadata": {}
  },
  {
   "cell_type": "code",
   "execution_count": 120,
   "source": [
    "x1.assign(11.)  # 저장한 후에 변수 변경\n",
    "print(x1)"
   ],
   "outputs": [
    {
     "output_type": "stream",
     "name": "stdout",
     "text": [
      "<tf.Variable 'Variable:0' shape=() dtype=float32, numpy=11.0>\n"
     ]
    }
   ],
   "metadata": {}
  },
  {
   "cell_type": "code",
   "execution_count": 121,
   "source": [
    "checkpoint.restore(tf.train.latest_checkpoint(checkpoint_path))\n",
    "\n",
    "print(x1)  # => 2.0"
   ],
   "outputs": [
    {
     "output_type": "stream",
     "name": "stdout",
     "text": [
      "<tf.Variable 'Variable:0' shape=() dtype=float32, numpy=2.0>\n"
     ]
    }
   ],
   "metadata": {}
  },
  {
   "cell_type": "code",
   "execution_count": 124,
   "source": [
    "if tf.config.experimental.list_physical_devices(\"GPU\"):\n",
    "    x = tf.random.normal([10, 10])\n",
    "    print(x)\n",
    "    x_gpu0 = x.gpu()\n",
    "    print(x_gpu0)\n",
    "    x_cpu = x.cpu()\n",
    "\n",
    "    _ = tf.matmul(x_cpu, x_cpu)    # CPU에서 실행\n",
    "    _ = tf.matmul(x_gpu0, x_gpu0)  # GPU:0에서 실행"
   ],
   "outputs": [
    {
     "output_type": "stream",
     "name": "stdout",
     "text": [
      "tf.Tensor(\n",
      "[[-0.89652     0.1645122   0.5719512  -0.93718475  0.3064624   0.11849971\n",
      "  -0.8864141  -1.4383634   0.740714    0.7929607 ]\n",
      " [-0.5967527   0.6190684   0.41986784 -0.13430747 -1.1391798   0.83187574\n",
      "   0.576894   -0.01099483  0.4475941   0.9526349 ]\n",
      " [-0.7713416   0.11173362 -0.97250795  0.61493725 -0.95605636 -1.5554916\n",
      "  -0.12744378 -0.7357163   2.162834   -0.9306199 ]\n",
      " [-0.46036685  0.9395578   1.0905731  -1.0605161   0.21641746  0.7645008\n",
      "  -1.3515042   2.8675554  -1.0997726  -0.7230181 ]\n",
      " [-1.026391   -0.8283129   1.5668818  -1.5580293  -0.24538861  0.9566878\n",
      "   0.43846554 -0.49396303 -0.583527    0.80831736]\n",
      " [ 1.2335721  -0.3019705   0.9180596   0.02800184  1.1656786  -1.0034095\n",
      "  -0.83139116  0.36175945 -0.12606218 -0.16602524]\n",
      " [-0.98480725  0.72413963 -0.4722459  -1.3140428   0.45458388 -0.3891311\n",
      "  -2.2528064   1.6429925  -0.49386975  0.35262385]\n",
      " [ 0.7160888  -0.5484946   0.7601001   0.49504316 -0.8192527   1.2878631\n",
      "   1.4333923  -1.0980748  -0.18367177  1.3420101 ]\n",
      " [ 1.4221165   1.4028358   0.15473013 -0.7188176   0.25510243  0.31684703\n",
      "   0.62543404  0.20866157 -0.67181814 -0.5658381 ]\n",
      " [ 0.6555026   1.5253023   0.33737087 -0.54405594 -0.00455773 -1.7390689\n",
      "  -1.4316719   1.4285264  -0.39799142  0.7618857 ]], shape=(10, 10), dtype=float32)\n",
      "tf.Tensor(\n",
      "[[-0.89652     0.1645122   0.5719512  -0.93718475  0.3064624   0.11849971\n",
      "  -0.8864141  -1.4383634   0.740714    0.7929607 ]\n",
      " [-0.5967527   0.6190684   0.41986784 -0.13430747 -1.1391798   0.83187574\n",
      "   0.576894   -0.01099483  0.4475941   0.9526349 ]\n",
      " [-0.7713416   0.11173362 -0.97250795  0.61493725 -0.95605636 -1.5554916\n",
      "  -0.12744378 -0.7357163   2.162834   -0.9306199 ]\n",
      " [-0.46036685  0.9395578   1.0905731  -1.0605161   0.21641746  0.7645008\n",
      "  -1.3515042   2.8675554  -1.0997726  -0.7230181 ]\n",
      " [-1.026391   -0.8283129   1.5668818  -1.5580293  -0.24538861  0.9566878\n",
      "   0.43846554 -0.49396303 -0.583527    0.80831736]\n",
      " [ 1.2335721  -0.3019705   0.9180596   0.02800184  1.1656786  -1.0034095\n",
      "  -0.83139116  0.36175945 -0.12606218 -0.16602524]\n",
      " [-0.98480725  0.72413963 -0.4722459  -1.3140428   0.45458388 -0.3891311\n",
      "  -2.2528064   1.6429925  -0.49386975  0.35262385]\n",
      " [ 0.7160888  -0.5484946   0.7601001   0.49504316 -0.8192527   1.2878631\n",
      "   1.4333923  -1.0980748  -0.18367177  1.3420101 ]\n",
      " [ 1.4221165   1.4028358   0.15473013 -0.7188176   0.25510243  0.31684703\n",
      "   0.62543404  0.20866157 -0.67181814 -0.5658381 ]\n",
      " [ 0.6555026   1.5253023   0.33737087 -0.54405594 -0.00455773 -1.7390689\n",
      "  -1.4316719   1.4285264  -0.39799142  0.7618857 ]], shape=(10, 10), dtype=float32)\n"
     ]
    }
   ],
   "metadata": {}
  },
  {
   "cell_type": "code",
   "execution_count": 128,
   "source": [
    "import time\n",
    "\n",
    "def measure(x, steps):\n",
    "  # 텐서플로는 처음 사용할 때 GPU를 초기화, 시간계산에서 제외\n",
    "  tf.matmul(x, x)\n",
    "  start = time.time()\n",
    "  for i in range(steps):\n",
    "    x = tf.matmul(x, x)\n",
    "  # tf.matmul는 행렬 곱셈을 완료하기 전에 결과를 반환할 수 있습니다\n",
    "  # (예, CUDA 스트림 대기열에 연산을 추가한 후에 결과를 반환할 수 있다).\n",
    "  # 아래 x.numpy() 호출은 대기열에 추가된 모든 연산이 완료될 것임을 보장합니다\n",
    "  # (그리고 그 결과가 호스트 메모리에 복사될 것이고,\n",
    "  # 그래서 matnul 연산시간보다는 조금 많은 연산시간이\n",
    "  # 포함됩니다).\n",
    "  _ = x.numpy()\n",
    "  end = time.time()\n",
    "  return end - start\n",
    "\n",
    "shape = (1000, 1000)\n",
    "steps = 200\n",
    "print(\"{} 크기 행렬을 자기 자신과 {}번 곱했을 때 걸리는 시간:\".format(shape, steps))\n",
    "\n",
    "# CPU에서 실행:\n",
    "with tf.device(\"/cpu:0\"):\n",
    "  print(\"CPU: {} 초\".format(measure(tf.random.normal(shape), steps)))\n",
    "\n",
    "# GPU에서 실행, 가능하다면:\n",
    "if tf.config.experimental.list_physical_devices(\"GPU\"):\n",
    "  with tf.device(\"/gpu:0\"):\n",
    "    xx = tf.random.normal(shape)\n",
    "    xx_gpu0 = xx.gpu()\n",
    "    xx_cpu = xx.cpu()\n",
    "    print(\"GPU: {} 초\".format(measure(xx_gpu0, steps)))\n",
    "    print(\"CPU: {} 초\".format(measure(xx_cpu, steps)))\n",
    "else:\n",
    "  print(\"GPU: 없음\")"
   ],
   "outputs": [
    {
     "output_type": "stream",
     "name": "stdout",
     "text": [
      "(1000, 1000) 크기 행렬을 자기 자신과 200번 곱했을 때 걸리는 시간:\n",
      "CPU: 1.6137607097625732 초\n",
      "GPU: 0.5444281101226807 초\n",
      "CPU: 0.4530205726623535 초\n"
     ]
    }
   ],
   "metadata": {}
  },
  {
   "cell_type": "code",
   "execution_count": null,
   "source": [],
   "outputs": [],
   "metadata": {}
  }
 ],
 "metadata": {
  "orig_nbformat": 4,
  "language_info": {
   "name": "python",
   "version": "3.8.10",
   "mimetype": "text/x-python",
   "codemirror_mode": {
    "name": "ipython",
    "version": 3
   },
   "pygments_lexer": "ipython3",
   "nbconvert_exporter": "python",
   "file_extension": ".py"
  },
  "kernelspec": {
   "name": "python3",
   "display_name": "Python 3.8.10 64-bit ('base': conda)"
  },
  "interpreter": {
   "hash": "14c878ca9e09cb855c5aba830c5d56400199f035e888de3a1c3895cb2a489872"
  }
 },
 "nbformat": 4,
 "nbformat_minor": 2
}