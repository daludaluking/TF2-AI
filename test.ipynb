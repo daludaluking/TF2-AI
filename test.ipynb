{
 "cells": [
  {
   "cell_type": "code",
   "execution_count": 1,
   "source": [
    "import tensorflow as tf\n",
    "tf.__version__\n",
    "from tensorflow.python.client import device_lib\n",
    "device_lib.list_local_devices()"
   ],
   "outputs": [
    {
     "output_type": "execute_result",
     "data": {
      "text/plain": [
       "[name: \"/device:CPU:0\"\n",
       " device_type: \"CPU\"\n",
       " memory_limit: 268435456\n",
       " locality {\n",
       " }\n",
       " incarnation: 3722729622034724602,\n",
       " name: \"/device:GPU:0\"\n",
       " device_type: \"GPU\"\n",
       " memory_limit: 1703411712\n",
       " locality {\n",
       "   bus_id: 1\n",
       "   links {\n",
       "   }\n",
       " }\n",
       " incarnation: 18234789716542847760\n",
       " physical_device_desc: \"device: 0, name: GeForce MX150, pci bus id: 0000:01:00.0, compute capability: 6.1\"]"
      ]
     },
     "metadata": {},
     "execution_count": 1
    }
   ],
   "metadata": {}
  },
  {
   "cell_type": "code",
   "execution_count": 1,
   "source": [
    "import numpy as np\n",
    "X  = np.array([1.0, 0.5])\n",
    "W1 = np.array([[0.1, 0.3, 0.5], [0.2, 0.4, 0.6]])\n",
    "B1 = np.array([0.1, 0.2, 0.3])\n",
    "A1 = np.dot(X, W1) + B1\n",
    "print(A1.shape)"
   ],
   "outputs": [
    {
     "output_type": "stream",
     "name": "stdout",
     "text": [
      "(3,)\n"
     ]
    }
   ],
   "metadata": {}
  },
  {
   "cell_type": "code",
   "execution_count": 13,
   "source": [
    "import tensorflow as tf\n",
    "import numpy as np\n",
    "#r1 = tf.keras.activations.relu()\n",
    "x = tf.Variable(np.array([1.,-1.,2.,-2.]))\n",
    "with tf.GradientTape() as tape:\n",
    "    y = tf.nn.relu(x)\n",
    "print(y)\n",
    "#x = np.array([1,-1,2,-2])\n",
    "#y = tf.keras.activations.relu(x).forward(x)\n",
    "#dx = r1.backward(np.array([-3,3,3,3]))\n",
    "x2 = tf.Variable(np.array([-3.,3.,3.,3.]))\n",
    "dx = tape.gradient(y, x)\n",
    "print(dx)"
   ],
   "outputs": [
    {
     "output_type": "stream",
     "name": "stdout",
     "text": [
      "tf.Tensor([1. 0. 2. 0.], shape=(4,), dtype=float64)\n",
      "tf.Tensor([1. 0. 1. 0.], shape=(4,), dtype=float64)\n"
     ]
    }
   ],
   "metadata": {}
  },
  {
   "cell_type": "code",
   "execution_count": 16,
   "source": [
    "class ReLU:\n",
    "    def __init__(self):\n",
    "        self.chk = None\n",
    " \n",
    "    def forward(self, x):\n",
    "        self.chk = (x>0).astype(np.int)\n",
    "        print(self.chk)\n",
    "        return x * self.chk\n",
    " \n",
    "    def backward(self, dout):\n",
    "        return dout * self.chk\n",
    "\n",
    "r1 = ReLU()\n",
    "x = np.array([1,-1,2,-2])\n",
    "y = r1.forward(x)\n",
    "print(y)\n",
    "dx = r1.backward(np.array([-3,3,3,3]))\n",
    "print(dx)"
   ],
   "outputs": [
    {
     "output_type": "stream",
     "name": "stdout",
     "text": [
      "[1 0 1 0]\n",
      "[1 0 2 0]\n",
      "[-3  0  3  0]\n"
     ]
    }
   ],
   "metadata": {}
  },
  {
   "cell_type": "code",
   "execution_count": 22,
   "source": [
    "import tensorflow as tf\n",
    "import numpy as np\n",
    "\n",
    "model = tf.keras.Sequential()\n",
    "model.add(tf.keras.layers.Input(shape=(28,28,3)))\n",
    "model.add(tf.keras.layers.Conv2D(6, (5,5), strides=1, padding='valid'))\n",
    "model.summary()"
   ],
   "outputs": [
    {
     "output_type": "stream",
     "name": "stdout",
     "text": [
      "WARNING:tensorflow:Please add `keras.layers.InputLayer` instead of `keras.Input` to Sequential model. `keras.Input` is intended to be used by Functional model.\n",
      "Model: \"sequential_5\"\n",
      "_________________________________________________________________\n",
      "Layer (type)                 Output Shape              Param #   \n",
      "=================================================================\n",
      "conv2d_4 (Conv2D)            (None, 24, 24, 6)         456       \n",
      "=================================================================\n",
      "Total params: 456\n",
      "Trainable params: 456\n",
      "Non-trainable params: 0\n",
      "_________________________________________________________________\n"
     ]
    }
   ],
   "metadata": {}
  },
  {
   "cell_type": "code",
   "execution_count": null,
   "source": [],
   "outputs": [],
   "metadata": {}
  }
 ],
 "metadata": {
  "orig_nbformat": 4,
  "language_info": {
   "name": "python",
   "version": "3.8.10",
   "mimetype": "text/x-python",
   "codemirror_mode": {
    "name": "ipython",
    "version": 3
   },
   "pygments_lexer": "ipython3",
   "nbconvert_exporter": "python",
   "file_extension": ".py"
  },
  "kernelspec": {
   "name": "python3",
   "display_name": "Python 3.8.10 64-bit ('base': conda)"
  },
  "interpreter": {
   "hash": "14c878ca9e09cb855c5aba830c5d56400199f035e888de3a1c3895cb2a489872"
  }
 },
 "nbformat": 4,
 "nbformat_minor": 2
}